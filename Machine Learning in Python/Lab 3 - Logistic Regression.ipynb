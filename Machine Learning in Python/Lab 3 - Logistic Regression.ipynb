{
 "cells": [
  {
   "cell_type": "markdown",
   "id": "fb5e8915",
   "metadata": {},
   "source": [
    "# CS 7324-400B: Lab Three - Extending Logistic Regression\n",
    "#### Fall 2023\n",
    "#### Author: Davis Vercher (49377022)"
   ]
  },
  {
   "cell_type": "markdown",
   "id": "f207765a",
   "metadata": {},
   "source": [
    "##### References & Citations\n",
    "- **Download Link:**\n",
    "    - https://www.kaggle.com/datasets/kaushiksuresh147/customer-segmentation\n",
    "- **Sources:** \n",
    "    - Analytics Vidhya webstie https://datahack.analyticsvidhya.com/contest/all/\n",
    "       - Analytics Vidhya is a datascience competition site. The Kaggle author does not cite the exact link to the original Analytics Vidhya competition in their Kaggle post, but rather just mentions that this dataset was a past competition on the Analytics Vidhya site."
   ]
  },
  {
   "cell_type": "markdown",
   "id": "0b0dd0e5",
   "metadata": {},
   "source": [
    "## 1. Preparation & Overview"
   ]
  },
  {
   "cell_type": "markdown",
   "id": "05a03b7f",
   "metadata": {},
   "source": [
    "### 1a. Task and Use Case\n",
    "I am using a dataset from a fictional car company that is launching in a new market. Using existing customer segmentation data from their live markets, this company has categorized a list of ~8,000 existing customers into four segments (labeled A, B, C, & D). These segments will be used in a deployed model in the new market that will help the car company predict what segment a new customer is in based on basic information they give to the company. This segmentation information could then be used for targeted marketing and incentives offered to increase the likelihood that that individual will buy a car. Ultimately, this will allow the car company to interact| with new customers in this new market as if they had already been operating in that market for years. This is an enormously valuable capability for the company.\n",
    "\n",
    "*Note:* As a digital marketing technology consultant, the client companies I work for are keenly interested in customer segmentation based on digital behaviors, and most have adopted robust AI-enabled segmentation tools that allow them to make quick (and accurate) assumptions about who a new individual customer is and what will drive them to spend with the company. "
   ]
  },
  {
   "cell_type": "markdown",
   "id": "2f04a670",
   "metadata": {},
   "source": [
    "### 1b. Define & Prepare Class Variables "
   ]
  },
  {
   "cell_type": "markdown",
   "id": "e9649b81",
   "metadata": {},
   "source": [
    "#### 1b1. Initial Investigation"
   ]
  },
  {
   "cell_type": "code",
   "execution_count": 1,
   "id": "96d1c0e3",
   "metadata": {},
   "outputs": [],
   "source": [
    "import pandas as pd"
   ]
  },
  {
   "cell_type": "code",
   "execution_count": 2,
   "id": "64589493",
   "metadata": {},
   "outputs": [
    {
     "name": "stdout",
     "output_type": "stream",
     "text": [
      "8068\n"
     ]
    },
    {
     "data": {
      "text/html": [
       "<div>\n",
       "<style scoped>\n",
       "    .dataframe tbody tr th:only-of-type {\n",
       "        vertical-align: middle;\n",
       "    }\n",
       "\n",
       "    .dataframe tbody tr th {\n",
       "        vertical-align: top;\n",
       "    }\n",
       "\n",
       "    .dataframe thead th {\n",
       "        text-align: right;\n",
       "    }\n",
       "</style>\n",
       "<table border=\"1\" class=\"dataframe\">\n",
       "  <thead>\n",
       "    <tr style=\"text-align: right;\">\n",
       "      <th></th>\n",
       "      <th>ID</th>\n",
       "      <th>Gender</th>\n",
       "      <th>Ever_Married</th>\n",
       "      <th>Age</th>\n",
       "      <th>Graduated</th>\n",
       "      <th>Profession</th>\n",
       "      <th>Work_Experience</th>\n",
       "      <th>Spending_Score</th>\n",
       "      <th>Family_Size</th>\n",
       "      <th>Var_1</th>\n",
       "      <th>Segmentation</th>\n",
       "    </tr>\n",
       "  </thead>\n",
       "  <tbody>\n",
       "    <tr>\n",
       "      <th>0</th>\n",
       "      <td>462809</td>\n",
       "      <td>Male</td>\n",
       "      <td>No</td>\n",
       "      <td>22</td>\n",
       "      <td>No</td>\n",
       "      <td>Healthcare</td>\n",
       "      <td>1.0</td>\n",
       "      <td>Low</td>\n",
       "      <td>4.0</td>\n",
       "      <td>Cat_4</td>\n",
       "      <td>D</td>\n",
       "    </tr>\n",
       "    <tr>\n",
       "      <th>1</th>\n",
       "      <td>462643</td>\n",
       "      <td>Female</td>\n",
       "      <td>Yes</td>\n",
       "      <td>38</td>\n",
       "      <td>Yes</td>\n",
       "      <td>Engineer</td>\n",
       "      <td>NaN</td>\n",
       "      <td>Average</td>\n",
       "      <td>3.0</td>\n",
       "      <td>Cat_4</td>\n",
       "      <td>A</td>\n",
       "    </tr>\n",
       "    <tr>\n",
       "      <th>2</th>\n",
       "      <td>466315</td>\n",
       "      <td>Female</td>\n",
       "      <td>Yes</td>\n",
       "      <td>67</td>\n",
       "      <td>Yes</td>\n",
       "      <td>Engineer</td>\n",
       "      <td>1.0</td>\n",
       "      <td>Low</td>\n",
       "      <td>1.0</td>\n",
       "      <td>Cat_6</td>\n",
       "      <td>B</td>\n",
       "    </tr>\n",
       "    <tr>\n",
       "      <th>3</th>\n",
       "      <td>461735</td>\n",
       "      <td>Male</td>\n",
       "      <td>Yes</td>\n",
       "      <td>67</td>\n",
       "      <td>Yes</td>\n",
       "      <td>Lawyer</td>\n",
       "      <td>0.0</td>\n",
       "      <td>High</td>\n",
       "      <td>2.0</td>\n",
       "      <td>Cat_6</td>\n",
       "      <td>B</td>\n",
       "    </tr>\n",
       "    <tr>\n",
       "      <th>4</th>\n",
       "      <td>462669</td>\n",
       "      <td>Female</td>\n",
       "      <td>Yes</td>\n",
       "      <td>40</td>\n",
       "      <td>Yes</td>\n",
       "      <td>Entertainment</td>\n",
       "      <td>NaN</td>\n",
       "      <td>High</td>\n",
       "      <td>6.0</td>\n",
       "      <td>Cat_6</td>\n",
       "      <td>A</td>\n",
       "    </tr>\n",
       "  </tbody>\n",
       "</table>\n",
       "</div>"
      ],
      "text/plain": [
       "       ID  Gender Ever_Married  Age Graduated     Profession  Work_Experience  \\\n",
       "0  462809    Male           No   22        No     Healthcare              1.0   \n",
       "1  462643  Female          Yes   38       Yes       Engineer              NaN   \n",
       "2  466315  Female          Yes   67       Yes       Engineer              1.0   \n",
       "3  461735    Male          Yes   67       Yes         Lawyer              0.0   \n",
       "4  462669  Female          Yes   40       Yes  Entertainment              NaN   \n",
       "\n",
       "  Spending_Score  Family_Size  Var_1 Segmentation  \n",
       "0            Low          4.0  Cat_4            D  \n",
       "1        Average          3.0  Cat_4            A  \n",
       "2            Low          1.0  Cat_6            B  \n",
       "3           High          2.0  Cat_6            B  \n",
       "4           High          6.0  Cat_6            A  "
      ]
     },
     "execution_count": 2,
     "metadata": {},
     "output_type": "execute_result"
    }
   ],
   "source": [
    "df = pd.read_csv('customer_segment_database.csv')\n",
    "print(len(df)); df.head()"
   ]
  },
  {
   "cell_type": "code",
   "execution_count": 3,
   "id": "e76e97db",
   "metadata": {},
   "outputs": [
    {
     "name": "stdout",
     "output_type": "stream",
     "text": [
      "ID                   int64\n",
      "Gender              object\n",
      "Ever_Married        object\n",
      "Age                  int64\n",
      "Graduated           object\n",
      "Profession          object\n",
      "Work_Experience    float64\n",
      "Spending_Score      object\n",
      "Family_Size        float64\n",
      "Var_1               object\n",
      "Segmentation        object\n",
      "dtype: object\n"
     ]
    }
   ],
   "source": [
    "print(df.dtypes)"
   ]
  },
  {
   "cell_type": "markdown",
   "id": "8db2b2ca",
   "metadata": {},
   "source": [
    "#### 1b2. Columns and definitions\n",
    "- **ID:** a unique customer ID number that is a six-digit integer\n",
    "- **Gender:** a binary classification for female and male\n",
    "- **Ever_Married:** a binary classification (yes/no) for if the individual has ever been married\n",
    "- **Age:** the age of the individual (as an integer)\n",
    "- **Graduated:** a binary classification (yes/no) for if the indvidual has graduated\n",
    "   -*Note:* It is not clear in the dataset what they have or have not graduated from (i.e., high school, )undergraduate, graduate, etc.\n",
    "- **Profession:** the profession of the individual, expressed as a string (i.e., \"Engineer\")\n",
    "- **Work_Experience:** the number of years of work experience the individual has (as a float)\n",
    "- **Spending_Score:** the spending range category the customer has been placed in (Low, Average, or High)\n",
    "- **Family_Size:** the number of people in the individual's family (including them). Expressed as a float.\n",
    "- **Var_1:** an unexplained external variable (this will be dropped due to a lack of documentation in the Kaggle post... I am not sure what this variable is).\n",
    "- **Segmentation:** what segment the individual belongs to. This is the target variable"
   ]
  },
  {
   "cell_type": "markdown",
   "id": "616410df",
   "metadata": {},
   "source": [
    "#### 1b3. Dropping Unecessary Columns\n",
    "I will drop the following column (with reasons as to why)\n",
    "- **Var_1:** Because it is not explained what this is, I am dropping this column. Even though I will be reducing the total information in the dataset by dropping this column, if 'Var_1' proves to be decisive in the creation of the model, I cannot draw any insights as to why without knowing anything about 'Var_1'"
   ]
  },
  {
   "cell_type": "code",
   "execution_count": 4,
   "id": "1901a5c6",
   "metadata": {},
   "outputs": [
    {
     "data": {
      "text/html": [
       "<div>\n",
       "<style scoped>\n",
       "    .dataframe tbody tr th:only-of-type {\n",
       "        vertical-align: middle;\n",
       "    }\n",
       "\n",
       "    .dataframe tbody tr th {\n",
       "        vertical-align: top;\n",
       "    }\n",
       "\n",
       "    .dataframe thead th {\n",
       "        text-align: right;\n",
       "    }\n",
       "</style>\n",
       "<table border=\"1\" class=\"dataframe\">\n",
       "  <thead>\n",
       "    <tr style=\"text-align: right;\">\n",
       "      <th></th>\n",
       "      <th>ID</th>\n",
       "      <th>Gender</th>\n",
       "      <th>Ever_Married</th>\n",
       "      <th>Age</th>\n",
       "      <th>Graduated</th>\n",
       "      <th>Profession</th>\n",
       "      <th>Work_Experience</th>\n",
       "      <th>Spending_Score</th>\n",
       "      <th>Family_Size</th>\n",
       "      <th>Segmentation</th>\n",
       "    </tr>\n",
       "  </thead>\n",
       "  <tbody>\n",
       "    <tr>\n",
       "      <th>0</th>\n",
       "      <td>462809</td>\n",
       "      <td>Male</td>\n",
       "      <td>No</td>\n",
       "      <td>22</td>\n",
       "      <td>No</td>\n",
       "      <td>Healthcare</td>\n",
       "      <td>1.0</td>\n",
       "      <td>Low</td>\n",
       "      <td>4.0</td>\n",
       "      <td>D</td>\n",
       "    </tr>\n",
       "    <tr>\n",
       "      <th>1</th>\n",
       "      <td>462643</td>\n",
       "      <td>Female</td>\n",
       "      <td>Yes</td>\n",
       "      <td>38</td>\n",
       "      <td>Yes</td>\n",
       "      <td>Engineer</td>\n",
       "      <td>NaN</td>\n",
       "      <td>Average</td>\n",
       "      <td>3.0</td>\n",
       "      <td>A</td>\n",
       "    </tr>\n",
       "    <tr>\n",
       "      <th>2</th>\n",
       "      <td>466315</td>\n",
       "      <td>Female</td>\n",
       "      <td>Yes</td>\n",
       "      <td>67</td>\n",
       "      <td>Yes</td>\n",
       "      <td>Engineer</td>\n",
       "      <td>1.0</td>\n",
       "      <td>Low</td>\n",
       "      <td>1.0</td>\n",
       "      <td>B</td>\n",
       "    </tr>\n",
       "    <tr>\n",
       "      <th>3</th>\n",
       "      <td>461735</td>\n",
       "      <td>Male</td>\n",
       "      <td>Yes</td>\n",
       "      <td>67</td>\n",
       "      <td>Yes</td>\n",
       "      <td>Lawyer</td>\n",
       "      <td>0.0</td>\n",
       "      <td>High</td>\n",
       "      <td>2.0</td>\n",
       "      <td>B</td>\n",
       "    </tr>\n",
       "    <tr>\n",
       "      <th>4</th>\n",
       "      <td>462669</td>\n",
       "      <td>Female</td>\n",
       "      <td>Yes</td>\n",
       "      <td>40</td>\n",
       "      <td>Yes</td>\n",
       "      <td>Entertainment</td>\n",
       "      <td>NaN</td>\n",
       "      <td>High</td>\n",
       "      <td>6.0</td>\n",
       "      <td>A</td>\n",
       "    </tr>\n",
       "  </tbody>\n",
       "</table>\n",
       "</div>"
      ],
      "text/plain": [
       "       ID  Gender Ever_Married  Age Graduated     Profession  Work_Experience  \\\n",
       "0  462809    Male           No   22        No     Healthcare              1.0   \n",
       "1  462643  Female          Yes   38       Yes       Engineer              NaN   \n",
       "2  466315  Female          Yes   67       Yes       Engineer              1.0   \n",
       "3  461735    Male          Yes   67       Yes         Lawyer              0.0   \n",
       "4  462669  Female          Yes   40       Yes  Entertainment              NaN   \n",
       "\n",
       "  Spending_Score  Family_Size Segmentation  \n",
       "0            Low          4.0            D  \n",
       "1        Average          3.0            A  \n",
       "2            Low          1.0            B  \n",
       "3           High          2.0            B  \n",
       "4           High          6.0            A  "
      ]
     },
     "execution_count": 4,
     "metadata": {},
     "output_type": "execute_result"
    }
   ],
   "source": [
    "df = df.drop(columns=['Var_1'])\n",
    "df.head()"
   ]
  },
  {
   "cell_type": "code",
   "execution_count": 5,
   "id": "f85f7d33",
   "metadata": {},
   "outputs": [
    {
     "name": "stdout",
     "output_type": "stream",
     "text": [
      "0\n"
     ]
    }
   ],
   "source": [
    "print(df.duplicated().sum())"
   ]
  },
  {
   "cell_type": "markdown",
   "id": "1a629565",
   "metadata": {},
   "source": [
    "Now that I know there are no duplicate rows (since each row has a unique identifier from the 'ID' column), I will now drop the ID column. If for some reason I needed to keep the information about unique individuals for later, I would not do so. However, since I do not need this information to train my classifier, I will drop this information."
   ]
  },
  {
   "cell_type": "code",
   "execution_count": 6,
   "id": "92770fe4",
   "metadata": {},
   "outputs": [
    {
     "data": {
      "text/html": [
       "<div>\n",
       "<style scoped>\n",
       "    .dataframe tbody tr th:only-of-type {\n",
       "        vertical-align: middle;\n",
       "    }\n",
       "\n",
       "    .dataframe tbody tr th {\n",
       "        vertical-align: top;\n",
       "    }\n",
       "\n",
       "    .dataframe thead th {\n",
       "        text-align: right;\n",
       "    }\n",
       "</style>\n",
       "<table border=\"1\" class=\"dataframe\">\n",
       "  <thead>\n",
       "    <tr style=\"text-align: right;\">\n",
       "      <th></th>\n",
       "      <th>Gender</th>\n",
       "      <th>Ever_Married</th>\n",
       "      <th>Age</th>\n",
       "      <th>Graduated</th>\n",
       "      <th>Profession</th>\n",
       "      <th>Work_Experience</th>\n",
       "      <th>Spending_Score</th>\n",
       "      <th>Family_Size</th>\n",
       "      <th>Segmentation</th>\n",
       "    </tr>\n",
       "  </thead>\n",
       "  <tbody>\n",
       "    <tr>\n",
       "      <th>0</th>\n",
       "      <td>Male</td>\n",
       "      <td>No</td>\n",
       "      <td>22</td>\n",
       "      <td>No</td>\n",
       "      <td>Healthcare</td>\n",
       "      <td>1.0</td>\n",
       "      <td>Low</td>\n",
       "      <td>4.0</td>\n",
       "      <td>D</td>\n",
       "    </tr>\n",
       "    <tr>\n",
       "      <th>1</th>\n",
       "      <td>Female</td>\n",
       "      <td>Yes</td>\n",
       "      <td>38</td>\n",
       "      <td>Yes</td>\n",
       "      <td>Engineer</td>\n",
       "      <td>NaN</td>\n",
       "      <td>Average</td>\n",
       "      <td>3.0</td>\n",
       "      <td>A</td>\n",
       "    </tr>\n",
       "    <tr>\n",
       "      <th>2</th>\n",
       "      <td>Female</td>\n",
       "      <td>Yes</td>\n",
       "      <td>67</td>\n",
       "      <td>Yes</td>\n",
       "      <td>Engineer</td>\n",
       "      <td>1.0</td>\n",
       "      <td>Low</td>\n",
       "      <td>1.0</td>\n",
       "      <td>B</td>\n",
       "    </tr>\n",
       "    <tr>\n",
       "      <th>3</th>\n",
       "      <td>Male</td>\n",
       "      <td>Yes</td>\n",
       "      <td>67</td>\n",
       "      <td>Yes</td>\n",
       "      <td>Lawyer</td>\n",
       "      <td>0.0</td>\n",
       "      <td>High</td>\n",
       "      <td>2.0</td>\n",
       "      <td>B</td>\n",
       "    </tr>\n",
       "    <tr>\n",
       "      <th>4</th>\n",
       "      <td>Female</td>\n",
       "      <td>Yes</td>\n",
       "      <td>40</td>\n",
       "      <td>Yes</td>\n",
       "      <td>Entertainment</td>\n",
       "      <td>NaN</td>\n",
       "      <td>High</td>\n",
       "      <td>6.0</td>\n",
       "      <td>A</td>\n",
       "    </tr>\n",
       "  </tbody>\n",
       "</table>\n",
       "</div>"
      ],
      "text/plain": [
       "   Gender Ever_Married  Age Graduated     Profession  Work_Experience  \\\n",
       "0    Male           No   22        No     Healthcare              1.0   \n",
       "1  Female          Yes   38       Yes       Engineer              NaN   \n",
       "2  Female          Yes   67       Yes       Engineer              1.0   \n",
       "3    Male          Yes   67       Yes         Lawyer              0.0   \n",
       "4  Female          Yes   40       Yes  Entertainment              NaN   \n",
       "\n",
       "  Spending_Score  Family_Size Segmentation  \n",
       "0            Low          4.0            D  \n",
       "1        Average          3.0            A  \n",
       "2            Low          1.0            B  \n",
       "3           High          2.0            B  \n",
       "4           High          6.0            A  "
      ]
     },
     "execution_count": 6,
     "metadata": {},
     "output_type": "execute_result"
    }
   ],
   "source": [
    "df = df.drop(columns=['ID'])\n",
    "df.head()"
   ]
  },
  {
   "cell_type": "markdown",
   "id": "10942e52",
   "metadata": {},
   "source": [
    "#### 1b4. Handling Null Values"
   ]
  },
  {
   "cell_type": "markdown",
   "id": "00530a15",
   "metadata": {},
   "source": [
    "Because there are zero duplicated entires, we can move on to evaluating null values column by column."
   ]
  },
  {
   "cell_type": "code",
   "execution_count": 7,
   "id": "a3794528",
   "metadata": {},
   "outputs": [
    {
     "name": "stdout",
     "output_type": "stream",
     "text": [
      "Gender               0\n",
      "Ever_Married       140\n",
      "Age                  0\n",
      "Graduated           78\n",
      "Profession         124\n",
      "Work_Experience    829\n",
      "Spending_Score       0\n",
      "Family_Size        335\n",
      "Segmentation         0\n",
      "dtype: int64\n"
     ]
    }
   ],
   "source": [
    "sum_nan = df.isna().sum()\n",
    "print(sum_nan)"
   ]
  },
  {
   "cell_type": "markdown",
   "id": "a2acd5ab",
   "metadata": {},
   "source": [
    "I'll first visualize the missing values:"
   ]
  },
  {
   "cell_type": "code",
   "execution_count": 8,
   "id": "64519c21",
   "metadata": {},
   "outputs": [
    {
     "data": {
      "image/png": "[encoded data removed]",
      "text/plain": [
       "<Figure size 2500x1000 with 2 Axes>"
      ]
     },
     "metadata": {},
     "output_type": "display_data"
    }
   ],
   "source": [
    "import missingno as mn\n",
    "import matplotlib.pyplot as plt\n",
    "%matplotlib inline\n",
    "\n",
    "mn.matrix(df)\n",
    "plt.title(\"Not Sorted\", fontsize=22)\n",
    "plt.show()"
   ]
  },
  {
   "cell_type": "markdown",
   "id": "550d745d",
   "metadata": {},
   "source": [
    "It appears that there is not a significant amount of entries with null values for Ever_Married, Graduated, Profession, adn Family_Size, so I will delete the entries with null values in any of those columns."
   ]
  },
  {
   "cell_type": "code",
   "execution_count": 9,
   "id": "10f53cd5",
   "metadata": {},
   "outputs": [
    {
     "data": {
      "image/png": "[encoded data removed]",
      "text/plain": [
       "<Figure size 2500x1000 with 2 Axes>"
      ]
     },
     "metadata": {},
     "output_type": "display_data"
    }
   ],
   "source": [
    "df.dropna(subset=['Ever_Married', 'Graduated', 'Profession', 'Family_Size'], inplace=True)\n",
    "\n",
    "mn.matrix(df)\n",
    "plt.title(\"Not Sorted\", fontsize=22)\n",
    "plt.show()"
   ]
  },
  {
   "cell_type": "markdown",
   "id": "d6e27bbb",
   "metadata": {},
   "source": [
    "With nearly ten percent of the remaining entries having a null value Work_Experience, I am hestitant to drop every row with a null value in that column. However, because the number of years of work experience could vary realistically between 0 and 50 years, and because there is no way to realistically impute this value from the other data in the other columns, I am choosing to drop these null entries."
   ]
  },
  {
   "cell_type": "code",
   "execution_count": 10,
   "id": "a177bf27",
   "metadata": {},
   "outputs": [
    {
     "name": "stdout",
     "output_type": "stream",
     "text": [
      "Gender             0\n",
      "Ever_Married       0\n",
      "Age                0\n",
      "Graduated          0\n",
      "Profession         0\n",
      "Work_Experience    0\n",
      "Spending_Score     0\n",
      "Family_Size        0\n",
      "Segmentation       0\n",
      "dtype: int64\n"
     ]
    }
   ],
   "source": [
    "df = df.dropna(subset=['Work_Experience'])\n",
    "df = df.reset_index(drop=True)\n",
    "print(df.isna().sum())"
   ]
  },
  {
   "cell_type": "markdown",
   "id": "07c68dde",
   "metadata": {},
   "source": [
    "#### 1b5. Optimizing Datatypes"
   ]
  },
  {
   "cell_type": "markdown",
   "id": "e413d543",
   "metadata": {},
   "source": [
    "Before I begin changing datatypes and one-hot-encoding, I will separate out my target column ('Segmentation') from the rest of the df. This way, I can more easily change the dtypes of the remaining 'X' columns."
   ]
  },
  {
   "cell_type": "code",
   "execution_count": 11,
   "id": "6e7e7f66",
   "metadata": {},
   "outputs": [],
   "source": [
    "y = df['Segmentation']\n",
    "X = df.drop(['Segmentation'], axis=1)"
   ]
  },
  {
   "cell_type": "code",
   "execution_count": 12,
   "id": "9d4cc038",
   "metadata": {},
   "outputs": [
    {
     "name": "stdout",
     "output_type": "stream",
     "text": [
      "Gender              object\n",
      "Ever_Married        object\n",
      "Age                  int64\n",
      "Graduated           object\n",
      "Profession          object\n",
      "Work_Experience    float64\n",
      "Spending_Score      object\n",
      "Family_Size        float64\n",
      "dtype: object\n"
     ]
    }
   ],
   "source": [
    "print(X.dtypes)"
   ]
  },
  {
   "cell_type": "code",
   "execution_count": 13,
   "id": "554c51de",
   "metadata": {},
   "outputs": [
    {
     "data": {
      "text/html": [
       "<div>\n",
       "<style scoped>\n",
       "    .dataframe tbody tr th:only-of-type {\n",
       "        vertical-align: middle;\n",
       "    }\n",
       "\n",
       "    .dataframe tbody tr th {\n",
       "        vertical-align: top;\n",
       "    }\n",
       "\n",
       "    .dataframe thead th {\n",
       "        text-align: right;\n",
       "    }\n",
       "</style>\n",
       "<table border=\"1\" class=\"dataframe\">\n",
       "  <thead>\n",
       "    <tr style=\"text-align: right;\">\n",
       "      <th></th>\n",
       "      <th>Gender</th>\n",
       "      <th>Ever_Married</th>\n",
       "      <th>Age</th>\n",
       "      <th>Graduated</th>\n",
       "      <th>Profession</th>\n",
       "      <th>Work_Experience</th>\n",
       "      <th>Spending_Score</th>\n",
       "      <th>Family_Size</th>\n",
       "    </tr>\n",
       "  </thead>\n",
       "  <tbody>\n",
       "    <tr>\n",
       "      <th>0</th>\n",
       "      <td>Male</td>\n",
       "      <td>No</td>\n",
       "      <td>22</td>\n",
       "      <td>No</td>\n",
       "      <td>Healthcare</td>\n",
       "      <td>1.0</td>\n",
       "      <td>Low</td>\n",
       "      <td>4.0</td>\n",
       "    </tr>\n",
       "    <tr>\n",
       "      <th>1</th>\n",
       "      <td>Female</td>\n",
       "      <td>Yes</td>\n",
       "      <td>67</td>\n",
       "      <td>Yes</td>\n",
       "      <td>Engineer</td>\n",
       "      <td>1.0</td>\n",
       "      <td>Low</td>\n",
       "      <td>1.0</td>\n",
       "    </tr>\n",
       "    <tr>\n",
       "      <th>2</th>\n",
       "      <td>Male</td>\n",
       "      <td>Yes</td>\n",
       "      <td>67</td>\n",
       "      <td>Yes</td>\n",
       "      <td>Lawyer</td>\n",
       "      <td>0.0</td>\n",
       "      <td>High</td>\n",
       "      <td>2.0</td>\n",
       "    </tr>\n",
       "    <tr>\n",
       "      <th>3</th>\n",
       "      <td>Male</td>\n",
       "      <td>Yes</td>\n",
       "      <td>56</td>\n",
       "      <td>No</td>\n",
       "      <td>Artist</td>\n",
       "      <td>0.0</td>\n",
       "      <td>Average</td>\n",
       "      <td>2.0</td>\n",
       "    </tr>\n",
       "    <tr>\n",
       "      <th>4</th>\n",
       "      <td>Male</td>\n",
       "      <td>No</td>\n",
       "      <td>32</td>\n",
       "      <td>Yes</td>\n",
       "      <td>Healthcare</td>\n",
       "      <td>1.0</td>\n",
       "      <td>Low</td>\n",
       "      <td>3.0</td>\n",
       "    </tr>\n",
       "  </tbody>\n",
       "</table>\n",
       "</div>"
      ],
      "text/plain": [
       "   Gender Ever_Married  Age Graduated  Profession  Work_Experience  \\\n",
       "0    Male           No   22        No  Healthcare              1.0   \n",
       "1  Female          Yes   67       Yes    Engineer              1.0   \n",
       "2    Male          Yes   67       Yes      Lawyer              0.0   \n",
       "3    Male          Yes   56        No      Artist              0.0   \n",
       "4    Male           No   32       Yes  Healthcare              1.0   \n",
       "\n",
       "  Spending_Score  Family_Size  \n",
       "0            Low          4.0  \n",
       "1            Low          1.0  \n",
       "2           High          2.0  \n",
       "3        Average          2.0  \n",
       "4            Low          3.0  "
      ]
     },
     "execution_count": 13,
     "metadata": {},
     "output_type": "execute_result"
    }
   ],
   "source": [
    "X.head()"
   ]
  },
  {
   "cell_type": "code",
   "execution_count": 14,
   "id": "2e193931",
   "metadata": {},
   "outputs": [],
   "source": [
    "X['Gender'] = X['Gender'].map({'Female': 0, 'Male': 1})\n",
    "X['Ever_Married'] = X['Ever_Married'].map({'No': 0, 'Yes': 1})\n",
    "X['Graduated'] = X['Graduated'].map({'No': 0, 'Yes': 1})\n",
    "\n",
    "X['Work_Experience'] = X['Work_Experience'].astype(int, errors='ignore')\n",
    "X['Family_Size'] = X['Family_Size'].astype(int, errors='ignore')\n",
    "\n",
    "X = pd.get_dummies(X, columns=['Profession', 'Spending_Score'], drop_first=False).astype(int)\n",
    "#I am deliberately not using implicit coding with these one-hot-encodings for simplicity"
   ]
  },
  {
   "cell_type": "code",
   "execution_count": 15,
   "id": "31200d66",
   "metadata": {},
   "outputs": [
    {
     "name": "stdout",
     "output_type": "stream",
     "text": [
      "Gender                      int32\n",
      "Ever_Married                int32\n",
      "Age                         int32\n",
      "Graduated                   int32\n",
      "Work_Experience             int32\n",
      "Family_Size                 int32\n",
      "Profession_Artist           int32\n",
      "Profession_Doctor           int32\n",
      "Profession_Engineer         int32\n",
      "Profession_Entertainment    int32\n",
      "Profession_Executive        int32\n",
      "Profession_Healthcare       int32\n",
      "Profession_Homemaker        int32\n",
      "Profession_Lawyer           int32\n",
      "Profession_Marketing        int32\n",
      "Spending_Score_Average      int32\n",
      "Spending_Score_High         int32\n",
      "Spending_Score_Low          int32\n",
      "dtype: object\n"
     ]
    }
   ],
   "source": [
    "print(X.dtypes)"
   ]
  },
  {
   "cell_type": "code",
   "execution_count": 16,
   "id": "bfa39c85",
   "metadata": {},
   "outputs": [
    {
     "data": {
      "text/html": [
       "<div>\n",
       "<style scoped>\n",
       "    .dataframe tbody tr th:only-of-type {\n",
       "        vertical-align: middle;\n",
       "    }\n",
       "\n",
       "    .dataframe tbody tr th {\n",
       "        vertical-align: top;\n",
       "    }\n",
       "\n",
       "    .dataframe thead th {\n",
       "        text-align: right;\n",
       "    }\n",
       "</style>\n",
       "<table border=\"1\" class=\"dataframe\">\n",
       "  <thead>\n",
       "    <tr style=\"text-align: right;\">\n",
       "      <th></th>\n",
       "      <th>Gender</th>\n",
       "      <th>Ever_Married</th>\n",
       "      <th>Age</th>\n",
       "      <th>Graduated</th>\n",
       "      <th>Work_Experience</th>\n",
       "      <th>Family_Size</th>\n",
       "      <th>Profession_Artist</th>\n",
       "      <th>Profession_Doctor</th>\n",
       "      <th>Profession_Engineer</th>\n",
       "      <th>Profession_Entertainment</th>\n",
       "      <th>Profession_Executive</th>\n",
       "      <th>Profession_Healthcare</th>\n",
       "      <th>Profession_Homemaker</th>\n",
       "      <th>Profession_Lawyer</th>\n",
       "      <th>Profession_Marketing</th>\n",
       "      <th>Spending_Score_Average</th>\n",
       "      <th>Spending_Score_High</th>\n",
       "      <th>Spending_Score_Low</th>\n",
       "    </tr>\n",
       "  </thead>\n",
       "  <tbody>\n",
       "    <tr>\n",
       "      <th>0</th>\n",
       "      <td>1</td>\n",
       "      <td>0</td>\n",
       "      <td>22</td>\n",
       "      <td>0</td>\n",
       "      <td>1</td>\n",
       "      <td>4</td>\n",
       "      <td>0</td>\n",
       "      <td>0</td>\n",
       "      <td>0</td>\n",
       "      <td>0</td>\n",
       "      <td>0</td>\n",
       "      <td>1</td>\n",
       "      <td>0</td>\n",
       "      <td>0</td>\n",
       "      <td>0</td>\n",
       "      <td>0</td>\n",
       "      <td>0</td>\n",
       "      <td>1</td>\n",
       "    </tr>\n",
       "    <tr>\n",
       "      <th>1</th>\n",
       "      <td>0</td>\n",
       "      <td>1</td>\n",
       "      <td>67</td>\n",
       "      <td>1</td>\n",
       "      <td>1</td>\n",
       "      <td>1</td>\n",
       "      <td>0</td>\n",
       "      <td>0</td>\n",
       "      <td>1</td>\n",
       "      <td>0</td>\n",
       "      <td>0</td>\n",
       "      <td>0</td>\n",
       "      <td>0</td>\n",
       "      <td>0</td>\n",
       "      <td>0</td>\n",
       "      <td>0</td>\n",
       "      <td>0</td>\n",
       "      <td>1</td>\n",
       "    </tr>\n",
       "    <tr>\n",
       "      <th>2</th>\n",
       "      <td>1</td>\n",
       "      <td>1</td>\n",
       "      <td>67</td>\n",
       "      <td>1</td>\n",
       "      <td>0</td>\n",
       "      <td>2</td>\n",
       "      <td>0</td>\n",
       "      <td>0</td>\n",
       "      <td>0</td>\n",
       "      <td>0</td>\n",
       "      <td>0</td>\n",
       "      <td>0</td>\n",
       "      <td>0</td>\n",
       "      <td>1</td>\n",
       "      <td>0</td>\n",
       "      <td>0</td>\n",
       "      <td>1</td>\n",
       "      <td>0</td>\n",
       "    </tr>\n",
       "    <tr>\n",
       "      <th>3</th>\n",
       "      <td>1</td>\n",
       "      <td>1</td>\n",
       "      <td>56</td>\n",
       "      <td>0</td>\n",
       "      <td>0</td>\n",
       "      <td>2</td>\n",
       "      <td>1</td>\n",
       "      <td>0</td>\n",
       "      <td>0</td>\n",
       "      <td>0</td>\n",
       "      <td>0</td>\n",
       "      <td>0</td>\n",
       "      <td>0</td>\n",
       "      <td>0</td>\n",
       "      <td>0</td>\n",
       "      <td>1</td>\n",
       "      <td>0</td>\n",
       "      <td>0</td>\n",
       "    </tr>\n",
       "    <tr>\n",
       "      <th>4</th>\n",
       "      <td>1</td>\n",
       "      <td>0</td>\n",
       "      <td>32</td>\n",
       "      <td>1</td>\n",
       "      <td>1</td>\n",
       "      <td>3</td>\n",
       "      <td>0</td>\n",
       "      <td>0</td>\n",
       "      <td>0</td>\n",
       "      <td>0</td>\n",
       "      <td>0</td>\n",
       "      <td>1</td>\n",
       "      <td>0</td>\n",
       "      <td>0</td>\n",
       "      <td>0</td>\n",
       "      <td>0</td>\n",
       "      <td>0</td>\n",
       "      <td>1</td>\n",
       "    </tr>\n",
       "  </tbody>\n",
       "</table>\n",
       "</div>"
      ],
      "text/plain": [
       "   Gender  Ever_Married  Age  Graduated  Work_Experience  Family_Size  \\\n",
       "0       1             0   22          0                1            4   \n",
       "1       0             1   67          1                1            1   \n",
       "2       1             1   67          1                0            2   \n",
       "3       1             1   56          0                0            2   \n",
       "4       1             0   32          1                1            3   \n",
       "\n",
       "   Profession_Artist  Profession_Doctor  Profession_Engineer  \\\n",
       "0                  0                  0                    0   \n",
       "1                  0                  0                    1   \n",
       "2                  0                  0                    0   \n",
       "3                  1                  0                    0   \n",
       "4                  0                  0                    0   \n",
       "\n",
       "   Profession_Entertainment  Profession_Executive  Profession_Healthcare  \\\n",
       "0                         0                     0                      1   \n",
       "1                         0                     0                      0   \n",
       "2                         0                     0                      0   \n",
       "3                         0                     0                      0   \n",
       "4                         0                     0                      1   \n",
       "\n",
       "   Profession_Homemaker  Profession_Lawyer  Profession_Marketing  \\\n",
       "0                     0                  0                     0   \n",
       "1                     0                  0                     0   \n",
       "2                     0                  1                     0   \n",
       "3                     0                  0                     0   \n",
       "4                     0                  0                     0   \n",
       "\n",
       "   Spending_Score_Average  Spending_Score_High  Spending_Score_Low  \n",
       "0                       0                    0                   1  \n",
       "1                       0                    0                   1  \n",
       "2                       0                    1                   0  \n",
       "3                       1                    0                   0  \n",
       "4                       0                    0                   1  "
      ]
     },
     "execution_count": 16,
     "metadata": {},
     "output_type": "execute_result"
    }
   ],
   "source": [
    "X.head()"
   ]
  },
  {
   "cell_type": "markdown",
   "id": "65f37a7d",
   "metadata": {},
   "source": [
    "I have now made the following dtypes changes:\n",
    "- Changed the binary categories (Gender, Ever_Married, and Graduated) to integer binary values (0 or 1)\n",
    "- Changed the numeric values for Work_Experience and Family_Size from floats to integers\n",
    "- One-hot-encoded the categorical columns (Profession, Spending_Score, & Segmentation) into integer boolean values"
   ]
  },
  {
   "cell_type": "markdown",
   "id": "0859904b",
   "metadata": {},
   "source": [
    "#### 1b6. Post Preprocessing Breakdown"
   ]
  },
  {
   "cell_type": "code",
   "execution_count": 17,
   "id": "9af4087f",
   "metadata": {},
   "outputs": [
    {
     "name": "stdout",
     "output_type": "stream",
     "text": [
      "            Gender  Ever_Married          Age    Graduated  Work_Experience  \\\n",
      "count  6718.000000   6718.000000  6718.000000  6718.000000      6718.000000   \n",
      "mean      0.551057      0.591694    43.524263     0.636797         2.629652   \n",
      "std       0.497423      0.491557    16.513115     0.480959         3.404639   \n",
      "min       0.000000      0.000000    18.000000     0.000000         0.000000   \n",
      "25%       0.000000      0.000000    31.000000     0.000000         0.000000   \n",
      "50%       1.000000      1.000000    41.000000     1.000000         1.000000   \n",
      "75%       1.000000      1.000000    53.000000     1.000000         4.000000   \n",
      "max       1.000000      1.000000    89.000000     1.000000        14.000000   \n",
      "\n",
      "       Family_Size  Profession_Artist  Profession_Doctor  Profession_Engineer  \\\n",
      "count  6718.000000        6718.000000        6718.000000          6718.000000   \n",
      "mean      2.841768           0.329116           0.088419             0.087228   \n",
      "std       1.523319           0.469927           0.283925             0.282190   \n",
      "min       1.000000           0.000000           0.000000             0.000000   \n",
      "25%       2.000000           0.000000           0.000000             0.000000   \n",
      "50%       2.000000           0.000000           0.000000             0.000000   \n",
      "75%       4.000000           1.000000           0.000000             0.000000   \n",
      "max       9.000000           1.000000           1.000000             1.000000   \n",
      "\n",
      "       Profession_Entertainment  Profession_Executive  Profession_Healthcare  \\\n",
      "count               6718.000000           6718.000000            6718.000000   \n",
      "mean                   0.121316              0.075767               0.162102   \n",
      "std                    0.326518              0.264644               0.368572   \n",
      "min                    0.000000              0.000000               0.000000   \n",
      "25%                    0.000000              0.000000               0.000000   \n",
      "50%                    0.000000              0.000000               0.000000   \n",
      "75%                    0.000000              0.000000               0.000000   \n",
      "max                    1.000000              1.000000               1.000000   \n",
      "\n",
      "       Profession_Homemaker  Profession_Lawyer  Profession_Marketing  \\\n",
      "count           6718.000000        6718.000000           6718.000000   \n",
      "mean               0.026496           0.074873              0.034683   \n",
      "std                0.160617           0.263207              0.182989   \n",
      "min                0.000000           0.000000              0.000000   \n",
      "25%                0.000000           0.000000              0.000000   \n",
      "50%                0.000000           0.000000              0.000000   \n",
      "75%                0.000000           0.000000              0.000000   \n",
      "max                1.000000           1.000000              1.000000   \n",
      "\n",
      "       Spending_Score_Average  Spending_Score_High  Spending_Score_Low  \n",
      "count             6718.000000          6718.000000         6718.000000  \n",
      "mean                 0.249628             0.150640            0.599732  \n",
      "std                  0.432830             0.357724            0.489989  \n",
      "min                  0.000000             0.000000            0.000000  \n",
      "25%                  0.000000             0.000000            0.000000  \n",
      "50%                  0.000000             0.000000            1.000000  \n",
      "75%                  0.000000             0.000000            1.000000  \n",
      "max                  1.000000             1.000000            1.000000  \n"
     ]
    }
   ],
   "source": [
    "pd.set_option('display.max_columns', None)\n",
    "print(X.describe())\n",
    "pd.reset_option('display.max_columns')"
   ]
  },
  {
   "cell_type": "markdown",
   "id": "e97e05c8",
   "metadata": {},
   "source": [
    "***Key takeaways from X:***\n",
    "- **Gender:** ~55% of the individuals in the data are male\n",
    "- **Ever_Married:** ~59% of individuals are or have been married\n",
    "- **Age:**\n",
    "   - The average age is 43\n",
    "   - The minimum age is 18\n",
    "   - The maximum age is 89\n",
    "- **Work_Experience:**\n",
    "   - The average length of work experience is 2.63 years\n",
    "   - The longest length of work experience is 14 years\n",
    "- **Professions:** Each profession has the following percentage of the data:\n",
    "   - Artist: 32.9%\n",
    "   - Doctor: 8.8%\n",
    "   - Engineer: 8.7%\n",
    "   - Entertainment: 12.1%\n",
    "   - Executive: 7.6%\n",
    "   - Healthcare: 16.2%\n",
    "   - Homemaker: 2.6%\n",
    "   - Lawyer: 7.5%\n",
    "   - Marketing: 3.5%\n",
    "- **Spending_Score:** Each spending score bucket has the following percentage of the data:\n",
    "   - Low: 60.0%\n",
    "   - Average: 25.0%\n",
    "   - High: 15.0%"
   ]
  },
  {
   "cell_type": "code",
   "execution_count": 18,
   "id": "d37b4265",
   "metadata": {},
   "outputs": [
    {
     "data": {
      "text/plain": [
       "Segmentation\n",
       "D    1772\n",
       "C    1735\n",
       "A    1628\n",
       "B    1583\n",
       "Name: count, dtype: int64"
      ]
     },
     "execution_count": 18,
     "metadata": {},
     "output_type": "execute_result"
    }
   ],
   "source": [
    "y.value_counts()"
   ]
  },
  {
   "cell_type": "markdown",
   "id": "c3393cac",
   "metadata": {},
   "source": [
    "*Key takeaways from y:*\n",
    "- Each of the four output categories are relatively equal in size, and command approximatley 25% of the dataset each"
   ]
  },
  {
   "cell_type": "markdown",
   "id": "5283e3cf",
   "metadata": {},
   "source": [
    "### 1c. Divide Data (Train / Test Split)"
   ]
  },
  {
   "cell_type": "code",
   "execution_count": 19,
   "id": "d270a216",
   "metadata": {},
   "outputs": [],
   "source": [
    "from sklearn.model_selection import cross_val_score\n",
    "from sklearn.linear_model import LogisticRegression"
   ]
  },
  {
   "cell_type": "code",
   "execution_count": 20,
   "id": "c05c22f8",
   "metadata": {},
   "outputs": [],
   "source": [
    "model = LogisticRegression(multi_class='multinomial', solver='lbfgs', max_iter=10000, random_state=17)"
   ]
  },
  {
   "cell_type": "code",
   "execution_count": 21,
   "id": "c1ae5370",
   "metadata": {},
   "outputs": [
    {
     "name": "stdout",
     "output_type": "stream",
     "text": [
      "Fold 1: 0.5231\n",
      "Fold 2: 0.5126\n",
      "Fold 3: 0.5126\n",
      "Fold 4: 0.5138\n",
      "Fold 5: 0.5078\n"
     ]
    }
   ],
   "source": [
    "# 5 folds (simulated 80/20 split)\n",
    "scores = cross_val_score(model, X, y, cv=5)\n",
    "\n",
    "for i, score in enumerate(scores, 1):\n",
    "    print(f\"Fold {i}: {score:.4f}\")"
   ]
  },
  {
   "cell_type": "code",
   "execution_count": 22,
   "id": "5228c61e",
   "metadata": {},
   "outputs": [
    {
     "name": "stdout",
     "output_type": "stream",
     "text": [
      "Fold 1: 0.5201\n",
      "Fold 2: 0.5078\n",
      "Fold 3: 0.5087\n"
     ]
    }
   ],
   "source": [
    "# 3 folds (simulated 66/33 split)\n",
    "scores = cross_val_score(model, X, y, cv=3)\n",
    "\n",
    "for i, score in enumerate(scores, 1):\n",
    "    print(f\"Fold {i}: {score:.4f}\")"
   ]
  },
  {
   "cell_type": "code",
   "execution_count": 23,
   "id": "b5194a47",
   "metadata": {},
   "outputs": [
    {
     "name": "stdout",
     "output_type": "stream",
     "text": [
      "Fold 1: 0.5149\n",
      "Fold 2: 0.5372\n",
      "Fold 3: 0.5223\n",
      "Fold 4: 0.5208\n",
      "Fold 5: 0.5223\n",
      "Fold 6: 0.5015\n",
      "Fold 7: 0.5015\n",
      "Fold 8: 0.5298\n",
      "Fold 9: 0.4933\n",
      "Fold 10: 0.5320\n"
     ]
    }
   ],
   "source": [
    "# 10 folds (simulated 90/10 split)\n",
    "scores = cross_val_score(model, X, y, cv=10)\n",
    "\n",
    "for i, score in enumerate(scores, 1):\n",
    "    print(f\"Fold {i}: {score:.4f}\")"
   ]
  },
  {
   "cell_type": "markdown",
   "id": "080d2d98",
   "metadata": {},
   "source": [
    "The accuracy scores for simulated 80/20, 66/33, and 90/10 splits are all relativley similar (~50%). I cannot determine definitively which kind of split would be best suited for my purposes.\n",
    "\n",
    "- Arguments for 80/20 split:\n",
    "   - Common \"default\" convention is an 80/20 split\n",
    "   - Splitting my data 80/20 yields 5,374 training rows and 1,344 test rows. This is a sizeable enough group for both categories to provide ample training and testing.\n",
    "   - All three simulated split sizes above using cross-validation scores yielded relativley the same result. With 4 output classes of equal size (each of the four segments owns roughly 25% of the dataset), a 50% score seen from cross-validation means that the basic model is more accurate than random guess -- which would be around 25% accurate). This means that it would not be advantageous to use a different split than 80/20.\n",
    "\n",
    "- Arguments against 80/20 split:\n",
    "   - If my dataset was not split relatively equally between the four target classes, an 80/20 split without any additional processing to equalize the classes could result in skewed results\n",
    "   - An 80/20 split may prove to be unable to minimize overfitting if the nature of my dataset requires a more equal split (i.e., 60/40 or 70/30)"
   ]
  },
  {
   "cell_type": "markdown",
   "id": "abe0243d",
   "metadata": {},
   "source": [
    "## 2. Modeling"
   ]
  },
  {
   "cell_type": "markdown",
   "id": "763c4ad1",
   "metadata": {},
   "source": [
    "### 2a. Custom one-versus-all logistic regression classifier"
   ]
  },
  {
   "cell_type": "markdown",
   "id": "b1da4094",
   "metadata": {},
   "source": [
    "#### 2a1. Template from instructor\n",
    "Credit for the below templates:\n",
    "- https://github.com/eclarson/MachineLearningNotebooks/blob/master/05.%20Logistic%20Regression.ipynb\n",
    "- https://github.com/eclarson/MachineLearningNotebooks/blob/master/06.%20Optimization.ipynb"
   ]
  },
  {
   "cell_type": "code",
   "execution_count": 24,
   "id": "a37a8166",
   "metadata": {},
   "outputs": [],
   "source": [
    "from sklearn.model_selection import train_test_split\n",
    "from sklearn.metrics import accuracy_score\n",
    "import numpy as np\n",
    "from scipy.special import expit"
   ]
  },
  {
   "cell_type": "code",
   "execution_count": 25,
   "id": "8da0459c",
   "metadata": {},
   "outputs": [],
   "source": [
    "class BinaryLogisticRegressionBase:\n",
    "    # private:\n",
    "    def __init__(self, eta, iterations=20):\n",
    "        self.eta = eta\n",
    "        self.iters = iterations\n",
    "        # internally we will store the weights as self.w_ to keep with sklearn conventions\n",
    "    \n",
    "    def __str__(self):\n",
    "        return 'Base Binary Logistic Regression Object, Not Trainable'\n",
    "    \n",
    "    # convenience, private and static:\n",
    "    @staticmethod\n",
    "    def _sigmoid(theta):\n",
    "        return 1/(1+np.exp(-theta)) \n",
    "    \n",
    "    @staticmethod\n",
    "    def _add_intercept(X):\n",
    "        return np.hstack((np.ones((X.shape[0],1)),X)) # add bias term\n",
    "    \n",
    "    # public:\n",
    "    def predict_proba(self, X, add_intercept=True):\n",
    "        # add bias term if requested\n",
    "        Xb = self._add_intercept(X) if add_intercept else X\n",
    "        return self._sigmoid(Xb @ self.w_) # return the probability y=1\n",
    "    \n",
    "    def predict(self,X):\n",
    "        return (self.predict_proba(X)>0.5) #return the actual prediction"
   ]
  },
  {
   "cell_type": "code",
   "execution_count": 26,
   "id": "74dfeb10",
   "metadata": {},
   "outputs": [
    {
     "name": "stdout",
     "output_type": "stream",
     "text": [
      "Base Binary Logistic Regression Object, Not Trainable\n"
     ]
    }
   ],
   "source": [
    "blr = BinaryLogisticRegressionBase(0.1)\n",
    "print(blr)"
   ]
  },
  {
   "cell_type": "code",
   "execution_count": 27,
   "id": "21ba8b46",
   "metadata": {},
   "outputs": [],
   "source": [
    "# inherit from base class\n",
    "class BinaryLogisticRegression(BinaryLogisticRegressionBase):\n",
    "    #private:\n",
    "    def __str__(self):\n",
    "        if(hasattr(self,'w_')):\n",
    "            return 'Binary Logistic Regression Object with coefficients:\\n'+ str(self.w_) # is we have trained the object\n",
    "        else:\n",
    "            return 'Untrained Binary Logistic Regression Object'\n",
    "        \n",
    "    def _get_gradient(self,X,y):\n",
    "        # programming \\sum_i (yi-g(xi))xi\n",
    "        gradient = np.zeros(self.w_.shape) # set gradient to zero\n",
    "        for (xi,yi) in zip(X,y):\n",
    "            # the actual update inside of sum\n",
    "            gradi = (yi - self.predict_proba(xi,add_intercept=False))*xi \n",
    "            # reshape to be column vector and add to gradient\n",
    "            gradient += gradi.reshape(self.w_.shape) \n",
    "        \n",
    "        return gradient/float(len(y))\n",
    "       \n",
    "    # public:\n",
    "    def fit(self, X, y):\n",
    "        Xb = self._add_intercept(X) # add bias term\n",
    "        num_samples, num_features = Xb.shape\n",
    "        \n",
    "        self.w_ = np.zeros((num_features,1)) # init weight vector to zeros\n",
    "        \n",
    "        # for as many as the max iterations\n",
    "        for _ in range(self.iters):\n",
    "            gradient = self._get_gradient(Xb,y)\n",
    "            self.w_ += gradient*self.eta # multiply by learning rate "
   ]
  },
  {
   "cell_type": "code",
   "execution_count": 28,
   "id": "8edb798c",
   "metadata": {},
   "outputs": [
    {
     "name": "stdout",
     "output_type": "stream",
     "text": [
      "Untrained Binary Logistic Regression Object\n"
     ]
    }
   ],
   "source": [
    "blr = BinaryLogisticRegression(0.1)\n",
    "print(blr)"
   ]
  },
  {
   "cell_type": "code",
   "execution_count": 29,
   "id": "eba44b4a",
   "metadata": {},
   "outputs": [],
   "source": [
    "class VectorBinaryLogisticRegression(BinaryLogisticRegression):\n",
    "    # inherit from our previous class to get same functionality\n",
    "    @staticmethod\n",
    "    def _sigmoid(theta):\n",
    "        # increase stability, redefine sigmoid operation\n",
    "        return expit(theta) #1/(1+np.exp(-theta))\n",
    "    \n",
    "    # but overwrite the gradient calculation\n",
    "    def _get_gradient(self,X,y):\n",
    "        ydiff = y-self.predict_proba(X,add_intercept=False).ravel() # get y difference\n",
    "        gradient = np.mean(X * ydiff[:,np.newaxis], axis=0) # make ydiff a column vector and multiply through\n",
    "        \n",
    "        return gradient.reshape(self.w_.shape)"
   ]
  },
  {
   "cell_type": "code",
   "execution_count": 30,
   "id": "cabb9762",
   "metadata": {},
   "outputs": [],
   "source": [
    "class LogisticRegression:\n",
    "    def __init__(self, eta, iterations=20):\n",
    "        self.eta = eta\n",
    "        self.iters = iterations\n",
    "        # internally we will store the weights as self.w_ to keep with sklearn conventions\n",
    "    \n",
    "    def __str__(self):\n",
    "        if(hasattr(self,'w_')):\n",
    "            return 'MultiClass Logistic Regression Object with coefficients:\\n'+ str(self.w_) # is we have trained the object\n",
    "        else:\n",
    "            return 'Untrained MultiClass Logistic Regression Object'\n",
    "        \n",
    "    def fit(self,X,y):\n",
    "        num_samples, num_features = X.shape\n",
    "        self.unique_ = np.unique(y) # get each unique class value\n",
    "        num_unique_classes = len(self.unique_)\n",
    "        self.classifiers_ = [] # will fill this array with binary classifiers\n",
    "        \n",
    "        for i,yval in enumerate(self.unique_): # for each unique value\n",
    "            y_binary = (y==yval) # create a binary problem\n",
    "            # train the binary classifier for this class\n",
    "            blr = VectorBinaryLogisticRegression(self.eta,\n",
    "                                                 self.iters)\n",
    "            blr.fit(X,y_binary)\n",
    "            # add the trained classifier to the list\n",
    "            self.classifiers_.append(blr)\n",
    "            \n",
    "        # save all the weights into one matrix, separate column for each class\n",
    "        self.w_ = np.hstack([x.w_ for x in self.classifiers_]).T\n",
    "        \n",
    "    def predict_proba(self,X):\n",
    "        probs = []\n",
    "        for blr in self.classifiers_:\n",
    "            probs.append(blr.predict_proba(X)) # get probability for each classifier\n",
    "        \n",
    "        return np.hstack(probs) # make into single matrix\n",
    "    \n",
    "    def predict(self,X):\n",
    "        return self.unique_[np.argmax(self.predict_proba(X),axis=1)] # take argmax along row"
   ]
  },
  {
   "cell_type": "code",
   "execution_count": 31,
   "id": "80601cfc",
   "metadata": {},
   "outputs": [
    {
     "name": "stdout",
     "output_type": "stream",
     "text": [
      "Untrained MultiClass Logistic Regression Object\n"
     ]
    }
   ],
   "source": [
    "lr = LogisticRegression(0.1,1500)\n",
    "print(lr)"
   ]
  },
  {
   "cell_type": "code",
   "execution_count": 32,
   "id": "55057d88",
   "metadata": {},
   "outputs": [],
   "source": [
    "y_np = y.to_numpy()"
   ]
  },
  {
   "cell_type": "markdown",
   "id": "3033a82c",
   "metadata": {},
   "source": [
    "#### 2a2. Base template LR accuracy"
   ]
  },
  {
   "cell_type": "code",
   "execution_count": 33,
   "id": "eedb3e36",
   "metadata": {},
   "outputs": [
    {
     "name": "stdout",
     "output_type": "stream",
     "text": [
      "Accuracy of:  0.30431547619047616\n"
     ]
    }
   ],
   "source": [
    "X_train, X_test, y_train, y_test = train_test_split(X, y_np, train_size = 0.8, test_size=0.2)\n",
    "\n",
    "lr = LogisticRegression(0.1,500)\n",
    "lr.fit(X_train,y_train)\n",
    "yhat = lr.predict(X_test)\n",
    "print('Accuracy of: ',accuracy_score(y_test,yhat))"
   ]
  },
  {
   "cell_type": "markdown",
   "id": "e67920d2",
   "metadata": {},
   "source": [
    "#### 2a3. SciKit-Learn LR accuracy"
   ]
  },
  {
   "cell_type": "code",
   "execution_count": 34,
   "id": "125705b3",
   "metadata": {},
   "outputs": [],
   "source": [
    "from sklearn.linear_model import LogisticRegression as SKLogisticRegression"
   ]
  },
  {
   "cell_type": "code",
   "execution_count": 35,
   "id": "3a37e644",
   "metadata": {},
   "outputs": [
    {
     "name": "stdout",
     "output_type": "stream",
     "text": [
      "Accuracy of:  0.5230654761904762\n"
     ]
    }
   ],
   "source": [
    "lr_sk = SKLogisticRegression(solver='liblinear') # all params default\n",
    "\n",
    "lr_sk.fit(X_train,y_train)\n",
    "yhat = lr_sk.predict(X_test)\n",
    "print('Accuracy of: ',accuracy_score(y_test,yhat))"
   ]
  },
  {
   "cell_type": "markdown",
   "id": "dd37fa62",
   "metadata": {},
   "source": [
    "It appears that the sklearn logistic regression provides me with a slightly better accuracy. However, when I run the \"base template\" logistic regression, the accuracy scores vary widely between roughly random chance (25% accuracy since there are 4 output classes) and 45%. I am not sure what is causing this variance, or why it is so different than the sklearn logistic regression."
   ]
  },
  {
   "cell_type": "markdown",
   "id": "88655df1",
   "metadata": {},
   "source": [
    "#### 2a4. Adding functionality to the template classifier\n",
    "I have used ChatGPT-4 to help me understand how to do this. You can find my conversation with ChatGPT-4 here: https://chat.openai.com/share/b2bdc307-eccc-4063-87ca-d467a3578e48"
   ]
  },
  {
   "cell_type": "markdown",
   "id": "18b5058a",
   "metadata": {},
   "source": [
    "Updating the 'VectorBinaryLogisticRegression' and 'LogisticRegression' classes to add the optimization technique selection functionality:"
   ]
  },
  {
   "cell_type": "code",
   "execution_count": 36,
   "id": "f0009485",
   "metadata": {},
   "outputs": [],
   "source": [
    "class VectorBinaryLogisticRegression(BinaryLogisticRegression):\n",
    "    def __init__(self, eta, iterations=20, technique='steepest'):\n",
    "        super().__init__(eta, iterations)\n",
    "        self.technique = technique\n",
    "        if technique not in ['steepest', 'stochastic', 'newton']:\n",
    "            raise ValueError(\"Optimization technique should be 'steepest', 'stochastic', or 'newton'\")\n",
    "        \n",
    "    def fit(self, X, y):\n",
    "        Xb = self._add_intercept(X) # add bias term\n",
    "        num_samples, num_features = Xb.shape\n",
    "        self.w_ = np.zeros((num_features,1))\n",
    "        \n",
    "        if self.technique == 'steepest':\n",
    "            for _ in range(self.iters):\n",
    "                gradient = self._get_gradient(Xb, y)\n",
    "                self.w_ += gradient * self.eta\n",
    "                \n",
    "        elif self.technique == 'stochastic':\n",
    "            for _ in range(self.iters):\n",
    "                idx = np.random.randint(0, num_samples)\n",
    "                gradient = self._get_gradient(Xb[idx].reshape(1, -1), y[idx])\n",
    "                self.w_ += gradient * self.eta\n",
    "                \n",
    "        elif self.technique == 'newton':\n",
    "            self._newtons_method(Xb, y)\n",
    "\n",
    "    def _get_gradient(self, X, y):\n",
    "        ydiff = y-self.predict_proba(X, add_intercept=False).ravel()\n",
    "        gradient = np.mean(X * ydiff[:, np.newaxis], axis=0) \n",
    "        return gradient.reshape(self.w_.shape)\n",
    "    \n",
    "    def _get_hessian(self, X):\n",
    "        p = self.predict_proba(X, add_intercept=False).ravel()\n",
    "        diag_W = p * (1 - p)\n",
    "        W = np.diag(diag_W)\n",
    "        return X.T @ W @ X\n",
    "        \n",
    "    def _newtons_method(self, X, y):\n",
    "        for _ in range(self.iters):\n",
    "            gradient = self._get_gradient(X, y)\n",
    "            hessian = self._get_hessian(X)\n",
    "            self.w_ -= np.linalg.pinv(hessian) @ gradient\n",
    "\n",
    "\n",
    "    \n",
    "class LogisticRegression:\n",
    "    def __init__(self, eta, iterations=20, technique='steepest'):\n",
    "        self.eta = eta\n",
    "        self.iters = iterations\n",
    "        self.technique = technique\n",
    "        if technique not in ['steepest', 'stochastic', 'newton']:\n",
    "            raise ValueError(\"Optimization technique should be 'steepest', 'stochastic', or 'newton'\")\n",
    "\n",
    "    def __str__(self):\n",
    "        if hasattr(self, 'w_'):\n",
    "            return 'MultiClass Logistic Regression Object with coefficients:\\n' + str(self.w_)\n",
    "        else:\n",
    "            return 'Untrained MultiClass Logistic Regression Object'\n",
    "\n",
    "    def fit(self, X, y):\n",
    "        num_samples, num_features = X.shape\n",
    "        self.unique_ = np.unique(y)\n",
    "        num_unique_classes = len(self.unique_)\n",
    "        self.classifiers_ = []\n",
    "\n",
    "        for i, yval in enumerate(self.unique_):\n",
    "            y_binary = (y == yval)\n",
    "            blr = VectorBinaryLogisticRegression(self.eta, self.iters, self.technique)\n",
    "            blr.fit(X, y_binary)\n",
    "            self.classifiers_.append(blr)\n",
    "\n",
    "        self.w_ = np.hstack([x.w_ for x in self.classifiers_]).T\n",
    "\n",
    "    def predict_proba(self, X):\n",
    "        probs = []\n",
    "        for blr in self.classifiers_:\n",
    "            probs.append(blr.predict_proba(X))\n",
    "        return np.hstack(probs)\n",
    "\n",
    "    def predict(self, X):\n",
    "        return self.unique_[np.argmax(self.predict_proba(X), axis=1)]\n"
   ]
  },
  {
   "cell_type": "markdown",
   "id": "6dcdca1c",
   "metadata": {},
   "source": [
    "Testing the optimization technique selection functionality"
   ]
  },
  {
   "cell_type": "code",
   "execution_count": 37,
   "id": "df5544a0",
   "metadata": {},
   "outputs": [
    {
     "name": "stdout",
     "output_type": "stream",
     "text": [
      "Accuracy of:  0.38764880952380953\n"
     ]
    }
   ],
   "source": [
    "lr = LogisticRegression(eta=0.01, iterations=500, technique='steepest')\n",
    "lr.fit(X_test, y_test)\n",
    "yhat = lr.predict(X_test)\n",
    "print('Accuracy of: ',accuracy_score(y_test,yhat))"
   ]
  },
  {
   "cell_type": "code",
   "execution_count": 38,
   "id": "de01ffd5",
   "metadata": {},
   "outputs": [
    {
     "name": "stdout",
     "output_type": "stream",
     "text": [
      "Accuracy of:  0.28422619047619047\n"
     ]
    }
   ],
   "source": [
    "lr = LogisticRegression(eta=0.01, iterations=500, technique='stochastic')\n",
    "lr.fit(X_test, y_test)\n",
    "yhat = lr.predict(X_test)\n",
    "print('Accuracy of: ',accuracy_score(y_test,yhat))"
   ]
  },
  {
   "cell_type": "code",
   "execution_count": 39,
   "id": "b1fbdf01",
   "metadata": {},
   "outputs": [
    {
     "name": "stdout",
     "output_type": "stream",
     "text": [
      "Accuracy of:  0.08482142857142858\n"
     ]
    }
   ],
   "source": [
    "lr = LogisticRegression(eta=0.01, iterations=500, technique='newton')\n",
    "lr.fit(X_test, y_test)\n",
    "yhat = lr.predict(X_test)\n",
    "print('Accuracy of: ',accuracy_score(y_test,yhat))"
   ]
  },
  {
   "cell_type": "markdown",
   "id": "cdb5b650",
   "metadata": {},
   "source": [
    "Updating the 'VectorBinaryLogisticRegression' and 'LogisticRegression' classes to add the customizable regularization term and associated cost:"
   ]
  },
  {
   "cell_type": "code",
   "execution_count": 40,
   "id": "01e8b768",
   "metadata": {},
   "outputs": [],
   "source": [
    "class VectorBinaryLogisticRegression(BinaryLogisticRegression):\n",
    "    def __init__(self, eta, iterations=20, technique='steepest', regularization=None, C=1.0):\n",
    "        super().__init__(eta, iterations)\n",
    "        self.technique = technique\n",
    "        self.regularization = regularization\n",
    "        self.C = C\n",
    "        \n",
    "        if technique not in ['steepest', 'stochastic', 'newton']:\n",
    "            raise ValueError(\"Optimization technique should be 'steepest', 'stochastic', or 'newton'\")\n",
    "        if regularization not in [None, 'l1', 'l2', 'elasticnet']:\n",
    "            raise ValueError(\"Regularization should be None, 'l1', 'l2', or 'elasticnet'\")\n",
    "        \n",
    "    def fit(self, X, y):\n",
    "        Xb = self._add_intercept(X)  # add bias term\n",
    "        num_samples, num_features = Xb.shape\n",
    "        self.w_ = np.zeros((num_features,1))\n",
    "        \n",
    "        if self.technique == 'steepest':\n",
    "            for _ in range(self.iters):\n",
    "                gradient = self._get_gradient(Xb, y)\n",
    "                self.w_ += gradient * self.eta\n",
    "                \n",
    "        elif self.technique == 'stochastic':\n",
    "            for _ in range(self.iters):\n",
    "                idx = np.random.randint(0, num_samples)\n",
    "                gradient = self._get_gradient(Xb[idx].reshape(1, -1), y[idx])\n",
    "                self.w_ += gradient * self.eta\n",
    "                \n",
    "        elif self.technique == 'newton':\n",
    "            self._newtons_method(Xb, y)\n",
    "            \n",
    "    def _get_gradient(self, X, y):\n",
    "        ydiff = y-self.predict_proba(X, add_intercept=False).ravel()\n",
    "        gradient = np.mean(X * ydiff[:, np.newaxis], axis=0)\n",
    "        gradient = gradient.reshape(self.w_.shape)\n",
    "        \n",
    "        # Add regularization to the gradient\n",
    "        if self.regularization == 'l1':\n",
    "            gradient[1:] += self.C * np.sign(self.w_[1:])\n",
    "        elif self.regularization == 'l2':\n",
    "            gradient[1:] += 2 * self.C * self.w_[1:]\n",
    "        elif self.regularization == 'elasticnet':\n",
    "            gradient[1:] += self.C * np.sign(self.w_[1:]) + 2 * self.C * self.w_[1:]\n",
    "\n",
    "        return gradient\n",
    "    \n",
    "    def _get_hessian(self, X):\n",
    "        p = self.predict_proba(X, add_intercept=False).ravel()\n",
    "        diag_W = p * (1 - p)\n",
    "        W = np.diag(diag_W)\n",
    "        return X.T @ W @ X\n",
    "        \n",
    "    def _newtons_method(self, X, y):\n",
    "        for _ in range(self.iters):\n",
    "            gradient = self._get_gradient(X, y)\n",
    "            hessian = self._get_hessian(X)\n",
    "            self.w_ -= np.linalg.pinv(hessian) @ gradient\n",
    "\n",
    "\n",
    "\n",
    "    \n",
    "class LogisticRegression:\n",
    "    def __init__(self, eta, iterations=20, technique='steepest', regularization=None, C=1.0):\n",
    "        self.eta = eta\n",
    "        self.iters = iterations\n",
    "        self.technique = technique\n",
    "        self.regularization = regularization\n",
    "        self.C = C\n",
    "    \n",
    "    def __str__(self):\n",
    "        if hasattr(self, 'w_'):\n",
    "            return 'MultiClass Logistic Regression Object with coefficients:\\n' + str(self.w_)  # if we have trained the object\n",
    "        else:\n",
    "            return 'Untrained MultiClass Logistic Regression Object'\n",
    "        \n",
    "    def fit(self, X, y):\n",
    "        num_samples, num_features = X.shape\n",
    "        self.unique_ = np.unique(y)  # get each unique class value\n",
    "        num_unique_classes = len(self.unique_)\n",
    "        self.classifiers_ = []  # will fill this array with binary classifiers\n",
    "        \n",
    "        for i, yval in enumerate(self.unique_):  # for each unique value\n",
    "            y_binary = y == yval  # create a binary problem\n",
    "            # train the binary classifier for this class\n",
    "            blr = VectorBinaryLogisticRegression(self.eta, self.iters, self.technique, self.regularization, self.C)\n",
    "            blr.fit(X, y_binary)\n",
    "            # add the trained classifier to the list\n",
    "            self.classifiers_.append(blr)\n",
    "            \n",
    "        # save all the weights into one matrix, separate column for each class\n",
    "        self.w_ = np.hstack([x.w_ for x in self.classifiers_]).T\n",
    "        \n",
    "    def predict_proba(self, X):\n",
    "        probs = []\n",
    "        for blr in self.classifiers_:\n",
    "            probs.append(blr.predict_proba(X))  # get probability for each classifier\n",
    "        \n",
    "        return np.hstack(probs)  # make into a single matrix\n",
    "    \n",
    "    def predict(self, X):\n",
    "        return self.unique_[np.argmax(self.predict_proba(X), axis=1)]  # take argmax along row\n",
    "\n"
   ]
  },
  {
   "cell_type": "markdown",
   "id": "30714c4d",
   "metadata": {},
   "source": [
    "### 2b. Training"
   ]
  },
  {
   "cell_type": "markdown",
   "id": "071711d1",
   "metadata": {},
   "source": [
    "#### 2b1. Finding the best performance with optimization technique and regularizaiton term"
   ]
  },
  {
   "cell_type": "markdown",
   "id": "10594843",
   "metadata": {},
   "source": [
    "***'Steepest' Optimizations***"
   ]
  },
  {
   "cell_type": "code",
   "execution_count": 41,
   "id": "471d5a1f",
   "metadata": {},
   "outputs": [
    {
     "name": "stdout",
     "output_type": "stream",
     "text": [
      "Accuracy of:  0.38764880952380953\n"
     ]
    }
   ],
   "source": [
    "lr = LogisticRegression(eta=0.01, iterations=500, technique='steepest', regularization=None)\n",
    "lr.fit(X_test, y_test)\n",
    "yhat = lr.predict(X_test)\n",
    "print('Accuracy of: ',accuracy_score(y_test,yhat))"
   ]
  },
  {
   "cell_type": "code",
   "execution_count": 42,
   "id": "490d9a7a",
   "metadata": {},
   "outputs": [
    {
     "name": "stdout",
     "output_type": "stream",
     "text": [
      "Accuracy of:  0.3898809523809524\n"
     ]
    }
   ],
   "source": [
    "lr = LogisticRegression(eta=0.01, iterations=500, technique='steepest', regularization='l1', C=1.0)\n",
    "lr.fit(X_test, y_test)\n",
    "yhat = lr.predict(X_test)\n",
    "print('Accuracy of: ',accuracy_score(y_test,yhat))"
   ]
  },
  {
   "cell_type": "code",
   "execution_count": 43,
   "id": "34bb1a74",
   "metadata": {},
   "outputs": [
    {
     "name": "stdout",
     "output_type": "stream",
     "text": [
      "Accuracy of:  0.42782738095238093\n"
     ]
    },
    {
     "name": "stderr",
     "output_type": "stream",
     "text": [
      "C:\\Users\\Personal\\AppData\\Local\\Temp\\ipykernel_24032\\1977546918.py:14: RuntimeWarning: overflow encountered in exp\n",
      "  return 1/(1+np.exp(-theta))\n"
     ]
    }
   ],
   "source": [
    "lr = LogisticRegression(eta=0.01, iterations=500, technique='steepest', regularization='l2', C=1.0)\n",
    "lr.fit(X_test, y_test)\n",
    "yhat = lr.predict(X_test)\n",
    "print('Accuracy of: ',accuracy_score(y_test,yhat))"
   ]
  },
  {
   "cell_type": "code",
   "execution_count": 44,
   "id": "1f502b78",
   "metadata": {},
   "outputs": [
    {
     "name": "stderr",
     "output_type": "stream",
     "text": [
      "C:\\Users\\Personal\\AppData\\Local\\Temp\\ipykernel_24032\\1977546918.py:14: RuntimeWarning: overflow encountered in exp\n",
      "  return 1/(1+np.exp(-theta))\n"
     ]
    },
    {
     "name": "stdout",
     "output_type": "stream",
     "text": [
      "Accuracy of:  0.25297619047619047\n"
     ]
    }
   ],
   "source": [
    "lr = LogisticRegression(eta=0.01, iterations=500, technique='steepest', regularization='elasticnet', C=1.0)\n",
    "lr.fit(X_test, y_test)\n",
    "yhat = lr.predict(X_test)\n",
    "print('Accuracy of: ',accuracy_score(y_test,yhat))"
   ]
  },
  {
   "cell_type": "markdown",
   "id": "d0f1b878",
   "metadata": {},
   "source": [
    "***'Stochastic' Optimizations***"
   ]
  },
  {
   "cell_type": "code",
   "execution_count": 45,
   "id": "064418f6",
   "metadata": {},
   "outputs": [
    {
     "name": "stdout",
     "output_type": "stream",
     "text": [
      "Accuracy of:  0.32663690476190477\n"
     ]
    }
   ],
   "source": [
    "lr = LogisticRegression(eta=0.01, iterations=500, technique='stochastic', regularization=None)\n",
    "lr.fit(X_test, y_test)\n",
    "yhat = lr.predict(X_test)\n",
    "print('Accuracy of: ',accuracy_score(y_test,yhat))"
   ]
  },
  {
   "cell_type": "code",
   "execution_count": 46,
   "id": "f858f4e6",
   "metadata": {},
   "outputs": [
    {
     "name": "stdout",
     "output_type": "stream",
     "text": [
      "Accuracy of:  0.31919642857142855\n"
     ]
    }
   ],
   "source": [
    "lr = LogisticRegression(eta=0.01, iterations=500, technique='stochastic', regularization='l1', C=1.0)\n",
    "lr.fit(X_test, y_test)\n",
    "yhat = lr.predict(X_test)\n",
    "print('Accuracy of: ',accuracy_score(y_test,yhat))"
   ]
  },
  {
   "cell_type": "code",
   "execution_count": 47,
   "id": "bcf2248d",
   "metadata": {},
   "outputs": [
    {
     "name": "stdout",
     "output_type": "stream",
     "text": [
      "Accuracy of:  0.3712797619047619\n"
     ]
    },
    {
     "name": "stderr",
     "output_type": "stream",
     "text": [
      "C:\\Users\\Personal\\AppData\\Local\\Temp\\ipykernel_24032\\1977546918.py:14: RuntimeWarning: overflow encountered in exp\n",
      "  return 1/(1+np.exp(-theta))\n"
     ]
    }
   ],
   "source": [
    "lr = LogisticRegression(eta=0.01, iterations=500, technique='stochastic', regularization='l2', C=1.0)\n",
    "lr.fit(X_test, y_test)\n",
    "yhat = lr.predict(X_test)\n",
    "print('Accuracy of: ',accuracy_score(y_test,yhat))"
   ]
  },
  {
   "cell_type": "code",
   "execution_count": 48,
   "id": "cd0d38a7",
   "metadata": {},
   "outputs": [
    {
     "name": "stdout",
     "output_type": "stream",
     "text": [
      "Accuracy of:  0.24330357142857142\n"
     ]
    },
    {
     "name": "stderr",
     "output_type": "stream",
     "text": [
      "C:\\Users\\Personal\\AppData\\Local\\Temp\\ipykernel_24032\\1977546918.py:14: RuntimeWarning: overflow encountered in exp\n",
      "  return 1/(1+np.exp(-theta))\n"
     ]
    }
   ],
   "source": [
    "lr = LogisticRegression(eta=0.01, iterations=500, technique='stochastic', regularization='elasticnet', C=1.0)\n",
    "lr.fit(X_test, y_test)\n",
    "yhat = lr.predict(X_test)\n",
    "print('Accuracy of: ',accuracy_score(y_test,yhat))"
   ]
  },
  {
   "cell_type": "markdown",
   "id": "9138fc32",
   "metadata": {},
   "source": [
    "***'Newton' Optimizations***"
   ]
  },
  {
   "cell_type": "code",
   "execution_count": 49,
   "id": "8d6b4a3c",
   "metadata": {},
   "outputs": [
    {
     "name": "stdout",
     "output_type": "stream",
     "text": [
      "Accuracy of:  0.08482142857142858\n"
     ]
    }
   ],
   "source": [
    "lr = LogisticRegression(eta=0.01, iterations=500, technique='newton', regularization=None)\n",
    "lr.fit(X_test, y_test)\n",
    "yhat = lr.predict(X_test)\n",
    "print('Accuracy of: ',accuracy_score(y_test,yhat))"
   ]
  },
  {
   "cell_type": "code",
   "execution_count": 50,
   "id": "ec668d81",
   "metadata": {},
   "outputs": [
    {
     "name": "stdout",
     "output_type": "stream",
     "text": [
      "Accuracy of:  0.17857142857142858\n"
     ]
    }
   ],
   "source": [
    "lr = LogisticRegression(eta=0.01, iterations=500, technique='newton', regularization='l1', C=1.0)\n",
    "lr.fit(X_test, y_test)\n",
    "yhat = lr.predict(X_test)\n",
    "print('Accuracy of: ',accuracy_score(y_test,yhat))"
   ]
  },
  {
   "cell_type": "code",
   "execution_count": 51,
   "id": "fd547278",
   "metadata": {},
   "outputs": [
    {
     "name": "stdout",
     "output_type": "stream",
     "text": [
      "Accuracy of:  0.13764880952380953\n"
     ]
    }
   ],
   "source": [
    "lr = LogisticRegression(eta=0.01, iterations=500, technique='newton', regularization='l2', C=1.0)\n",
    "lr.fit(X_test, y_test)\n",
    "yhat = lr.predict(X_test)\n",
    "print('Accuracy of: ',accuracy_score(y_test,yhat))"
   ]
  },
  {
   "cell_type": "code",
   "execution_count": 52,
   "id": "5cf4ddc7",
   "metadata": {},
   "outputs": [
    {
     "name": "stdout",
     "output_type": "stream",
     "text": [
      "Accuracy of:  0.17038690476190477\n"
     ]
    }
   ],
   "source": [
    "lr = LogisticRegression(eta=0.01, iterations=500, technique='newton', regularization='elasticnet', C=1.0)\n",
    "lr.fit(X_test, y_test)\n",
    "yhat = lr.predict(X_test)\n",
    "print('Accuracy of: ',accuracy_score(y_test,yhat))"
   ]
  },
  {
   "cell_type": "markdown",
   "id": "ba4e2790",
   "metadata": {},
   "source": [
    "**It appears that steepest ascent with either L1 or L2 regularization will provide me with the best performance.**"
   ]
  },
  {
   "cell_type": "markdown",
   "id": "e9e73716",
   "metadata": {},
   "source": [
    "**Trying different C values (0.001 to 100.000) for 'steepest' and L1**"
   ]
  },
  {
   "cell_type": "code",
   "execution_count": 56,
   "id": "97efee7d",
   "metadata": {},
   "outputs": [
    {
     "name": "stdout",
     "output_type": "stream",
     "text": [
      "Accuracy of:  0.3913690476190476\n"
     ]
    }
   ],
   "source": [
    "lr = LogisticRegression(eta=0.01, iterations=500, technique='steepest', regularization='l1', C=0.001)\n",
    "lr.fit(X_test, y_test)\n",
    "yhat = lr.predict(X_test)\n",
    "print('Accuracy of: ',accuracy_score(y_test,yhat))"
   ]
  },
  {
   "cell_type": "code",
   "execution_count": 57,
   "id": "ca0dfc90",
   "metadata": {},
   "outputs": [
    {
     "name": "stdout",
     "output_type": "stream",
     "text": [
      "Accuracy of:  0.39285714285714285\n"
     ]
    }
   ],
   "source": [
    "lr = LogisticRegression(eta=0.01, iterations=500, technique='steepest', regularization='l1', C=0.01)\n",
    "lr.fit(X_test, y_test)\n",
    "yhat = lr.predict(X_test)\n",
    "print('Accuracy of: ',accuracy_score(y_test,yhat))"
   ]
  },
  {
   "cell_type": "code",
   "execution_count": 58,
   "id": "3f65e212",
   "metadata": {},
   "outputs": [
    {
     "name": "stdout",
     "output_type": "stream",
     "text": [
      "Accuracy of:  0.36904761904761907\n"
     ]
    }
   ],
   "source": [
    "lr = LogisticRegression(eta=0.01, iterations=500, technique='steepest', regularization='l1', C=0.1)\n",
    "lr.fit(X_test, y_test)\n",
    "yhat = lr.predict(X_test)\n",
    "print('Accuracy of: ',accuracy_score(y_test,yhat))"
   ]
  },
  {
   "cell_type": "code",
   "execution_count": 59,
   "id": "56131e77",
   "metadata": {},
   "outputs": [
    {
     "name": "stdout",
     "output_type": "stream",
     "text": [
      "Accuracy of:  0.42336309523809523\n"
     ]
    }
   ],
   "source": [
    "lr = LogisticRegression(eta=0.01, iterations=500, technique='steepest', regularization='l1', C=0.5)\n",
    "lr.fit(X_test, y_test)\n",
    "yhat = lr.predict(X_test)\n",
    "print('Accuracy of: ',accuracy_score(y_test,yhat))"
   ]
  },
  {
   "cell_type": "code",
   "execution_count": 53,
   "id": "7643ae33",
   "metadata": {},
   "outputs": [
    {
     "name": "stdout",
     "output_type": "stream",
     "text": [
      "Accuracy of:  0.3898809523809524\n"
     ]
    }
   ],
   "source": [
    "lr = LogisticRegression(eta=0.01, iterations=500, technique='steepest', regularization='l1', C=1.0)\n",
    "lr.fit(X_test, y_test)\n",
    "yhat = lr.predict(X_test)\n",
    "print('Accuracy of: ',accuracy_score(y_test,yhat))"
   ]
  },
  {
   "cell_type": "code",
   "execution_count": 54,
   "id": "3d9a9b33",
   "metadata": {},
   "outputs": [
    {
     "name": "stdout",
     "output_type": "stream",
     "text": [
      "Accuracy of:  0.25148809523809523\n"
     ]
    },
    {
     "name": "stderr",
     "output_type": "stream",
     "text": [
      "C:\\Users\\Personal\\AppData\\Local\\Temp\\ipykernel_24032\\1977546918.py:14: RuntimeWarning: overflow encountered in exp\n",
      "  return 1/(1+np.exp(-theta))\n"
     ]
    }
   ],
   "source": [
    "lr = LogisticRegression(eta=0.01, iterations=500, technique='steepest', regularization='l1', C=10)\n",
    "lr.fit(X_test, y_test)\n",
    "yhat = lr.predict(X_test)\n",
    "print('Accuracy of: ',accuracy_score(y_test,yhat))"
   ]
  },
  {
   "cell_type": "code",
   "execution_count": 55,
   "id": "bed27c67",
   "metadata": {},
   "outputs": [
    {
     "name": "stderr",
     "output_type": "stream",
     "text": [
      "C:\\Users\\Personal\\AppData\\Local\\Temp\\ipykernel_24032\\1977546918.py:14: RuntimeWarning: overflow encountered in exp\n",
      "  return 1/(1+np.exp(-theta))\n"
     ]
    },
    {
     "name": "stdout",
     "output_type": "stream",
     "text": [
      "Accuracy of:  0.2261904761904762\n"
     ]
    }
   ],
   "source": [
    "lr = LogisticRegression(eta=0.01, iterations=500, technique='steepest', regularization='l1', C=100)\n",
    "lr.fit(X_test, y_test)\n",
    "yhat = lr.predict(X_test)\n",
    "print('Accuracy of: ',accuracy_score(y_test,yhat))"
   ]
  },
  {
   "cell_type": "markdown",
   "id": "b10d19cf",
   "metadata": {},
   "source": [
    "**Trying different C values (0.001 to 100.000) for 'steepest' and L2**"
   ]
  },
  {
   "cell_type": "code",
   "execution_count": 72,
   "id": "1e6bb187",
   "metadata": {},
   "outputs": [
    {
     "name": "stdout",
     "output_type": "stream",
     "text": [
      "Accuracy of:  0.390625\n"
     ]
    }
   ],
   "source": [
    "lr = LogisticRegression(eta=0.01, iterations=500, technique='steepest', regularization='l2', C=0.001)\n",
    "lr.fit(X_test, y_test)\n",
    "yhat = lr.predict(X_test)\n",
    "print('Accuracy of: ',accuracy_score(y_test,yhat))"
   ]
  },
  {
   "cell_type": "code",
   "execution_count": 74,
   "id": "934b65a2",
   "metadata": {},
   "outputs": [
    {
     "name": "stdout",
     "output_type": "stream",
     "text": [
      "Accuracy of:  0.390625\n"
     ]
    }
   ],
   "source": [
    "lr = LogisticRegression(eta=0.01, iterations=500, technique='steepest', regularization='l2', C=0.01)\n",
    "lr.fit(X_test, y_test)\n",
    "yhat = lr.predict(X_test)\n",
    "print('Accuracy of: ',accuracy_score(y_test,yhat))"
   ]
  },
  {
   "cell_type": "code",
   "execution_count": 64,
   "id": "6049e28f",
   "metadata": {},
   "outputs": [
    {
     "name": "stdout",
     "output_type": "stream",
     "text": [
      "Accuracy of:  0.4099702380952381\n"
     ]
    }
   ],
   "source": [
    "lr = LogisticRegression(eta=0.01, iterations=500, technique='steepest', regularization='l2', C=0.1)\n",
    "lr.fit(X_test, y_test)\n",
    "yhat = lr.predict(X_test)\n",
    "print('Accuracy of: ',accuracy_score(y_test,yhat))"
   ]
  },
  {
   "cell_type": "code",
   "execution_count": 65,
   "id": "becd9ca1",
   "metadata": {},
   "outputs": [
    {
     "name": "stdout",
     "output_type": "stream",
     "text": [
      "Accuracy of:  0.4806547619047619\n"
     ]
    }
   ],
   "source": [
    "lr = LogisticRegression(eta=0.01, iterations=500, technique='steepest', regularization='l2', C=0.5)\n",
    "lr.fit(X_test, y_test)\n",
    "yhat = lr.predict(X_test)\n",
    "print('Accuracy of: ',accuracy_score(y_test,yhat))"
   ]
  },
  {
   "cell_type": "code",
   "execution_count": 60,
   "id": "e2dfd36d",
   "metadata": {},
   "outputs": [
    {
     "name": "stdout",
     "output_type": "stream",
     "text": [
      "Accuracy of:  0.42782738095238093\n"
     ]
    },
    {
     "name": "stderr",
     "output_type": "stream",
     "text": [
      "C:\\Users\\Personal\\AppData\\Local\\Temp\\ipykernel_24032\\1977546918.py:14: RuntimeWarning: overflow encountered in exp\n",
      "  return 1/(1+np.exp(-theta))\n"
     ]
    }
   ],
   "source": [
    "lr = LogisticRegression(eta=0.01, iterations=500, technique='steepest', regularization='l2', C=1.0)\n",
    "lr.fit(X_test, y_test)\n",
    "yhat = lr.predict(X_test)\n",
    "print('Accuracy of: ',accuracy_score(y_test,yhat))"
   ]
  },
  {
   "cell_type": "code",
   "execution_count": 62,
   "id": "42971adf",
   "metadata": {},
   "outputs": [
    {
     "name": "stderr",
     "output_type": "stream",
     "text": [
      "C:\\Users\\Personal\\AppData\\Local\\Temp\\ipykernel_24032\\1977546918.py:14: RuntimeWarning: overflow encountered in exp\n",
      "  return 1/(1+np.exp(-theta))\n"
     ]
    },
    {
     "name": "stdout",
     "output_type": "stream",
     "text": [
      "Accuracy of:  0.37648809523809523\n"
     ]
    }
   ],
   "source": [
    "lr = LogisticRegression(eta=0.01, iterations=500, technique='steepest', regularization='l2', C=10)\n",
    "lr.fit(X_test, y_test)\n",
    "yhat = lr.predict(X_test)\n",
    "print('Accuracy of: ',accuracy_score(y_test,yhat))"
   ]
  },
  {
   "cell_type": "code",
   "execution_count": 63,
   "id": "6c816bff",
   "metadata": {},
   "outputs": [
    {
     "name": "stderr",
     "output_type": "stream",
     "text": [
      "C:\\Users\\Personal\\AppData\\Local\\Temp\\ipykernel_24032\\1977546918.py:14: RuntimeWarning: overflow encountered in exp\n",
      "  return 1/(1+np.exp(-theta))\n"
     ]
    },
    {
     "name": "stdout",
     "output_type": "stream",
     "text": [
      "Accuracy of:  0.2261904761904762\n"
     ]
    }
   ],
   "source": [
    "lr = LogisticRegression(eta=0.01, iterations=500, technique='steepest', regularization='l2', C=100)\n",
    "lr.fit(X_test, y_test)\n",
    "yhat = lr.predict(X_test)\n",
    "print('Accuracy of: ',accuracy_score(y_test,yhat))"
   ]
  },
  {
   "cell_type": "markdown",
   "id": "4856f743",
   "metadata": {},
   "source": [
    "Based on the above, the best hyperparameters are steepest ascent as the optimization technique, L2 as the regularization, and C=0.5 for the associated cost."
   ]
  },
  {
   "cell_type": "markdown",
   "id": "7d070c97",
   "metadata": {},
   "source": [
    "#### 2b2. Visualization"
   ]
  },
  {
   "cell_type": "code",
   "execution_count": 66,
   "id": "b848019f",
   "metadata": {
    "scrolled": false
   },
   "outputs": [
    {
     "data": {
      "image/png": "[encoded data removed]",
      "text/plain": [
       "<Figure size 1200x700 with 1 Axes>"
      ]
     },
     "metadata": {},
     "output_type": "display_data"
    }
   ],
   "source": [
    "import numpy as np\n",
    "import matplotlib.pyplot as plt\n",
    "\n",
    "techniques = ['Steepest', 'Stochastic', 'Newton']\n",
    "regularizations = ['None', 'L1', 'L2', 'elasticnet']\n",
    "\n",
    "# Example data\n",
    "accuracy_steepest = [0.3876, 0.3899, 0.4278, 0.2530]\n",
    "accuracy_stochastic = [0.3266, 0.3192, 0.3713, 0.2433]\n",
    "accuracy_newton = [0.0849, 0.1786, 0.1376, 0.1704]\n",
    "\n",
    "accuracies = [accuracy_steepest, accuracy_stochastic, accuracy_newton]\n",
    "\n",
    "# Setup the figure and axes\n",
    "fig, ax = plt.subplots(figsize=(12, 7))\n",
    "\n",
    "# Setting the positions and width for the bars\n",
    "bar_width = 0.25\n",
    "index = np.arange(len(regularizations))\n",
    "\n",
    "# Plotting each technique's bars\n",
    "for i, (tech, acc) in enumerate(zip(techniques, accuracies)):\n",
    "    ax.bar(index + i*bar_width, acc, width=bar_width, label=tech)\n",
    "\n",
    "# Configuring the plot\n",
    "ax.set_xlabel('Regularization Type')\n",
    "ax.set_ylabel('Accuracy')\n",
    "ax.set_title('Accuracy by Regularization Type and Optimization Technique (C=1.0 for all non-None regularizations)')\n",
    "ax.set_xticks(index + bar_width)\n",
    "ax.set_xticklabels(regularizations)\n",
    "ax.legend()\n",
    "\n",
    "plt.tight_layout()\n",
    "plt.show()\n"
   ]
  },
  {
   "cell_type": "code",
   "execution_count": 75,
   "id": "8cc80e51",
   "metadata": {},
   "outputs": [
    {
     "data": {
      "image/png": "[encoded data removed]",
      "text/plain": [
       "<Figure size 1200x700 with 1 Axes>"
      ]
     },
     "metadata": {},
     "output_type": "display_data"
    }
   ],
   "source": [
    "# C values and corresponding accuracies for L1 and L2\n",
    "c_values = [0.001, 0.01, 0.1, 0.5, 1, 10, 100]\n",
    "\n",
    "accuracy_l1 = [0.3917, 0.3929 , 0.3690 , 0.4234 , 0.3899 , 0.2515 , 0.2262]\n",
    "accuracy_l2 = [0.3906, 0.3906 , 0.4010 , 0.4807 , 0.4278 , 0.3765 , 0.2262]\n",
    "\n",
    "# Plot\n",
    "plt.figure(figsize=(12, 7))\n",
    "plt.plot(c_values, accuracy_l1, marker='o', label='L1 Regularization')\n",
    "plt.plot(c_values, accuracy_l2, marker='o', label='L2 Regularization')\n",
    "plt.xscale('log')  # Log scale\n",
    "plt.xticks(c_values, c_values)  # Set xticks to C values\n",
    "plt.xlabel('C Value')\n",
    "plt.ylabel('Accuracy')\n",
    "plt.title('Accuracy vs. C Value for L1 and L2 Regularization with Steepest Descent')\n",
    "plt.legend()\n",
    "plt.grid(True, which='both', linestyle='--', linewidth=0.5)\n",
    "plt.tight_layout()\n",
    "plt.show()"
   ]
  },
  {
   "cell_type": "markdown",
   "id": "b88e3420",
   "metadata": {},
   "source": [
    "#### 2b3. Justification\n",
    "Based on the first visualization, L1 or L2 regularization paired with the steepest ascent optimization provides the best accuracy. \n",
    "\n",
    "Based on the second visualization, we can see that for steepest ascent optimization, L1 and L2 regularizaiton perform best with an associated C value of 0.5 (with L2 performing slightly better)."
   ]
  },
  {
   "cell_type": "markdown",
   "id": "dadfa9e5",
   "metadata": {},
   "source": [
    "### 2c. Comparing with Scikit-Learn"
   ]
  },
  {
   "cell_type": "markdown",
   "id": "b5b1858b",
   "metadata": {},
   "source": [
    "#### 2c1. Scikit-Learn implementation"
   ]
  },
  {
   "cell_type": "code",
   "execution_count": 76,
   "id": "a3f8d0e2",
   "metadata": {},
   "outputs": [],
   "source": [
    "from sklearn.linear_model import LogisticRegression as SKLogisticRegression"
   ]
  },
  {
   "cell_type": "code",
   "execution_count": 77,
   "id": "e4c2ed3a",
   "metadata": {},
   "outputs": [],
   "source": [
    "lr = SKLogisticRegression(penalty='l2', C=0.5, solver='liblinear')"
   ]
  },
  {
   "cell_type": "code",
   "execution_count": 78,
   "id": "868b2862",
   "metadata": {},
   "outputs": [
    {
     "name": "stdout",
     "output_type": "stream",
     "text": [
      "Accuracy of:  0.5215773809523809\n",
      "CPU times: total: 15.6 ms\n",
      "Wall time: 13 ms\n"
     ]
    }
   ],
   "source": [
    "%%time\n",
    "lr.fit(X_test, y_test)\n",
    "\n",
    "yhat = lr.predict(X_test)\n",
    "\n",
    "print('Accuracy of: ', accuracy_score(y_test, yhat))"
   ]
  },
  {
   "cell_type": "code",
   "execution_count": 79,
   "id": "7d0c39cc",
   "metadata": {},
   "outputs": [
    {
     "name": "stdout",
     "output_type": "stream",
     "text": [
      "Accuracy of:  0.4806547619047619\n",
      "CPU times: total: 141 ms\n",
      "Wall time: 141 ms\n"
     ]
    }
   ],
   "source": [
    "%%time\n",
    "lr = LogisticRegression(eta=0.01, iterations=500, technique='steepest', regularization='l2', C=0.5)\n",
    "lr.fit(X_test, y_test)\n",
    "yhat = lr.predict(X_test)\n",
    "print('Accuracy of: ',accuracy_score(y_test,yhat))"
   ]
  },
  {
   "cell_type": "code",
   "execution_count": 94,
   "id": "70dc771a",
   "metadata": {},
   "outputs": [
    {
     "data": {
      "image/png": "[encoded data removed]",
      "text/plain": [
       "<Figure size 1000x600 with 2 Axes>"
      ]
     },
     "metadata": {},
     "output_type": "display_data"
    }
   ],
   "source": [
    "import matplotlib.pyplot as plt\n",
    "import numpy as np\n",
    "\n",
    "# Data\n",
    "methods = ['Scikit-Learn', 'Custom']\n",
    "accuracy = [52.16, 48.07]\n",
    "wall_time = [13, 141]  # in milliseconds\n",
    "\n",
    "# Bar width\n",
    "bar_width = 0.35\n",
    "index = np.arange(len(methods))\n",
    "\n",
    "# Create a figure and axis for accuracy\n",
    "fig, ax1 = plt.subplots(figsize=(10, 6))\n",
    "\n",
    "# Plot accuracy data\n",
    "bars1 = ax1.bar(index, accuracy, bar_width, label='Accuracy (%)', color='g', alpha=0.6)\n",
    "ax1.set_xlabel('Method')\n",
    "ax1.set_ylabel('Accuracy (%)', color='g')\n",
    "ax1.tick_params(axis='y', labelcolor='g')\n",
    "ax1.set_title('Comparison between Scikit-Learn and Custom Implementation')\n",
    "ax1.set_xticks(index + bar_width / 2)\n",
    "ax1.set_xticklabels(methods)\n",
    "\n",
    "# Create a second y-axis for wall time\n",
    "ax2 = ax1.twinx()\n",
    "bars2 = ax2.bar(index + bar_width, wall_time, bar_width, label='Execution Time (ms)', color='b', alpha=0.6)\n",
    "ax2.set_ylabel('Execution Time (ms)', color='b')\n",
    "ax2.tick_params(axis='y', labelcolor='b')\n",
    "\n",
    "# Legend\n",
    "fig.tight_layout()\n",
    "\n",
    "# Show the plot\n",
    "plt.show()\n"
   ]
  },
  {
   "cell_type": "markdown",
   "id": "9ae38c43",
   "metadata": {},
   "source": [
    "As we can see, sklearn's accuracy was slightly better (50% to our custom implementation's 47%). Additionally, sklearn was approximatly 11 times faster. As we learned in class/the instructor notebook, sklearn better handles parallelization and conducts all operations in lower C++."
   ]
  },
  {
   "cell_type": "markdown",
   "id": "0a432a01",
   "metadata": {},
   "source": [
    "### 3. Deployment"
   ]
  },
  {
   "cell_type": "markdown",
   "id": "2d28f27f",
   "metadata": {},
   "source": [
    "I would definitley advise my clients to use an enterprise-level or industry standard tool (such as Scikit-Learn) over a home-grown or custom solution, especially for this theoretical application of this notebook (i.e., creating a model for a car company to help segment customers in a new market based on data from an established market.\n",
    "\n",
    "Mainly this is because my custom implementation is far more likely to be incorrect or hard to scale compared to an industry standard tool such as sklearn. Also, for a car company to have the requisite knowledge to develop and maintain its own custom ML solutions, it would require they hire, train, and develop an internal staff that is capable of handling this kind of task. It would be much easier for a non-technical company to hire a consulting firm to develop an enterprise-grade/industry standardized solution that will be easier for them to maintain going forward."
   ]
  },
  {
   "cell_type": "markdown",
   "id": "516636ae",
   "metadata": {},
   "source": [
    "### 4. 7000-level additional work"
   ]
  },
  {
   "cell_type": "markdown",
   "id": "b94fd4f9",
   "metadata": {},
   "source": [
    "#### 4a. Option 1 (MSE objective function)"
   ]
  },
  {
   "cell_type": "markdown",
   "id": "c5752c48",
   "metadata": {},
   "source": [
    "As I am not quite sure how to do this, I have gone to ChatGPT-4. You can find my conversation here: https://chat.openai.com/share/e027fb32-b033-40ee-8ad9-94009360eadc"
   ]
  },
  {
   "cell_type": "code",
   "execution_count": 95,
   "id": "47fa3821",
   "metadata": {},
   "outputs": [],
   "source": [
    "class VectorBinaryLogisticRegressionMSE(VectorBinaryLogisticRegression):\n",
    "    def _get_gradient(self, X, y):\n",
    "        p = self.predict_proba(X, add_intercept=False).ravel()\n",
    "        gradient = -np.mean(X * (y - p)[:, np.newaxis] * p[:, np.newaxis] * (1 - p)[:, np.newaxis], axis=0)\n",
    "        gradient = gradient.reshape(self.w_.shape)\n",
    "        \n",
    "        # Add regularization to the gradient\n",
    "        if self.regularization == 'l1':\n",
    "            gradient[1:] += self.C * np.sign(self.w_[1:])\n",
    "        elif self.regularization == 'l2':\n",
    "            gradient[1:] += 2 * self.C * self.w_[1:]\n",
    "        elif self.regularization == 'elasticnet':\n",
    "            gradient[1:] += self.C * np.sign(self.w_[1:]) + 2 * self.C * self.w_[1:]\n",
    "\n",
    "        return gradient\n",
    "    \n",
    "    def _get_hessian(self, X):\n",
    "        p = self.predict_proba(X, add_intercept=False).ravel()\n",
    "        W = np.diag(p * (1 - p))\n",
    "        return X.T @ W @ X"
   ]
  },
  {
   "cell_type": "markdown",
   "id": "501cf126",
   "metadata": {},
   "source": [
    "As this is a new concept to me, I am not quite sure why I would do this at all. However, learning from ChatGPT (see above link to my conversation), I now understand that maximum likelihood estimation (MLE) is the standard objective function for logistic regression and using minimum MSE is unusual (but not out of the question).\n",
    "\n",
    "An advantage to using MSE over MLE for logistic regression would be to have a more robust handling of outliers, and to avoid high computational complexity that could come with large datasets."
   ]
  }
 ],
 "metadata": {
  "kernelspec": {
   "display_name": "Python 3 (ipykernel)",
   "language": "python",
   "name": "python3"
  },
  "language_info": {
   "codemirror_mode": {
    "name": "ipython",
    "version": 3
   },
   "file_extension": ".py",
   "mimetype": "text/x-python",
   "name": "python",
   "nbconvert_exporter": "python",
   "pygments_lexer": "ipython3",
   "version": "3.11.4"
  }
 },
 "nbformat": 4,
 "nbformat_minor": 5
}

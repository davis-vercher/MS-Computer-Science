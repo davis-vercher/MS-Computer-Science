{
 "cells": [
  {
   "cell_type": "markdown",
   "id": "4c7d33a5",
   "metadata": {},
   "source": [
    "# CS 7324-400B: Lab Seven - RNNs"
   ]
  },
  {
   "cell_type": "markdown",
   "id": "ba203f68",
   "metadata": {},
   "source": [
    "#### Fall 2023\n",
    "#### Author: Davis Vercher (49377022)"
   ]
  },
  {
   "cell_type": "markdown",
   "id": "b0c39190",
   "metadata": {},
   "source": [
    "References & Citations\n",
    "- **Download Link:**\n",
    "  - https://www.kaggle.com/datasets/nicapotato/womens-ecommerce-clothing-reviews\n",
    "- **Source:**\n",
    "  - https://www.researchgate.net/publication/323545316_Statistical_Analysis_on_E-Commerce_Reviews_with_Sentiment_Classification_using_Bidirectional_Recurrent_Neural_Network"
   ]
  },
  {
   "cell_type": "code",
   "execution_count": 122,
   "id": "b9930a70",
   "metadata": {},
   "outputs": [],
   "source": [
    "import pandas as pd\n",
    "import numpy as np\n",
    "import missingno as mn\n",
    "import matplotlib.pyplot as plt\n",
    "import string\n",
    "import nltk\n",
    "from nltk.tokenize import word_tokenize, sent_tokenize\n",
    "from nltk.corpus import stopwords, wordnet\n",
    "from nltk.stem import WordNetLemmatizer\n",
    "from sklearn.model_selection import train_test_split\n",
    "import tensorflow as tf\n",
    "from tensorflow.keras.models import Sequential\n",
    "from tensorflow.keras.callbacks import ModelCheckpoint\n",
    "from tensorflow.keras.preprocessing.text import Tokenizer\n",
    "from tensorflow.keras.preprocessing.sequence import pad_sequences\n",
    "from keras.layers import Bidirectional, Dropout, Embedding, SimpleRNN, Dense, LSTM\n",
    "from keras.initializers import Constant\n",
    "from keras.models import load_model\n",
    "from sklearn.metrics import accuracy_score"
   ]
  },
  {
   "cell_type": "markdown",
   "id": "033ebd95",
   "metadata": {},
   "source": [
    "## 0. Background and use case"
   ]
  },
  {
   "cell_type": "markdown",
   "id": "a8a7a7fd",
   "metadata": {},
   "source": [
    "### 0a. Business use case"
   ]
  },
  {
   "cell_type": "markdown",
   "id": "a7a3ef70",
   "metadata": {},
   "source": [
    "**Task:** create a binary classification model that takes e-commerce review text and determines if the sentiment of the customer's review is positive or negative\n",
    "\n",
    "**Business purpose/use case:** This model theoretically will allow the company to listen to the voice of their customers (specifically their sentiments towards specific products) and help them to uncover insights about their products via these customer reviews automatically. This would be especially useful if a company had a product with many thousands of reviews, meaning it would take a marketing team many man-hours to manually sift through reviews to understand general trends in sentiment."
   ]
  },
  {
   "cell_type": "markdown",
   "id": "989e5a91",
   "metadata": {},
   "source": [
    "### 0b. Additional Context"
   ]
  },
  {
   "cell_type": "markdown",
   "id": "08f5dea8",
   "metadata": {},
   "source": [
    "I chose this use case because it is an exact use case that my company implements today. We use a third-party text analytics software to automatically apply a sentiment analysis score to online ecommerce reviews. Since it is a proprietary software, I do not know how it actually works. I am excited to dive in and learn a bit about how RNNs make that software work."
   ]
  },
  {
   "cell_type": "markdown",
   "id": "e33a6194",
   "metadata": {},
   "source": [
    "## 1. Preparation"
   ]
  },
  {
   "cell_type": "markdown",
   "id": "c37108ba",
   "metadata": {},
   "source": [
    "### 1a. Define and prepare dataset"
   ]
  },
  {
   "cell_type": "markdown",
   "id": "61397b1a",
   "metadata": {},
   "source": [
    "#### 1a1. Dataset overview"
   ]
  },
  {
   "cell_type": "markdown",
   "id": "20cf611d",
   "metadata": {},
   "source": [
    "The dataset chosen is a customer review dataset containing ~23,000 individual customer reviews on an assortment of different women's clothing items. Each review contains the age of the reviewer, an open text title, open text review, a rating of the product from 1 to 5 (5 being the highest), whether the customer does or does not recommend the product (0 for not recommended, 1 for recommended), and the class name of the item being reviewed (e.g., dresses, blouses, outerwear, etc.).\n",
    "\n",
    "For performance reasons (I do not have easy GPU access), I will reduce the dataset down to around 5,000 rows from the original 23,000. This will make lemmatization during preprocessing and the model training less time intensive.\n",
    "\n",
    "Every review has an age input. A very small portion of reviews do not have any input for the 'review' column, but a larger minority do not include any input for the 'title' column (while still having an associated input for the 'review'). All reviews have a 1 to 5 start rating and a 0 or 1 for whether the product in question is or is not recommended by the customer."
   ]
  },
  {
   "cell_type": "markdown",
   "id": "6220891f",
   "metadata": {},
   "source": [
    "#### 1a2. Loading the dataset and initial visualization/cleaning"
   ]
  },
  {
   "cell_type": "code",
   "execution_count": 2,
   "id": "bf208589",
   "metadata": {},
   "outputs": [],
   "source": [
    "full_df = pd.read_csv('ecommerce_reviews.csv')"
   ]
  },
  {
   "cell_type": "code",
   "execution_count": 3,
   "id": "61e19af3",
   "metadata": {},
   "outputs": [
    {
     "data": {
      "text/html": [
       "<div>\n",
       "<style scoped>\n",
       "    .dataframe tbody tr th:only-of-type {\n",
       "        vertical-align: middle;\n",
       "    }\n",
       "\n",
       "    .dataframe tbody tr th {\n",
       "        vertical-align: top;\n",
       "    }\n",
       "\n",
       "    .dataframe thead th {\n",
       "        text-align: right;\n",
       "    }\n",
       "</style>\n",
       "<table border=\"1\" class=\"dataframe\">\n",
       "  <thead>\n",
       "    <tr style=\"text-align: right;\">\n",
       "      <th></th>\n",
       "      <th>Age</th>\n",
       "      <th>Title</th>\n",
       "      <th>Review_Text</th>\n",
       "      <th>Rating</th>\n",
       "      <th>Recommended</th>\n",
       "      <th>Class_Name</th>\n",
       "    </tr>\n",
       "  </thead>\n",
       "  <tbody>\n",
       "    <tr>\n",
       "      <th>0</th>\n",
       "      <td>33</td>\n",
       "      <td>NaN</td>\n",
       "      <td>Absolutely wonderful - silky and sexy and comf...</td>\n",
       "      <td>4</td>\n",
       "      <td>1</td>\n",
       "      <td>Intimates</td>\n",
       "    </tr>\n",
       "    <tr>\n",
       "      <th>1</th>\n",
       "      <td>34</td>\n",
       "      <td>NaN</td>\n",
       "      <td>Love this dress!  it's sooo pretty.  i happene...</td>\n",
       "      <td>5</td>\n",
       "      <td>1</td>\n",
       "      <td>Dresses</td>\n",
       "    </tr>\n",
       "    <tr>\n",
       "      <th>2</th>\n",
       "      <td>60</td>\n",
       "      <td>Some major design flaws</td>\n",
       "      <td>I had such high hopes for this dress and reall...</td>\n",
       "      <td>3</td>\n",
       "      <td>0</td>\n",
       "      <td>Dresses</td>\n",
       "    </tr>\n",
       "    <tr>\n",
       "      <th>3</th>\n",
       "      <td>50</td>\n",
       "      <td>My favorite buy!</td>\n",
       "      <td>I love, love, love this jumpsuit. it's fun, fl...</td>\n",
       "      <td>5</td>\n",
       "      <td>1</td>\n",
       "      <td>Pants</td>\n",
       "    </tr>\n",
       "    <tr>\n",
       "      <th>4</th>\n",
       "      <td>47</td>\n",
       "      <td>Flattering shirt</td>\n",
       "      <td>This shirt is very flattering to all due to th...</td>\n",
       "      <td>5</td>\n",
       "      <td>1</td>\n",
       "      <td>Blouses</td>\n",
       "    </tr>\n",
       "  </tbody>\n",
       "</table>\n",
       "</div>"
      ],
      "text/plain": [
       "   Age                    Title  \\\n",
       "0   33                      NaN   \n",
       "1   34                      NaN   \n",
       "2   60  Some major design flaws   \n",
       "3   50         My favorite buy!   \n",
       "4   47         Flattering shirt   \n",
       "\n",
       "                                         Review_Text  Rating  Recommended  \\\n",
       "0  Absolutely wonderful - silky and sexy and comf...       4            1   \n",
       "1  Love this dress!  it's sooo pretty.  i happene...       5            1   \n",
       "2  I had such high hopes for this dress and reall...       3            0   \n",
       "3  I love, love, love this jumpsuit. it's fun, fl...       5            1   \n",
       "4  This shirt is very flattering to all due to th...       5            1   \n",
       "\n",
       "  Class_Name  \n",
       "0  Intimates  \n",
       "1    Dresses  \n",
       "2    Dresses  \n",
       "3      Pants  \n",
       "4    Blouses  "
      ]
     },
     "execution_count": 3,
     "metadata": {},
     "output_type": "execute_result"
    }
   ],
   "source": [
    "full_df.head()"
   ]
  },
  {
   "cell_type": "code",
   "execution_count": 4,
   "id": "17ec5e2a",
   "metadata": {},
   "outputs": [
    {
     "name": "stdout",
     "output_type": "stream",
     "text": [
      "23472\n"
     ]
    }
   ],
   "source": [
    "print(len(full_df))"
   ]
  },
  {
   "cell_type": "code",
   "execution_count": 5,
   "id": "8515b980",
   "metadata": {},
   "outputs": [
    {
     "name": "stdout",
     "output_type": "stream",
     "text": [
      "850\n"
     ]
    }
   ],
   "source": [
    "print(full_df.duplicated(['Review_Text']).sum())"
   ]
  },
  {
   "cell_type": "code",
   "execution_count": 6,
   "id": "dfd21ad6",
   "metadata": {},
   "outputs": [],
   "source": [
    "full_df = full_df.drop_duplicates(subset=['Review_Text'])"
   ]
  },
  {
   "cell_type": "code",
   "execution_count": 7,
   "id": "db231078",
   "metadata": {},
   "outputs": [
    {
     "name": "stdout",
     "output_type": "stream",
     "text": [
      "0\n"
     ]
    }
   ],
   "source": [
    "print(full_df.duplicated(['Review_Text']).sum())"
   ]
  },
  {
   "cell_type": "code",
   "execution_count": 8,
   "id": "943508d0",
   "metadata": {},
   "outputs": [
    {
     "name": "stdout",
     "output_type": "stream",
     "text": [
      "22622\n"
     ]
    }
   ],
   "source": [
    "print(len(full_df))"
   ]
  },
  {
   "cell_type": "code",
   "execution_count": 9,
   "id": "684e53bf",
   "metadata": {},
   "outputs": [
    {
     "data": {
      "image/png": "[encoded data removed]",
      "text/plain": [
       "<Figure size 2500x1000 with 2 Axes>"
      ]
     },
     "metadata": {},
     "output_type": "display_data"
    }
   ],
   "source": [
    "mn.matrix(full_df)\n",
    "plt.show()"
   ]
  },
  {
   "cell_type": "code",
   "execution_count": 10,
   "id": "601fa735",
   "metadata": {},
   "outputs": [
    {
     "name": "stdout",
     "output_type": "stream",
     "text": [
      "Age               0\n",
      "Title          2966\n",
      "Review_Text       1\n",
      "Rating            0\n",
      "Recommended       0\n",
      "Class_Name        0\n",
      "dtype: int64\n"
     ]
    }
   ],
   "source": [
    "print(full_df.isna().sum())"
   ]
  },
  {
   "cell_type": "code",
   "execution_count": 11,
   "id": "fbe8255c",
   "metadata": {},
   "outputs": [],
   "source": [
    "full_df.dropna(subset=['Review_Text'], inplace=True)"
   ]
  },
  {
   "cell_type": "code",
   "execution_count": 12,
   "id": "185df7ff",
   "metadata": {},
   "outputs": [
    {
     "name": "stdout",
     "output_type": "stream",
     "text": [
      "Age               0\n",
      "Title          2965\n",
      "Review_Text       0\n",
      "Rating            0\n",
      "Recommended       0\n",
      "Class_Name        0\n",
      "dtype: int64\n"
     ]
    }
   ],
   "source": [
    "print(full_df.isna().sum())"
   ]
  },
  {
   "cell_type": "markdown",
   "id": "102d7921",
   "metadata": {},
   "source": [
    "Now that I've reduced the null values I don't want, I need to reduce the dataset down to 5,000 entries (as discussed above). I will do this by randomly sampling 2,500 entries from 'Recommended' = 0 (i.e., negative review) and 2,500 entries from 'Recommended' = 1 (i.e., positive review). This will even out my target variable and balance the used dataset."
   ]
  },
  {
   "cell_type": "code",
   "execution_count": 13,
   "id": "1c31dc33",
   "metadata": {},
   "outputs": [
    {
     "data": {
      "text/html": [
       "<div>\n",
       "<style scoped>\n",
       "    .dataframe tbody tr th:only-of-type {\n",
       "        vertical-align: middle;\n",
       "    }\n",
       "\n",
       "    .dataframe tbody tr th {\n",
       "        vertical-align: top;\n",
       "    }\n",
       "\n",
       "    .dataframe thead th {\n",
       "        text-align: right;\n",
       "    }\n",
       "</style>\n",
       "<table border=\"1\" class=\"dataframe\">\n",
       "  <thead>\n",
       "    <tr style=\"text-align: right;\">\n",
       "      <th></th>\n",
       "      <th>Age</th>\n",
       "      <th>Title</th>\n",
       "      <th>Review_Text</th>\n",
       "      <th>Rating</th>\n",
       "      <th>Recommended</th>\n",
       "      <th>Class_Name</th>\n",
       "    </tr>\n",
       "  </thead>\n",
       "  <tbody>\n",
       "    <tr>\n",
       "      <th>0</th>\n",
       "      <td>33</td>\n",
       "      <td>NaN</td>\n",
       "      <td>Absolutely wonderful - silky and sexy and comf...</td>\n",
       "      <td>4</td>\n",
       "      <td>1</td>\n",
       "      <td>Intimates</td>\n",
       "    </tr>\n",
       "    <tr>\n",
       "      <th>1</th>\n",
       "      <td>34</td>\n",
       "      <td>NaN</td>\n",
       "      <td>Love this dress!  it's sooo pretty.  i happene...</td>\n",
       "      <td>5</td>\n",
       "      <td>1</td>\n",
       "      <td>Dresses</td>\n",
       "    </tr>\n",
       "    <tr>\n",
       "      <th>2</th>\n",
       "      <td>60</td>\n",
       "      <td>Some major design flaws</td>\n",
       "      <td>I had such high hopes for this dress and reall...</td>\n",
       "      <td>3</td>\n",
       "      <td>0</td>\n",
       "      <td>Dresses</td>\n",
       "    </tr>\n",
       "    <tr>\n",
       "      <th>3</th>\n",
       "      <td>50</td>\n",
       "      <td>My favorite buy!</td>\n",
       "      <td>I love, love, love this jumpsuit. it's fun, fl...</td>\n",
       "      <td>5</td>\n",
       "      <td>1</td>\n",
       "      <td>Pants</td>\n",
       "    </tr>\n",
       "    <tr>\n",
       "      <th>4</th>\n",
       "      <td>47</td>\n",
       "      <td>Flattering shirt</td>\n",
       "      <td>This shirt is very flattering to all due to th...</td>\n",
       "      <td>5</td>\n",
       "      <td>1</td>\n",
       "      <td>Blouses</td>\n",
       "    </tr>\n",
       "  </tbody>\n",
       "</table>\n",
       "</div>"
      ],
      "text/plain": [
       "   Age                    Title  \\\n",
       "0   33                      NaN   \n",
       "1   34                      NaN   \n",
       "2   60  Some major design flaws   \n",
       "3   50         My favorite buy!   \n",
       "4   47         Flattering shirt   \n",
       "\n",
       "                                         Review_Text  Rating  Recommended  \\\n",
       "0  Absolutely wonderful - silky and sexy and comf...       4            1   \n",
       "1  Love this dress!  it's sooo pretty.  i happene...       5            1   \n",
       "2  I had such high hopes for this dress and reall...       3            0   \n",
       "3  I love, love, love this jumpsuit. it's fun, fl...       5            1   \n",
       "4  This shirt is very flattering to all due to th...       5            1   \n",
       "\n",
       "  Class_Name  \n",
       "0  Intimates  \n",
       "1    Dresses  \n",
       "2    Dresses  \n",
       "3      Pants  \n",
       "4    Blouses  "
      ]
     },
     "execution_count": 13,
     "metadata": {},
     "output_type": "execute_result"
    }
   ],
   "source": [
    "full_df.head()"
   ]
  },
  {
   "cell_type": "code",
   "execution_count": 14,
   "id": "b9e1f92c",
   "metadata": {},
   "outputs": [],
   "source": [
    "full_df['Recommended'] = full_df['Recommended'].astype(int)"
   ]
  },
  {
   "cell_type": "code",
   "execution_count": 15,
   "id": "0c35f012",
   "metadata": {},
   "outputs": [
    {
     "data": {
      "text/html": [
       "<div>\n",
       "<style scoped>\n",
       "    .dataframe tbody tr th:only-of-type {\n",
       "        vertical-align: middle;\n",
       "    }\n",
       "\n",
       "    .dataframe tbody tr th {\n",
       "        vertical-align: top;\n",
       "    }\n",
       "\n",
       "    .dataframe thead th {\n",
       "        text-align: right;\n",
       "    }\n",
       "</style>\n",
       "<table border=\"1\" class=\"dataframe\">\n",
       "  <thead>\n",
       "    <tr style=\"text-align: right;\">\n",
       "      <th></th>\n",
       "      <th>Age</th>\n",
       "      <th>Title</th>\n",
       "      <th>Review_Text</th>\n",
       "      <th>Rating</th>\n",
       "      <th>Recommended</th>\n",
       "      <th>Class_Name</th>\n",
       "    </tr>\n",
       "  </thead>\n",
       "  <tbody>\n",
       "    <tr>\n",
       "      <th>0</th>\n",
       "      <td>33</td>\n",
       "      <td>NaN</td>\n",
       "      <td>Absolutely wonderful - silky and sexy and comf...</td>\n",
       "      <td>4</td>\n",
       "      <td>1</td>\n",
       "      <td>Intimates</td>\n",
       "    </tr>\n",
       "    <tr>\n",
       "      <th>1</th>\n",
       "      <td>34</td>\n",
       "      <td>NaN</td>\n",
       "      <td>Love this dress!  it's sooo pretty.  i happene...</td>\n",
       "      <td>5</td>\n",
       "      <td>1</td>\n",
       "      <td>Dresses</td>\n",
       "    </tr>\n",
       "    <tr>\n",
       "      <th>2</th>\n",
       "      <td>60</td>\n",
       "      <td>Some major design flaws</td>\n",
       "      <td>I had such high hopes for this dress and reall...</td>\n",
       "      <td>3</td>\n",
       "      <td>0</td>\n",
       "      <td>Dresses</td>\n",
       "    </tr>\n",
       "    <tr>\n",
       "      <th>3</th>\n",
       "      <td>50</td>\n",
       "      <td>My favorite buy!</td>\n",
       "      <td>I love, love, love this jumpsuit. it's fun, fl...</td>\n",
       "      <td>5</td>\n",
       "      <td>1</td>\n",
       "      <td>Pants</td>\n",
       "    </tr>\n",
       "    <tr>\n",
       "      <th>4</th>\n",
       "      <td>47</td>\n",
       "      <td>Flattering shirt</td>\n",
       "      <td>This shirt is very flattering to all due to th...</td>\n",
       "      <td>5</td>\n",
       "      <td>1</td>\n",
       "      <td>Blouses</td>\n",
       "    </tr>\n",
       "  </tbody>\n",
       "</table>\n",
       "</div>"
      ],
      "text/plain": [
       "   Age                    Title  \\\n",
       "0   33                      NaN   \n",
       "1   34                      NaN   \n",
       "2   60  Some major design flaws   \n",
       "3   50         My favorite buy!   \n",
       "4   47         Flattering shirt   \n",
       "\n",
       "                                         Review_Text  Rating  Recommended  \\\n",
       "0  Absolutely wonderful - silky and sexy and comf...       4            1   \n",
       "1  Love this dress!  it's sooo pretty.  i happene...       5            1   \n",
       "2  I had such high hopes for this dress and reall...       3            0   \n",
       "3  I love, love, love this jumpsuit. it's fun, fl...       5            1   \n",
       "4  This shirt is very flattering to all due to th...       5            1   \n",
       "\n",
       "  Class_Name  \n",
       "0  Intimates  \n",
       "1    Dresses  \n",
       "2    Dresses  \n",
       "3      Pants  \n",
       "4    Blouses  "
      ]
     },
     "execution_count": 15,
     "metadata": {},
     "output_type": "execute_result"
    }
   ],
   "source": [
    "full_df.head()"
   ]
  },
  {
   "cell_type": "code",
   "execution_count": 16,
   "id": "23004e12",
   "metadata": {},
   "outputs": [],
   "source": [
    "df_0 = full_df[full_df['Recommended'] == 0]\n",
    "df_1 = full_df[full_df['Recommended'] == 1]"
   ]
  },
  {
   "cell_type": "code",
   "execution_count": 17,
   "id": "b918ea69",
   "metadata": {},
   "outputs": [],
   "source": [
    "sampled_0 = df_0.sample(n=2500, random_state=17)\n",
    "sampled_1 = df_1.sample(n=2500, random_state=17)\n",
    "\n",
    "df = pd.concat([sampled_0, sampled_1]).reset_index(drop=True)"
   ]
  },
  {
   "cell_type": "code",
   "execution_count": 18,
   "id": "93ec8677",
   "metadata": {},
   "outputs": [],
   "source": [
    "df = df.sample(frac=1).reset_index(drop=True)"
   ]
  },
  {
   "cell_type": "code",
   "execution_count": 19,
   "id": "744736da",
   "metadata": {},
   "outputs": [
    {
     "data": {
      "text/html": [
       "<div>\n",
       "<style scoped>\n",
       "    .dataframe tbody tr th:only-of-type {\n",
       "        vertical-align: middle;\n",
       "    }\n",
       "\n",
       "    .dataframe tbody tr th {\n",
       "        vertical-align: top;\n",
       "    }\n",
       "\n",
       "    .dataframe thead th {\n",
       "        text-align: right;\n",
       "    }\n",
       "</style>\n",
       "<table border=\"1\" class=\"dataframe\">\n",
       "  <thead>\n",
       "    <tr style=\"text-align: right;\">\n",
       "      <th></th>\n",
       "      <th>Age</th>\n",
       "      <th>Title</th>\n",
       "      <th>Review_Text</th>\n",
       "      <th>Rating</th>\n",
       "      <th>Recommended</th>\n",
       "      <th>Class_Name</th>\n",
       "    </tr>\n",
       "  </thead>\n",
       "  <tbody>\n",
       "    <tr>\n",
       "      <th>0</th>\n",
       "      <td>35</td>\n",
       "      <td>Unflattering fit</td>\n",
       "      <td>This dress runs a bit small. the large arm hol...</td>\n",
       "      <td>3</td>\n",
       "      <td>0</td>\n",
       "      <td>Dresses</td>\n",
       "    </tr>\n",
       "    <tr>\n",
       "      <th>1</th>\n",
       "      <td>39</td>\n",
       "      <td>Velvet crush</td>\n",
       "      <td>This dress is so soft and cozy and pretty.  lo...</td>\n",
       "      <td>5</td>\n",
       "      <td>1</td>\n",
       "      <td>Dresses</td>\n",
       "    </tr>\n",
       "    <tr>\n",
       "      <th>2</th>\n",
       "      <td>29</td>\n",
       "      <td>Must have, elegant, chic</td>\n",
       "      <td>This top! i was hesitant to try this on becaus...</td>\n",
       "      <td>5</td>\n",
       "      <td>1</td>\n",
       "      <td>Blouses</td>\n",
       "    </tr>\n",
       "    <tr>\n",
       "      <th>3</th>\n",
       "      <td>32</td>\n",
       "      <td>Love these!</td>\n",
       "      <td>These pants are so comfy i'm getting a second ...</td>\n",
       "      <td>5</td>\n",
       "      <td>1</td>\n",
       "      <td>Pants</td>\n",
       "    </tr>\n",
       "    <tr>\n",
       "      <th>4</th>\n",
       "      <td>26</td>\n",
       "      <td>NaN</td>\n",
       "      <td>So, this is just the most lovely romper. beaut...</td>\n",
       "      <td>3</td>\n",
       "      <td>1</td>\n",
       "      <td>Dresses</td>\n",
       "    </tr>\n",
       "  </tbody>\n",
       "</table>\n",
       "</div>"
      ],
      "text/plain": [
       "   Age                     Title  \\\n",
       "0   35          Unflattering fit   \n",
       "1   39              Velvet crush   \n",
       "2   29  Must have, elegant, chic   \n",
       "3   32               Love these!   \n",
       "4   26                       NaN   \n",
       "\n",
       "                                         Review_Text  Rating  Recommended  \\\n",
       "0  This dress runs a bit small. the large arm hol...       3            0   \n",
       "1  This dress is so soft and cozy and pretty.  lo...       5            1   \n",
       "2  This top! i was hesitant to try this on becaus...       5            1   \n",
       "3  These pants are so comfy i'm getting a second ...       5            1   \n",
       "4  So, this is just the most lovely romper. beaut...       3            1   \n",
       "\n",
       "  Class_Name  \n",
       "0    Dresses  \n",
       "1    Dresses  \n",
       "2    Blouses  \n",
       "3      Pants  \n",
       "4    Dresses  "
      ]
     },
     "execution_count": 19,
     "metadata": {},
     "output_type": "execute_result"
    }
   ],
   "source": [
    "df.head()"
   ]
  },
  {
   "cell_type": "markdown",
   "id": "cec93897",
   "metadata": {},
   "source": [
    "I now have only null values in the \"Title\" column. I am leaving in these title-less entries since there are quite a few and the presence of a title is not critical to our evaluation of the \"Review_Text\" column for sentiment analysis.\n",
    "\n",
    "This data is now ready for tokenization."
   ]
  },
  {
   "cell_type": "markdown",
   "id": "96cf98f2",
   "metadata": {},
   "source": [
    "#### 1a3. Tokenization"
   ]
  },
  {
   "cell_type": "markdown",
   "id": "e022cd3e",
   "metadata": {},
   "source": [
    "I have never done any NLP work before, and need some help understanding the fundamentals of tokenization. For that I turned to ChatGPT-4.\n",
    "\n",
    "Conversation Link: https://chat.openai.com/share/232ddde5-3c9b-4621-b2bf-787393de32af"
   ]
  },
  {
   "cell_type": "markdown",
   "id": "ffe34edb",
   "metadata": {},
   "source": [
    "Since this is my first time doing a recurrent network, I want to experience a more basic implemenation of tokenization to begin (word-level tokenization). If I feel comfortable experimenting with this more basic tokenization, I plan to move onto a more appropriate tokenization for this use case, such as subword byte pair encoding (BPE). This approach is more appropriate theoritically for this dataset and use case because it splits words into smaller more frequent subwords/subunits and can lead to a better handling by the model of words not encountered in training (such as we expect from the varied and complicated inputs of open-text customer reviews)."
   ]
  },
  {
   "cell_type": "markdown",
   "id": "159887b6",
   "metadata": {},
   "source": [
    "Before I can tokenize the entries of the 'Review_Text' column, I need to do some preprocessing (i.e., removing punctuation or making all letter lowercase) and reduce the vocabulary (i.e., removing 'stopwords' like 'is' or 'the' that don't contribute to the meaning). This will help reduce the complexity of the full token vocabulary."
   ]
  },
  {
   "cell_type": "code",
   "execution_count": 20,
   "id": "cfbd8e71",
   "metadata": {},
   "outputs": [
    {
     "name": "stderr",
     "output_type": "stream",
     "text": [
      "[nltk_data] Downloading package punkt to\n",
      "[nltk_data]     C:\\Users\\dvercher\\AppData\\Roaming\\nltk_data...\n",
      "[nltk_data]   Package punkt is already up-to-date!\n",
      "[nltk_data] Downloading package stopwords to\n",
      "[nltk_data]     C:\\Users\\dvercher\\AppData\\Roaming\\nltk_data...\n",
      "[nltk_data]   Package stopwords is already up-to-date!\n"
     ]
    },
    {
     "data": {
      "text/plain": [
       "True"
      ]
     },
     "execution_count": 20,
     "metadata": {},
     "output_type": "execute_result"
    }
   ],
   "source": [
    "nltk.download('punkt')\n",
    "nltk.download('stopwords')"
   ]
  },
  {
   "cell_type": "code",
   "execution_count": 21,
   "id": "375ff0ae",
   "metadata": {},
   "outputs": [],
   "source": [
    "stop_words = set(stopwords.words('english'))\n",
    "punctuation = set(string.punctuation)"
   ]
  },
  {
   "cell_type": "code",
   "execution_count": 22,
   "id": "b4d3dca7",
   "metadata": {},
   "outputs": [],
   "source": [
    "def process_text(text):\n",
    "    tokens = word_tokenize(text.lower())\n",
    "    filtered_tokens = [word for word in tokens if word not in stop_words and word not in punctuation]\n",
    "    return ' '.join(filtered_tokens)"
   ]
  },
  {
   "cell_type": "markdown",
   "id": "93372114",
   "metadata": {},
   "source": [
    "I also want to apply lemmatization my tokens so that words like 'running', 'runs', and 'run' all tokenize to just 'run'. This reduces the vocabulary size as well."
   ]
  },
  {
   "cell_type": "code",
   "execution_count": 24,
   "id": "5bceb7d0",
   "metadata": {},
   "outputs": [
    {
     "name": "stderr",
     "output_type": "stream",
     "text": [
      "[nltk_data] Downloading package wordnet to\n",
      "[nltk_data]     C:\\Users\\dvercher\\AppData\\Roaming\\nltk_data...\n",
      "[nltk_data]   Package wordnet is already up-to-date!\n",
      "[nltk_data] Downloading package averaged_perceptron_tagger to\n",
      "[nltk_data]     C:\\Users\\dvercher\\AppData\\Roaming\\nltk_data...\n",
      "[nltk_data]   Package averaged_perceptron_tagger is already up-to-\n",
      "[nltk_data]       date!\n"
     ]
    },
    {
     "data": {
      "text/plain": [
       "True"
      ]
     },
     "execution_count": 24,
     "metadata": {},
     "output_type": "execute_result"
    }
   ],
   "source": [
    "nltk.download('wordnet')\n",
    "nltk.download('averaged_perceptron_tagger')"
   ]
  },
  {
   "cell_type": "code",
   "execution_count": 25,
   "id": "09e75080",
   "metadata": {},
   "outputs": [],
   "source": [
    "lemmatizer = WordNetLemmatizer()"
   ]
  },
  {
   "cell_type": "code",
   "execution_count": 26,
   "id": "c7cd15ad",
   "metadata": {},
   "outputs": [],
   "source": [
    "def get_wordnet_pos(word):\n",
    "    tag = nltk.pos_tag([word])[0][1][0].upper()\n",
    "    tag_dict = {\"J\": wordnet.ADJ,\n",
    "                \"N\": wordnet.NOUN,\n",
    "                \"V\": wordnet.VERB,\n",
    "                \"R\": wordnet.ADV}\n",
    "\n",
    "    return tag_dict.get(tag, wordnet.NOUN)\n",
    "\n",
    "def lemmatize_sentence(sentence):\n",
    "    tokens = word_tokenize(sentence)\n",
    "    lemmatized_tokens = [lemmatizer.lemmatize(word, get_wordnet_pos(word)) for word in tokens]\n",
    "    return ' '.join(lemmatized_tokens)"
   ]
  },
  {
   "cell_type": "code",
   "execution_count": 27,
   "id": "ab1f5f51",
   "metadata": {},
   "outputs": [
    {
     "name": "stdout",
     "output_type": "stream",
     "text": [
      "The cat be chase the mouse .\n"
     ]
    }
   ],
   "source": [
    "# Example of how this works from ChatGPT-4... very interesting!\n",
    "sentence = \"The cats are chasing the mice.\"\n",
    "lemmatized_sentence = lemmatize_sentence(sentence)\n",
    "print(lemmatized_sentence)"
   ]
  },
  {
   "cell_type": "code",
   "execution_count": 28,
   "id": "67b553fd",
   "metadata": {},
   "outputs": [],
   "source": [
    "def process(text, index, total):\n",
    "    if index % 500 == 0:\n",
    "        print(f\"Processing {index} of {total}\")\n",
    "    return process_text(lemmatize_sentence(text))"
   ]
  },
  {
   "cell_type": "code",
   "execution_count": 29,
   "id": "6c2fa691",
   "metadata": {
    "scrolled": true
   },
   "outputs": [
    {
     "name": "stdout",
     "output_type": "stream",
     "text": [
      "Processing 0 of 5000\n",
      "Processing 500 of 5000\n",
      "Processing 1000 of 5000\n",
      "Processing 1500 of 5000\n",
      "Processing 2000 of 5000\n",
      "Processing 2500 of 5000\n",
      "Processing 3000 of 5000\n",
      "Processing 3500 of 5000\n",
      "Processing 4000 of 5000\n",
      "Processing 4500 of 5000\n"
     ]
    }
   ],
   "source": [
    "total = len(df)\n",
    "df['Reviews_Processed'] = [process(text, i, total) for i, text in enumerate(df['Review_Text'])]"
   ]
  },
  {
   "cell_type": "code",
   "execution_count": 30,
   "id": "8f63c230",
   "metadata": {},
   "outputs": [
    {
     "data": {
      "text/html": [
       "<div>\n",
       "<style scoped>\n",
       "    .dataframe tbody tr th:only-of-type {\n",
       "        vertical-align: middle;\n",
       "    }\n",
       "\n",
       "    .dataframe tbody tr th {\n",
       "        vertical-align: top;\n",
       "    }\n",
       "\n",
       "    .dataframe thead th {\n",
       "        text-align: right;\n",
       "    }\n",
       "</style>\n",
       "<table border=\"1\" class=\"dataframe\">\n",
       "  <thead>\n",
       "    <tr style=\"text-align: right;\">\n",
       "      <th></th>\n",
       "      <th>Age</th>\n",
       "      <th>Title</th>\n",
       "      <th>Review_Text</th>\n",
       "      <th>Rating</th>\n",
       "      <th>Recommended</th>\n",
       "      <th>Class_Name</th>\n",
       "      <th>Reviews_Processed</th>\n",
       "    </tr>\n",
       "  </thead>\n",
       "  <tbody>\n",
       "    <tr>\n",
       "      <th>0</th>\n",
       "      <td>35</td>\n",
       "      <td>Unflattering fit</td>\n",
       "      <td>This dress runs a bit small. the large arm hol...</td>\n",
       "      <td>3</td>\n",
       "      <td>0</td>\n",
       "      <td>Dresses</td>\n",
       "      <td>dress run bit small large arm hole unflatterin...</td>\n",
       "    </tr>\n",
       "    <tr>\n",
       "      <th>1</th>\n",
       "      <td>39</td>\n",
       "      <td>Velvet crush</td>\n",
       "      <td>This dress is so soft and cozy and pretty.  lo...</td>\n",
       "      <td>5</td>\n",
       "      <td>1</td>\n",
       "      <td>Dresses</td>\n",
       "      <td>dress soft cozy pretty love shine interest she...</td>\n",
       "    </tr>\n",
       "    <tr>\n",
       "      <th>2</th>\n",
       "      <td>29</td>\n",
       "      <td>Must have, elegant, chic</td>\n",
       "      <td>This top! i was hesitant to try this on becaus...</td>\n",
       "      <td>5</td>\n",
       "      <td>1</td>\n",
       "      <td>Blouses</td>\n",
       "      <td>top hesitant try felt busy however must 's rig...</td>\n",
       "    </tr>\n",
       "    <tr>\n",
       "      <th>3</th>\n",
       "      <td>32</td>\n",
       "      <td>Love these!</td>\n",
       "      <td>These pants are so comfy i'm getting a second ...</td>\n",
       "      <td>5</td>\n",
       "      <td>1</td>\n",
       "      <td>Pants</td>\n",
       "      <td>pant comfy 'm get second pair order olive colo...</td>\n",
       "    </tr>\n",
       "    <tr>\n",
       "      <th>4</th>\n",
       "      <td>26</td>\n",
       "      <td>NaN</td>\n",
       "      <td>So, this is just the most lovely romper. beaut...</td>\n",
       "      <td>3</td>\n",
       "      <td>1</td>\n",
       "      <td>Dresses</td>\n",
       "      <td>lovely romper beautifully make flowey comforta...</td>\n",
       "    </tr>\n",
       "  </tbody>\n",
       "</table>\n",
       "</div>"
      ],
      "text/plain": [
       "   Age                     Title  \\\n",
       "0   35          Unflattering fit   \n",
       "1   39              Velvet crush   \n",
       "2   29  Must have, elegant, chic   \n",
       "3   32               Love these!   \n",
       "4   26                       NaN   \n",
       "\n",
       "                                         Review_Text  Rating  Recommended  \\\n",
       "0  This dress runs a bit small. the large arm hol...       3            0   \n",
       "1  This dress is so soft and cozy and pretty.  lo...       5            1   \n",
       "2  This top! i was hesitant to try this on becaus...       5            1   \n",
       "3  These pants are so comfy i'm getting a second ...       5            1   \n",
       "4  So, this is just the most lovely romper. beaut...       3            1   \n",
       "\n",
       "  Class_Name                                  Reviews_Processed  \n",
       "0    Dresses  dress run bit small large arm hole unflatterin...  \n",
       "1    Dresses  dress soft cozy pretty love shine interest she...  \n",
       "2    Blouses  top hesitant try felt busy however must 's rig...  \n",
       "3      Pants  pant comfy 'm get second pair order olive colo...  \n",
       "4    Dresses  lovely romper beautifully make flowey comforta...  "
      ]
     },
     "execution_count": 30,
     "metadata": {},
     "output_type": "execute_result"
    }
   ],
   "source": [
    "df.head()"
   ]
  },
  {
   "cell_type": "code",
   "execution_count": 31,
   "id": "14dd0fe4",
   "metadata": {},
   "outputs": [],
   "source": [
    "tokenizer = tf.keras.preprocessing.text.Tokenizer(num_words=5000)"
   ]
  },
  {
   "cell_type": "code",
   "execution_count": 32,
   "id": "ff7f8640",
   "metadata": {},
   "outputs": [],
   "source": [
    "tokenizer.fit_on_texts(df['Reviews_Processed'])"
   ]
  },
  {
   "cell_type": "code",
   "execution_count": 33,
   "id": "8cd2a171",
   "metadata": {},
   "outputs": [],
   "source": [
    "sequences = tokenizer.texts_to_sequences(df['Reviews_Processed'])"
   ]
  },
  {
   "cell_type": "code",
   "execution_count": 34,
   "id": "a68549d3",
   "metadata": {},
   "outputs": [],
   "source": [
    "max_length = 100\n",
    "padded_sequences = pad_sequences(sequences, maxlen=max_length, padding='post')"
   ]
  },
  {
   "cell_type": "code",
   "execution_count": 35,
   "id": "dd79a309",
   "metadata": {},
   "outputs": [
    {
     "data": {
      "text/html": [
       "<div>\n",
       "<style scoped>\n",
       "    .dataframe tbody tr th:only-of-type {\n",
       "        vertical-align: middle;\n",
       "    }\n",
       "\n",
       "    .dataframe tbody tr th {\n",
       "        vertical-align: top;\n",
       "    }\n",
       "\n",
       "    .dataframe thead th {\n",
       "        text-align: right;\n",
       "    }\n",
       "</style>\n",
       "<table border=\"1\" class=\"dataframe\">\n",
       "  <thead>\n",
       "    <tr style=\"text-align: right;\">\n",
       "      <th></th>\n",
       "      <th>Age</th>\n",
       "      <th>Title</th>\n",
       "      <th>Review_Text</th>\n",
       "      <th>Rating</th>\n",
       "      <th>Recommended</th>\n",
       "      <th>Class_Name</th>\n",
       "      <th>Reviews_Processed</th>\n",
       "      <th>Tokenized_Reviews</th>\n",
       "    </tr>\n",
       "  </thead>\n",
       "  <tbody>\n",
       "    <tr>\n",
       "      <th>0</th>\n",
       "      <td>35</td>\n",
       "      <td>Unflattering fit</td>\n",
       "      <td>This dress runs a bit small. the large arm hol...</td>\n",
       "      <td>3</td>\n",
       "      <td>0</td>\n",
       "      <td>Dresses</td>\n",
       "      <td>dress run bit small large arm hole unflatterin...</td>\n",
       "      <td>[1, 49, 50, 14, 29, 76, 204, 207, 14, 112, 33,...</td>\n",
       "    </tr>\n",
       "    <tr>\n",
       "      <th>1</th>\n",
       "      <td>39</td>\n",
       "      <td>Velvet crush</td>\n",
       "      <td>This dress is so soft and cozy and pretty.  lo...</td>\n",
       "      <td>5</td>\n",
       "      <td>1</td>\n",
       "      <td>Dresses</td>\n",
       "      <td>dress soft cozy pretty love shine interest she...</td>\n",
       "      <td>[1, 48, 411, 59, 7, 2343, 431, 1287, 1595, 493...</td>\n",
       "    </tr>\n",
       "    <tr>\n",
       "      <th>2</th>\n",
       "      <td>29</td>\n",
       "      <td>Must have, elegant, chic</td>\n",
       "      <td>This top! i was hesitant to try this on becaus...</td>\n",
       "      <td>5</td>\n",
       "      <td>1</td>\n",
       "      <td>Blouses</td>\n",
       "      <td>top hesitant try felt busy however must 's rig...</td>\n",
       "      <td>[6, 1085, 25, 135, 1876, 71, 349, 9, 81, 508, ...</td>\n",
       "    </tr>\n",
       "    <tr>\n",
       "      <th>3</th>\n",
       "      <td>32</td>\n",
       "      <td>Love these!</td>\n",
       "      <td>These pants are so comfy i'm getting a second ...</td>\n",
       "      <td>5</td>\n",
       "      <td>1</td>\n",
       "      <td>Pants</td>\n",
       "      <td>pant comfy 'm get second pair order olive colo...</td>\n",
       "      <td>[67, 203, 13, 22, 366, 122, 18, 1086, 11, 14, ...</td>\n",
       "    </tr>\n",
       "    <tr>\n",
       "      <th>4</th>\n",
       "      <td>26</td>\n",
       "      <td>NaN</td>\n",
       "      <td>So, this is just the most lovely romper. beaut...</td>\n",
       "      <td>3</td>\n",
       "      <td>1</td>\n",
       "      <td>Dresses</td>\n",
       "      <td>lovely romper beautifully make flowey comforta...</td>\n",
       "      <td>[138, 580, 350, 19, 2756, 51, 121, 106, 859, 2...</td>\n",
       "    </tr>\n",
       "  </tbody>\n",
       "</table>\n",
       "</div>"
      ],
      "text/plain": [
       "   Age                     Title  \\\n",
       "0   35          Unflattering fit   \n",
       "1   39              Velvet crush   \n",
       "2   29  Must have, elegant, chic   \n",
       "3   32               Love these!   \n",
       "4   26                       NaN   \n",
       "\n",
       "                                         Review_Text  Rating  Recommended  \\\n",
       "0  This dress runs a bit small. the large arm hol...       3            0   \n",
       "1  This dress is so soft and cozy and pretty.  lo...       5            1   \n",
       "2  This top! i was hesitant to try this on becaus...       5            1   \n",
       "3  These pants are so comfy i'm getting a second ...       5            1   \n",
       "4  So, this is just the most lovely romper. beaut...       3            1   \n",
       "\n",
       "  Class_Name                                  Reviews_Processed  \\\n",
       "0    Dresses  dress run bit small large arm hole unflatterin...   \n",
       "1    Dresses  dress soft cozy pretty love shine interest she...   \n",
       "2    Blouses  top hesitant try felt busy however must 's rig...   \n",
       "3      Pants  pant comfy 'm get second pair order olive colo...   \n",
       "4    Dresses  lovely romper beautifully make flowey comforta...   \n",
       "\n",
       "                                   Tokenized_Reviews  \n",
       "0  [1, 49, 50, 14, 29, 76, 204, 207, 14, 112, 33,...  \n",
       "1  [1, 48, 411, 59, 7, 2343, 431, 1287, 1595, 493...  \n",
       "2  [6, 1085, 25, 135, 1876, 71, 349, 9, 81, 508, ...  \n",
       "3  [67, 203, 13, 22, 366, 122, 18, 1086, 11, 14, ...  \n",
       "4  [138, 580, 350, 19, 2756, 51, 121, 106, 859, 2...  "
      ]
     },
     "execution_count": 35,
     "metadata": {},
     "output_type": "execute_result"
    }
   ],
   "source": [
    "df['Tokenized_Reviews'] = list(padded_sequences)\n",
    "df.head()"
   ]
  },
  {
   "cell_type": "markdown",
   "id": "604fe051",
   "metadata": {},
   "source": [
    "### 1b. Metrics"
   ]
  },
  {
   "cell_type": "markdown",
   "id": "692277bf",
   "metadata": {},
   "source": [
    "I will be using accuracy as my primary metric. This is because I have a balanced dataset (equal number of 'yes' recommended reviews to 'no' recommended). Since I am training a binary classification model with a balanced dataset, accuracy will be my starting point."
   ]
  },
  {
   "cell_type": "markdown",
   "id": "3cdf9fea",
   "metadata": {},
   "source": [
    "### 1c. Data splitting"
   ]
  },
  {
   "cell_type": "markdown",
   "id": "8d0980be",
   "metadata": {},
   "source": [
    "I will be starting with a simple 80/20 split. Because my data is perfectly balanced between the two target classes, and because I have shuffled my data so that both classes are randomly dispersed throughout, I feel fine to begin with this simple split."
   ]
  },
  {
   "cell_type": "code",
   "execution_count": 36,
   "id": "13210591",
   "metadata": {},
   "outputs": [],
   "source": [
    "X = df['Tokenized_Reviews']\n",
    "y = df['Recommended']"
   ]
  },
  {
   "cell_type": "code",
   "execution_count": 37,
   "id": "45c63514",
   "metadata": {},
   "outputs": [],
   "source": [
    "X_train, X_test, y_train, y_test = train_test_split(X, y, train_size = 0.8, test_size=0.2)"
   ]
  },
  {
   "cell_type": "code",
   "execution_count": 38,
   "id": "7b2e5164",
   "metadata": {},
   "outputs": [
    {
     "data": {
      "text/plain": [
       "0    [1, 49, 50, 14, 29, 76, 204, 207, 14, 112, 33,...\n",
       "1    [1, 48, 411, 59, 7, 2343, 431, 1287, 1595, 493...\n",
       "2    [6, 1085, 25, 135, 1876, 71, 349, 9, 81, 508, ...\n",
       "3    [67, 203, 13, 22, 366, 122, 18, 1086, 11, 14, ...\n",
       "4    [138, 580, 350, 19, 2756, 51, 121, 106, 859, 2...\n",
       "Name: Tokenized_Reviews, dtype: object"
      ]
     },
     "execution_count": 38,
     "metadata": {},
     "output_type": "execute_result"
    }
   ],
   "source": [
    "X.head()"
   ]
  },
  {
   "cell_type": "code",
   "execution_count": 39,
   "id": "13378e32",
   "metadata": {},
   "outputs": [
    {
     "data": {
      "text/plain": [
       "0    0\n",
       "1    1\n",
       "2    1\n",
       "3    1\n",
       "4    1\n",
       "Name: Recommended, dtype: int32"
      ]
     },
     "execution_count": 39,
     "metadata": {},
     "output_type": "execute_result"
    }
   ],
   "source": [
    "y.head()"
   ]
  },
  {
   "cell_type": "code",
   "execution_count": 40,
   "id": "0e87f49f",
   "metadata": {},
   "outputs": [
    {
     "name": "stdout",
     "output_type": "stream",
     "text": [
      "3802    [209, 409, 1, 170, 101, 158, 1, 1204, 128, 158...\n",
      "674     [1, 23, 37, 2, 196, 10, 116, 90, 3916, 502, 1,...\n",
      "1765    [23, 172, 580, 239, 2, 8, 69, 285, 4480, 53, 2...\n",
      "3473    [7, 66, 2, 77, 25, 94, 78, 10, 4, 90, 148, 4, ...\n",
      "4500    [1776, 139, 27, 105, 88, 162, 61, 12, 10, 196,...\n",
      "                              ...                        \n",
      "4645    [151, 150, 47, 422, 129, 38, 150, 250, 82, 330...\n",
      "2425    [466, 148, 437, 308, 129, 549, 62, 16, 75, 150...\n",
      "4852    [187, 360, 7, 203, 67, 386, 209, 10, 116, 53, ...\n",
      "4562    [7, 98, 1085, 25, 1, 5, 2, 17, 79, 744, 2, 17,...\n",
      "1234    [50, 649, 11, 37, 94, 30, 56, 267, 531, 142, 1...\n",
      "Name: Tokenized_Reviews, Length: 4000, dtype: object\n"
     ]
    }
   ],
   "source": [
    "print(X_train)"
   ]
  },
  {
   "cell_type": "code",
   "execution_count": 41,
   "id": "90f59848",
   "metadata": {},
   "outputs": [],
   "source": [
    "X_train = np.array(X_train.tolist())\n",
    "X_test = np.array(X_test.tolist())\n",
    "\n",
    "X_train = X_train.astype('float32')\n",
    "X_test = X_test.astype('float32')\n",
    "y_train = y_train.astype('float32')\n",
    "y_test = y_test.astype('float32')"
   ]
  },
  {
   "cell_type": "code",
   "execution_count": 42,
   "id": "29d5eda4",
   "metadata": {},
   "outputs": [
    {
     "name": "stdout",
     "output_type": "stream",
     "text": [
      "[2.090e+02 4.090e+02 1.000e+00 1.700e+02 1.010e+02 1.580e+02 1.000e+00\n",
      " 1.204e+03 1.280e+02 1.580e+02 9.900e+01 3.700e+01 2.000e+03 1.300e+01\n",
      " 6.480e+02 1.260e+02 7.800e+01 1.000e+01 4.000e+00 2.500e+01 2.280e+02\n",
      " 4.000e+00 6.200e+01 6.380e+02 2.330e+02 1.500e+01 3.620e+02 5.000e+01\n",
      " 1.420e+02 1.070e+02 7.100e+01 1.200e+01 3.400e+01 2.090e+02 9.200e+01\n",
      " 4.000e+00 5.580e+02 5.340e+02 4.520e+02 5.000e+01 3.000e+00 1.500e+01\n",
      " 3.700e+01 3.120e+02 4.000e+01 1.030e+02 0.000e+00 0.000e+00 0.000e+00\n",
      " 0.000e+00 0.000e+00 0.000e+00 0.000e+00 0.000e+00 0.000e+00 0.000e+00\n",
      " 0.000e+00 0.000e+00 0.000e+00 0.000e+00 0.000e+00 0.000e+00 0.000e+00\n",
      " 0.000e+00 0.000e+00 0.000e+00 0.000e+00 0.000e+00 0.000e+00 0.000e+00\n",
      " 0.000e+00 0.000e+00 0.000e+00 0.000e+00 0.000e+00 0.000e+00 0.000e+00\n",
      " 0.000e+00 0.000e+00 0.000e+00 0.000e+00 0.000e+00 0.000e+00 0.000e+00\n",
      " 0.000e+00 0.000e+00 0.000e+00 0.000e+00 0.000e+00 0.000e+00 0.000e+00\n",
      " 0.000e+00 0.000e+00 0.000e+00 0.000e+00 0.000e+00 0.000e+00 0.000e+00\n",
      " 0.000e+00 0.000e+00]\n"
     ]
    }
   ],
   "source": [
    "print(X_train[0])"
   ]
  },
  {
   "cell_type": "code",
   "execution_count": 43,
   "id": "6d9e669d",
   "metadata": {},
   "outputs": [
    {
     "name": "stdout",
     "output_type": "stream",
     "text": [
      "0.0\n"
     ]
    }
   ],
   "source": [
    "print(y_train[0])"
   ]
  },
  {
   "cell_type": "markdown",
   "id": "44d668e9",
   "metadata": {},
   "source": [
    "## 2. Modeling"
   ]
  },
  {
   "cell_type": "markdown",
   "id": "0e28405e",
   "metadata": {},
   "source": [
    "### 2a. RNN Architecture One: Simple RNN"
   ]
  },
  {
   "cell_type": "markdown",
   "id": "d20ae92c",
   "metadata": {},
   "source": [
    "#### 2a1. Variant 1"
   ]
  },
  {
   "cell_type": "code",
   "execution_count": 44,
   "id": "a38c5d9f",
   "metadata": {},
   "outputs": [],
   "source": [
    "max_length = 100\n",
    "vocab_size = 10000\n",
    "embedding_dim = 50"
   ]
  },
  {
   "cell_type": "code",
   "execution_count": 45,
   "id": "28a0a992",
   "metadata": {},
   "outputs": [
    {
     "name": "stdout",
     "output_type": "stream",
     "text": [
      "Model: \"sequential\"\n",
      "_________________________________________________________________\n",
      " Layer (type)                Output Shape              Param #   \n",
      "=================================================================\n",
      " embedding (Embedding)       (None, 100, 50)           500000    \n",
      "                                                                 \n",
      " simple_rnn (SimpleRNN)      (None, 64)                7360      \n",
      "                                                                 \n",
      " dense (Dense)               (None, 1)                 65        \n",
      "                                                                 \n",
      "=================================================================\n",
      "Total params: 507,425\n",
      "Trainable params: 507,425\n",
      "Non-trainable params: 0\n",
      "_________________________________________________________________\n"
     ]
    }
   ],
   "source": [
    "model_1a = Sequential()\n",
    "model_1a.add(Embedding(vocab_size, embedding_dim, input_length=max_length))\n",
    "model_1a.add(SimpleRNN(64))\n",
    "model_1a.add(Dense(1, activation='sigmoid'))\n",
    "\n",
    "model_1a.compile(loss='binary_crossentropy',\n",
    "              optimizer='adam',\n",
    "              metrics=['accuracy'])\n",
    "\n",
    "model_1a.summary()"
   ]
  },
  {
   "cell_type": "code",
   "execution_count": 46,
   "id": "f77e6545",
   "metadata": {},
   "outputs": [],
   "source": [
    "save_name = 'model_1a.h5'\n",
    "checkpoint = ModelCheckpoint(save_name, save_best_only=True)"
   ]
  },
  {
   "cell_type": "code",
   "execution_count": 47,
   "id": "2e1e35ed",
   "metadata": {},
   "outputs": [
    {
     "name": "stdout",
     "output_type": "stream",
     "text": [
      "Epoch 1/20\n",
      "125/125 [==============================] - 3s 13ms/step - loss: 0.6955 - accuracy: 0.5135 - val_loss: 0.6935 - val_accuracy: 0.4880\n",
      "Epoch 2/20\n",
      "125/125 [==============================] - 1s 11ms/step - loss: 0.6956 - accuracy: 0.5107 - val_loss: 0.6931 - val_accuracy: 0.5140\n",
      "Epoch 3/20\n",
      "125/125 [==============================] - 1s 11ms/step - loss: 0.6996 - accuracy: 0.5157 - val_loss: 0.6930 - val_accuracy: 0.5030\n",
      "Epoch 4/20\n",
      "125/125 [==============================] - 1s 11ms/step - loss: 0.6959 - accuracy: 0.5210 - val_loss: 0.6894 - val_accuracy: 0.5510\n",
      "Epoch 5/20\n",
      "125/125 [==============================] - 2s 13ms/step - loss: 0.6939 - accuracy: 0.5265 - val_loss: 0.6860 - val_accuracy: 0.5510\n",
      "Epoch 6/20\n",
      "125/125 [==============================] - 1s 11ms/step - loss: 0.6906 - accuracy: 0.5497 - val_loss: 0.7011 - val_accuracy: 0.5120\n",
      "Epoch 7/20\n",
      "125/125 [==============================] - 2s 12ms/step - loss: 0.6786 - accuracy: 0.5905 - val_loss: 0.6751 - val_accuracy: 0.5750\n",
      "Epoch 8/20\n",
      "125/125 [==============================] - 2s 12ms/step - loss: 0.6523 - accuracy: 0.6352 - val_loss: 0.6795 - val_accuracy: 0.5760\n",
      "Epoch 9/20\n",
      "125/125 [==============================] - 1s 12ms/step - loss: 0.6965 - accuracy: 0.5350 - val_loss: 0.7110 - val_accuracy: 0.5450\n",
      "Epoch 10/20\n",
      "125/125 [==============================] - 1s 11ms/step - loss: 0.6416 - accuracy: 0.6535 - val_loss: 0.6777 - val_accuracy: 0.5950\n",
      "Epoch 11/20\n",
      "125/125 [==============================] - 1s 11ms/step - loss: 0.6208 - accuracy: 0.6808 - val_loss: 0.7050 - val_accuracy: 0.5890\n",
      "Epoch 12/20\n",
      "125/125 [==============================] - 1s 11ms/step - loss: 0.5987 - accuracy: 0.6998 - val_loss: 0.7104 - val_accuracy: 0.5840\n",
      "Epoch 13/20\n",
      "125/125 [==============================] - 1s 11ms/step - loss: 0.5639 - accuracy: 0.7300 - val_loss: 0.6790 - val_accuracy: 0.6240\n",
      "Epoch 14/20\n",
      "125/125 [==============================] - 1s 11ms/step - loss: 0.5579 - accuracy: 0.7337 - val_loss: 0.6724 - val_accuracy: 0.6110\n",
      "Epoch 15/20\n",
      "125/125 [==============================] - 1s 11ms/step - loss: 0.5225 - accuracy: 0.7617 - val_loss: 0.7385 - val_accuracy: 0.6060\n",
      "Epoch 16/20\n",
      "125/125 [==============================] - 1s 11ms/step - loss: 0.4853 - accuracy: 0.7878 - val_loss: 0.7291 - val_accuracy: 0.6300\n",
      "Epoch 17/20\n",
      "125/125 [==============================] - 1s 11ms/step - loss: 0.4680 - accuracy: 0.7965 - val_loss: 0.7434 - val_accuracy: 0.6290\n",
      "Epoch 18/20\n",
      "125/125 [==============================] - 1s 12ms/step - loss: 0.4474 - accuracy: 0.8043 - val_loss: 0.7698 - val_accuracy: 0.6260\n",
      "Epoch 19/20\n",
      "125/125 [==============================] - 1s 11ms/step - loss: 0.4272 - accuracy: 0.8250 - val_loss: 0.7905 - val_accuracy: 0.5940\n",
      "Epoch 20/20\n",
      "125/125 [==============================] - 1s 11ms/step - loss: 0.3802 - accuracy: 0.8482 - val_loss: 0.8108 - val_accuracy: 0.6380\n"
     ]
    }
   ],
   "source": [
    "history = model_1a.fit(X_train, y_train, epochs=20, validation_data=(X_test, y_test), callbacks=[checkpoint])"
   ]
  },
  {
   "cell_type": "markdown",
   "id": "f6a7dbf1",
   "metadata": {},
   "source": [
    "I am skeptical that this model got to an accuracy in the low 60% range. Let's see how a more complicated version of this model performs."
   ]
  },
  {
   "cell_type": "markdown",
   "id": "6da8cba0",
   "metadata": {},
   "source": [
    "#### 2a2. Variant 2"
   ]
  },
  {
   "cell_type": "code",
   "execution_count": 48,
   "id": "ab3b9f80",
   "metadata": {},
   "outputs": [],
   "source": [
    "max_length = 100\n",
    "vocab_size = 10000\n",
    "embedding_dim = 30"
   ]
  },
  {
   "cell_type": "code",
   "execution_count": 60,
   "id": "44486068",
   "metadata": {},
   "outputs": [
    {
     "name": "stdout",
     "output_type": "stream",
     "text": [
      "Model: \"sequential_5\"\n",
      "_________________________________________________________________\n",
      " Layer (type)                Output Shape              Param #   \n",
      "=================================================================\n",
      " embedding_5 (Embedding)     (None, 100, 30)           300000    \n",
      "                                                                 \n",
      " simple_rnn_12 (SimpleRNN)   (None, 100, 128)          20352     \n",
      "                                                                 \n",
      " simple_rnn_13 (SimpleRNN)   (None, 100, 256)          98560     \n",
      "                                                                 \n",
      " dropout_7 (Dropout)         (None, 100, 256)          0         \n",
      "                                                                 \n",
      " dense_5 (Dense)             (None, 100, 1)            257       \n",
      "                                                                 \n",
      "=================================================================\n",
      "Total params: 419,169\n",
      "Trainable params: 419,169\n",
      "Non-trainable params: 0\n",
      "_________________________________________________________________\n"
     ]
    }
   ],
   "source": [
    "model_1b = Sequential()\n",
    "model_1b.add(Embedding(vocab_size, embedding_dim, input_length=max_length))\n",
    "model_1b.add(SimpleRNN(128, return_sequences=True))\n",
    "model_1b.add(SimpleRNN(256, return_sequences=True))\n",
    "model_1b.add(Dropout(0.3))\n",
    "model_1b.add(Dense(1, activation='sigmoid'))\n",
    "\n",
    "model_1b.compile(loss='binary_crossentropy', optimizer='adam', metrics=['accuracy'])\n",
    "\n",
    "model_1b.summary()"
   ]
  },
  {
   "cell_type": "code",
   "execution_count": 57,
   "id": "ae643950",
   "metadata": {},
   "outputs": [],
   "source": [
    "save_name = 'model_1b.h5'\n",
    "checkpoint = ModelCheckpoint(save_name, save_best_only=True)"
   ]
  },
  {
   "cell_type": "code",
   "execution_count": 58,
   "id": "bf80cf61",
   "metadata": {},
   "outputs": [
    {
     "name": "stdout",
     "output_type": "stream",
     "text": [
      "Epoch 1/20\n",
      "125/125 [==============================] - 9s 58ms/step - loss: 0.7060 - accuracy: 0.5100 - val_loss: 0.6978 - val_accuracy: 0.5028\n",
      "Epoch 2/20\n",
      "125/125 [==============================] - 7s 56ms/step - loss: 0.7073 - accuracy: 0.5013 - val_loss: 0.6925 - val_accuracy: 0.5092\n",
      "Epoch 3/20\n",
      "125/125 [==============================] - 7s 54ms/step - loss: 0.6954 - accuracy: 0.5174 - val_loss: 0.8217 - val_accuracy: 0.5046\n",
      "Epoch 4/20\n",
      "125/125 [==============================] - 7s 55ms/step - loss: 0.6816 - accuracy: 0.5558 - val_loss: 0.5654 - val_accuracy: 0.7542\n",
      "Epoch 5/20\n",
      "125/125 [==============================] - 7s 54ms/step - loss: 0.6125 - accuracy: 0.6991 - val_loss: 0.6720 - val_accuracy: 0.6235\n",
      "Epoch 6/20\n",
      "125/125 [==============================] - 7s 53ms/step - loss: 0.6031 - accuracy: 0.7131 - val_loss: 0.6238 - val_accuracy: 0.6811\n",
      "Epoch 7/20\n",
      "125/125 [==============================] - 7s 54ms/step - loss: 0.5909 - accuracy: 0.7136 - val_loss: 0.6289 - val_accuracy: 0.7128\n",
      "Epoch 8/20\n",
      "125/125 [==============================] - 7s 54ms/step - loss: 0.5559 - accuracy: 0.7535 - val_loss: 0.6240 - val_accuracy: 0.6843\n",
      "Epoch 9/20\n",
      "125/125 [==============================] - 7s 53ms/step - loss: 0.6426 - accuracy: 0.6222 - val_loss: 0.6644 - val_accuracy: 0.6051\n",
      "Epoch 10/20\n",
      "125/125 [==============================] - 7s 55ms/step - loss: 0.5835 - accuracy: 0.7306 - val_loss: 0.6508 - val_accuracy: 0.6749\n",
      "Epoch 11/20\n",
      "125/125 [==============================] - 7s 53ms/step - loss: 0.5746 - accuracy: 0.7425 - val_loss: 0.6694 - val_accuracy: 0.6761\n",
      "Epoch 12/20\n",
      "125/125 [==============================] - 7s 53ms/step - loss: 0.5072 - accuracy: 0.7846 - val_loss: 0.4901 - val_accuracy: 0.7906\n",
      "Epoch 13/20\n",
      "125/125 [==============================] - 7s 53ms/step - loss: 0.4480 - accuracy: 0.8299 - val_loss: 0.6435 - val_accuracy: 0.7430\n",
      "Epoch 14/20\n",
      "125/125 [==============================] - 7s 53ms/step - loss: 0.4378 - accuracy: 0.8392 - val_loss: 0.5966 - val_accuracy: 0.7127\n",
      "Epoch 15/20\n",
      "125/125 [==============================] - 7s 53ms/step - loss: 0.4436 - accuracy: 0.8317 - val_loss: 0.5495 - val_accuracy: 0.7630\n",
      "Epoch 16/20\n",
      "125/125 [==============================] - 7s 55ms/step - loss: 0.3953 - accuracy: 0.8569 - val_loss: 0.5975 - val_accuracy: 0.7205\n",
      "Epoch 17/20\n",
      "125/125 [==============================] - 7s 53ms/step - loss: 0.4923 - accuracy: 0.7398 - val_loss: 0.6871 - val_accuracy: 0.5213\n",
      "Epoch 18/20\n",
      "125/125 [==============================] - 7s 53ms/step - loss: 0.6062 - accuracy: 0.6832 - val_loss: 0.6025 - val_accuracy: 0.7110\n",
      "Epoch 19/20\n",
      "125/125 [==============================] - 7s 56ms/step - loss: 0.6280 - accuracy: 0.6390 - val_loss: 0.6794 - val_accuracy: 0.5464\n",
      "Epoch 20/20\n",
      "125/125 [==============================] - 7s 54ms/step - loss: 0.6170 - accuracy: 0.6370 - val_loss: 0.6790 - val_accuracy: 0.6744\n"
     ]
    }
   ],
   "source": [
    "history = model_1b.fit(X_train, y_train, epochs=20, validation_data=(X_test, y_test), callbacks=[checkpoint])"
   ]
  },
  {
   "cell_type": "markdown",
   "id": "a0424537",
   "metadata": {},
   "source": [
    "This variant of the model performed slightly better, with best accuracy in the high 70% range."
   ]
  },
  {
   "cell_type": "markdown",
   "id": "18703546",
   "metadata": {},
   "source": [
    "### 2b. RNN Architecture Two: Long Short-Term Memory"
   ]
  },
  {
   "cell_type": "markdown",
   "id": "9a402b12",
   "metadata": {},
   "source": [
    "#### 2b1. Variant 1"
   ]
  },
  {
   "cell_type": "code",
   "execution_count": 62,
   "id": "98b99881",
   "metadata": {},
   "outputs": [],
   "source": [
    "max_length = 100\n",
    "vocab_size = 10000\n",
    "embedding_dim = 30"
   ]
  },
  {
   "cell_type": "code",
   "execution_count": 63,
   "id": "8e10dfe9",
   "metadata": {},
   "outputs": [
    {
     "name": "stdout",
     "output_type": "stream",
     "text": [
      "Model: \"sequential_6\"\n",
      "_________________________________________________________________\n",
      " Layer (type)                Output Shape              Param #   \n",
      "=================================================================\n",
      " embedding_6 (Embedding)     (None, 100, 30)           300000    \n",
      "                                                                 \n",
      " lstm (LSTM)                 (None, 100, 128)          81408     \n",
      "                                                                 \n",
      " lstm_1 (LSTM)               (None, 100, 256)          394240    \n",
      "                                                                 \n",
      " dropout_8 (Dropout)         (None, 100, 256)          0         \n",
      "                                                                 \n",
      " dense_6 (Dense)             (None, 100, 1)            257       \n",
      "                                                                 \n",
      "=================================================================\n",
      "Total params: 775,905\n",
      "Trainable params: 775,905\n",
      "Non-trainable params: 0\n",
      "_________________________________________________________________\n"
     ]
    }
   ],
   "source": [
    "model_2a = Sequential()\n",
    "model_2a.add(Embedding(vocab_size, embedding_dim, input_length=max_length))\n",
    "model_2a.add(LSTM(128, return_sequences=True))\n",
    "model_2a.add(LSTM(256, return_sequences=True))\n",
    "model_2a.add(Dropout(0.3))\n",
    "model_2a.add(Dense(1, activation='sigmoid'))\n",
    "\n",
    "model_2a.compile(loss='binary_crossentropy',\n",
    "                 optimizer='adam',\n",
    "                 metrics=['accuracy'])\n",
    "\n",
    "model_2a.summary()"
   ]
  },
  {
   "cell_type": "code",
   "execution_count": 64,
   "id": "721c301a",
   "metadata": {},
   "outputs": [],
   "source": [
    "save_name = 'model_2a.h5'\n",
    "checkpoint = ModelCheckpoint(save_name, save_best_only=True)"
   ]
  },
  {
   "cell_type": "code",
   "execution_count": 65,
   "id": "bcf54f92",
   "metadata": {},
   "outputs": [
    {
     "name": "stdout",
     "output_type": "stream",
     "text": [
      "Epoch 1/20\n",
      "125/125 [==============================] - 41s 310ms/step - loss: 0.6194 - accuracy: 0.6394 - val_loss: 0.5165 - val_accuracy: 0.7828\n",
      "Epoch 2/20\n",
      "125/125 [==============================] - 41s 329ms/step - loss: 0.4165 - accuracy: 0.8338 - val_loss: 0.4777 - val_accuracy: 0.7662\n",
      "Epoch 3/20\n",
      "125/125 [==============================] - 40s 316ms/step - loss: 0.3289 - accuracy: 0.8752 - val_loss: 0.3949 - val_accuracy: 0.8303\n",
      "Epoch 4/20\n",
      "125/125 [==============================] - 38s 306ms/step - loss: 0.2661 - accuracy: 0.9024 - val_loss: 0.4621 - val_accuracy: 0.8093\n",
      "Epoch 5/20\n",
      "125/125 [==============================] - 38s 305ms/step - loss: 0.2535 - accuracy: 0.9079 - val_loss: 0.4403 - val_accuracy: 0.8226\n",
      "Epoch 6/20\n",
      "125/125 [==============================] - 39s 316ms/step - loss: 0.2473 - accuracy: 0.9108 - val_loss: 0.4714 - val_accuracy: 0.8108\n",
      "Epoch 7/20\n",
      "125/125 [==============================] - 38s 302ms/step - loss: 0.2094 - accuracy: 0.9256 - val_loss: 0.5161 - val_accuracy: 0.8104\n",
      "Epoch 8/20\n",
      "125/125 [==============================] - 39s 312ms/step - loss: 0.2516 - accuracy: 0.9093 - val_loss: 0.5415 - val_accuracy: 0.7623\n",
      "Epoch 9/20\n",
      "125/125 [==============================] - 38s 307ms/step - loss: 0.2481 - accuracy: 0.9108 - val_loss: 0.6107 - val_accuracy: 0.8029\n",
      "Epoch 10/20\n",
      "125/125 [==============================] - 38s 304ms/step - loss: 0.2010 - accuracy: 0.9301 - val_loss: 0.7034 - val_accuracy: 0.7890\n",
      "Epoch 11/20\n",
      "125/125 [==============================] - 38s 304ms/step - loss: 0.1999 - accuracy: 0.9323 - val_loss: 0.6818 - val_accuracy: 0.7673\n",
      "Epoch 12/20\n",
      "125/125 [==============================] - 38s 305ms/step - loss: 0.2124 - accuracy: 0.9281 - val_loss: 0.6931 - val_accuracy: 0.7845\n",
      "Epoch 13/20\n",
      "125/125 [==============================] - 38s 305ms/step - loss: 0.1971 - accuracy: 0.9337 - val_loss: 0.5742 - val_accuracy: 0.7925\n",
      "Epoch 14/20\n",
      "125/125 [==============================] - 39s 311ms/step - loss: 0.2179 - accuracy: 0.9271 - val_loss: 0.7132 - val_accuracy: 0.7855\n",
      "Epoch 15/20\n",
      "125/125 [==============================] - 39s 311ms/step - loss: 0.2030 - accuracy: 0.9306 - val_loss: 0.6724 - val_accuracy: 0.7845\n",
      "Epoch 16/20\n",
      "125/125 [==============================] - 39s 311ms/step - loss: 0.1979 - accuracy: 0.9346 - val_loss: 0.6799 - val_accuracy: 0.7782\n",
      "Epoch 17/20\n",
      "125/125 [==============================] - 38s 308ms/step - loss: 0.3319 - accuracy: 0.8795 - val_loss: 0.6256 - val_accuracy: 0.7525\n",
      "Epoch 18/20\n",
      "125/125 [==============================] - 38s 308ms/step - loss: 0.3897 - accuracy: 0.8563 - val_loss: 0.5603 - val_accuracy: 0.7473\n",
      "Epoch 19/20\n",
      "125/125 [==============================] - 39s 313ms/step - loss: 0.4399 - accuracy: 0.8172 - val_loss: 0.5805 - val_accuracy: 0.7239\n",
      "Epoch 20/20\n",
      "125/125 [==============================] - 39s 315ms/step - loss: 0.4144 - accuracy: 0.8130 - val_loss: 0.5863 - val_accuracy: 0.7375\n"
     ]
    }
   ],
   "source": [
    "history = model_2a.fit(X_train, y_train, epochs=20, validation_data=(X_test, y_test), callbacks=[checkpoint])"
   ]
  },
  {
   "cell_type": "markdown",
   "id": "b500f795",
   "metadata": {},
   "source": [
    "#### 2b2. Variant 2"
   ]
  },
  {
   "cell_type": "code",
   "execution_count": 68,
   "id": "f78a5ddb",
   "metadata": {},
   "outputs": [],
   "source": [
    "max_length = 100\n",
    "vocab_size = 10000\n",
    "embedding_dim = 30"
   ]
  },
  {
   "cell_type": "code",
   "execution_count": 73,
   "id": "578cbfb5",
   "metadata": {},
   "outputs": [
    {
     "name": "stdout",
     "output_type": "stream",
     "text": [
      "Model: \"sequential_8\"\n",
      "_________________________________________________________________\n",
      " Layer (type)                Output Shape              Param #   \n",
      "=================================================================\n",
      " embedding_8 (Embedding)     (None, 100, 30)           300000    \n",
      "                                                                 \n",
      " lstm_5 (LSTM)               (None, 100, 128)          81408     \n",
      "                                                                 \n",
      " lstm_6 (LSTM)               (None, 100, 256)          394240    \n",
      "                                                                 \n",
      " dropout_11 (Dropout)        (None, 100, 256)          0         \n",
      "                                                                 \n",
      " dense_9 (Dense)             (None, 100, 64)           16448     \n",
      "                                                                 \n",
      " dropout_12 (Dropout)        (None, 100, 64)           0         \n",
      "                                                                 \n",
      " dense_10 (Dense)            (None, 100, 1)            65        \n",
      "                                                                 \n",
      "=================================================================\n",
      "Total params: 792,161\n",
      "Trainable params: 792,161\n",
      "Non-trainable params: 0\n",
      "_________________________________________________________________\n"
     ]
    }
   ],
   "source": [
    "model_2b = Sequential()\n",
    "model_2b.add(Embedding(vocab_size, embedding_dim, input_length=max_length))\n",
    "model_2b.add(LSTM(128, return_sequences=True))\n",
    "model_2b.add(LSTM(256, return_sequences=True))\n",
    "model_2b.add(Dropout(0.3))\n",
    "model_2b.add(Dense(64, activation='relu'))\n",
    "model_2b.add(Dropout(0.3))\n",
    "model_2b.add(Dense(1, activation='sigmoid'))\n",
    "\n",
    "model_2b.compile(loss='binary_crossentropy',\n",
    "                 optimizer='adam',\n",
    "                 metrics=['accuracy'])\n",
    "\n",
    "model_2b.summary()"
   ]
  },
  {
   "cell_type": "code",
   "execution_count": 74,
   "id": "2821e784",
   "metadata": {},
   "outputs": [],
   "source": [
    "save_name = 'model_2b.h5'\n",
    "checkpoint = ModelCheckpoint(save_name, save_best_only=True)"
   ]
  },
  {
   "cell_type": "code",
   "execution_count": 75,
   "id": "a0e4fdba",
   "metadata": {},
   "outputs": [
    {
     "name": "stdout",
     "output_type": "stream",
     "text": [
      "Epoch 1/20\n",
      "125/125 [==============================] - 46s 345ms/step - loss: 0.5673 - accuracy: 0.6900 - val_loss: 0.4110 - val_accuracy: 0.8255\n",
      "Epoch 2/20\n",
      "125/125 [==============================] - 39s 316ms/step - loss: 0.3707 - accuracy: 0.8476 - val_loss: 0.4116 - val_accuracy: 0.8209\n",
      "Epoch 3/20\n",
      "125/125 [==============================] - 39s 315ms/step - loss: 0.3254 - accuracy: 0.8770 - val_loss: 0.4057 - val_accuracy: 0.8226\n",
      "Epoch 4/20\n",
      "125/125 [==============================] - 40s 316ms/step - loss: 0.2770 - accuracy: 0.8981 - val_loss: 0.4599 - val_accuracy: 0.8260\n",
      "Epoch 5/20\n",
      "125/125 [==============================] - 39s 315ms/step - loss: 0.2424 - accuracy: 0.9110 - val_loss: 0.4672 - val_accuracy: 0.8161\n",
      "Epoch 6/20\n",
      "125/125 [==============================] - 39s 316ms/step - loss: 0.2517 - accuracy: 0.9114 - val_loss: 0.5986 - val_accuracy: 0.7605\n",
      "Epoch 7/20\n",
      "125/125 [==============================] - 39s 315ms/step - loss: 0.2242 - accuracy: 0.9198 - val_loss: 0.5259 - val_accuracy: 0.7998\n",
      "Epoch 8/20\n",
      "125/125 [==============================] - 40s 317ms/step - loss: 0.1943 - accuracy: 0.9310 - val_loss: 0.6355 - val_accuracy: 0.7965\n",
      "Epoch 9/20\n",
      "125/125 [==============================] - 39s 314ms/step - loss: 0.1859 - accuracy: 0.9340 - val_loss: 0.5180 - val_accuracy: 0.8037\n",
      "Epoch 10/20\n",
      "125/125 [==============================] - 39s 313ms/step - loss: 0.2046 - accuracy: 0.9305 - val_loss: 0.6127 - val_accuracy: 0.7979\n",
      "Epoch 11/20\n",
      "125/125 [==============================] - 40s 317ms/step - loss: 0.1884 - accuracy: 0.9360 - val_loss: 0.4683 - val_accuracy: 0.8006\n",
      "Epoch 12/20\n",
      "125/125 [==============================] - 40s 316ms/step - loss: 0.1955 - accuracy: 0.9327 - val_loss: 0.5411 - val_accuracy: 0.8020\n",
      "Epoch 13/20\n",
      "125/125 [==============================] - 40s 319ms/step - loss: 0.1726 - accuracy: 0.9406 - val_loss: 0.6273 - val_accuracy: 0.7885\n",
      "Epoch 14/20\n",
      "125/125 [==============================] - 40s 321ms/step - loss: 0.1973 - accuracy: 0.9330 - val_loss: 0.6743 - val_accuracy: 0.7991\n",
      "Epoch 15/20\n",
      "125/125 [==============================] - 39s 315ms/step - loss: 0.1589 - accuracy: 0.9438 - val_loss: 0.5998 - val_accuracy: 0.7981\n",
      "Epoch 16/20\n",
      "125/125 [==============================] - 39s 312ms/step - loss: 0.1499 - accuracy: 0.9469 - val_loss: 0.6471 - val_accuracy: 0.7767\n",
      "Epoch 17/20\n",
      "125/125 [==============================] - 40s 318ms/step - loss: 0.1777 - accuracy: 0.9398 - val_loss: 0.6744 - val_accuracy: 0.7938\n",
      "Epoch 18/20\n",
      "125/125 [==============================] - 39s 315ms/step - loss: 0.1955 - accuracy: 0.9343 - val_loss: 0.7496 - val_accuracy: 0.7771\n",
      "Epoch 19/20\n",
      "125/125 [==============================] - 39s 314ms/step - loss: 0.2228 - accuracy: 0.9239 - val_loss: 0.6411 - val_accuracy: 0.7830\n",
      "Epoch 20/20\n",
      "125/125 [==============================] - 39s 313ms/step - loss: 0.2513 - accuracy: 0.9048 - val_loss: 0.7159 - val_accuracy: 0.7490\n"
     ]
    }
   ],
   "source": [
    "history = model_2b.fit(X_train, y_train, epochs=20, validation_data=(X_test, y_test), callbacks=[checkpoint])"
   ]
  },
  {
   "cell_type": "markdown",
   "id": "5d7acd67",
   "metadata": {},
   "source": [
    "Overall, the LSTM models performed on average better than the Simple RNN models. "
   ]
  },
  {
   "cell_type": "markdown",
   "id": "4971ad85",
   "metadata": {},
   "source": [
    "### 2c. GloVe & second chain applied to \"best model\""
   ]
  },
  {
   "cell_type": "code",
   "execution_count": 85,
   "id": "290ca765",
   "metadata": {},
   "outputs": [],
   "source": [
    "embeddings_index = {}\n",
    "with open('glove.6B.100d.txt', encoding='utf8') as f:\n",
    "    for line in f:\n",
    "        values = line.split()\n",
    "        word = values[0]\n",
    "        coefs = np.asarray(values[1:], dtype='float32')\n",
    "        embeddings_index[word] = coefs"
   ]
  },
  {
   "cell_type": "code",
   "execution_count": 88,
   "id": "749eeb57",
   "metadata": {},
   "outputs": [],
   "source": [
    "embedding_dim = 100  # or the dimension you chose\n",
    "embedding_matrix = np.zeros((vocab_size, embedding_dim))\n",
    "\n",
    "for word, i in tokenizer.word_index.items():\n",
    "    if i < vocab_size:\n",
    "        embedding_vector = embeddings_index.get(word)\n",
    "        if embedding_vector is not None:  # Corrected line\n",
    "            embedding_matrix[i] = embedding_vector"
   ]
  },
  {
   "cell_type": "code",
   "execution_count": 92,
   "id": "113d5f10",
   "metadata": {},
   "outputs": [],
   "source": [
    "embedding_layer = Embedding(vocab_size,\n",
    "                            embedding_dim,\n",
    "                            weights=[embedding_matrix],\n",
    "                            input_length=max_length,\n",
    "                            trainable=False)"
   ]
  },
  {
   "cell_type": "code",
   "execution_count": 93,
   "id": "fdf9620e",
   "metadata": {},
   "outputs": [
    {
     "name": "stdout",
     "output_type": "stream",
     "text": [
      "Model: \"sequential_12\"\n",
      "_________________________________________________________________\n",
      " Layer (type)                Output Shape              Param #   \n",
      "=================================================================\n",
      " embedding_11 (Embedding)    (None, 100, 100)          1000000   \n",
      "                                                                 \n",
      " lstm_14 (LSTM)              (None, 100, 128)          117248    \n",
      "                                                                 \n",
      " lstm_15 (LSTM)              (None, 100, 256)          394240    \n",
      "                                                                 \n",
      " dropout_18 (Dropout)        (None, 100, 256)          0         \n",
      "                                                                 \n",
      " dense_16 (Dense)            (None, 100, 64)           16448     \n",
      "                                                                 \n",
      " dropout_19 (Dropout)        (None, 100, 64)           0         \n",
      "                                                                 \n",
      " dense_17 (Dense)            (None, 100, 1)            65        \n",
      "                                                                 \n",
      "=================================================================\n",
      "Total params: 1,528,001\n",
      "Trainable params: 528,001\n",
      "Non-trainable params: 1,000,000\n",
      "_________________________________________________________________\n"
     ]
    }
   ],
   "source": [
    "model_glove = Sequential()\n",
    "model_glove.add(embedding_layer)\n",
    "model_glove.add(LSTM(128, return_sequences=True))\n",
    "model_glove.add(LSTM(256, return_sequences=True))\n",
    "model_glove.add(Dropout(0.3))\n",
    "model_glove.add(Dense(64, activation='relu'))\n",
    "model_glove.add(Dropout(0.3))\n",
    "model_glove.add(Dense(1, activation='sigmoid'))\n",
    "\n",
    "model_glove.compile(loss='binary_crossentropy',\n",
    "                 optimizer='adam',\n",
    "                 metrics=['accuracy'])\n",
    "\n",
    "model_glove.summary()"
   ]
  },
  {
   "cell_type": "code",
   "execution_count": 94,
   "id": "69a8f070",
   "metadata": {},
   "outputs": [],
   "source": [
    "save_name = 'model_glove.h5'\n",
    "checkpoint = ModelCheckpoint(save_name, save_best_only=True)"
   ]
  },
  {
   "cell_type": "code",
   "execution_count": 95,
   "id": "89e54463",
   "metadata": {},
   "outputs": [
    {
     "name": "stdout",
     "output_type": "stream",
     "text": [
      "Epoch 1/20\n",
      "125/125 [==============================] - 48s 361ms/step - loss: 0.6675 - accuracy: 0.5921 - val_loss: 0.5870 - val_accuracy: 0.7047\n",
      "Epoch 2/20\n",
      "125/125 [==============================] - 40s 321ms/step - loss: 0.5704 - accuracy: 0.7196 - val_loss: 0.5640 - val_accuracy: 0.7381\n",
      "Epoch 3/20\n",
      "125/125 [==============================] - 42s 339ms/step - loss: 0.5331 - accuracy: 0.7437 - val_loss: 0.5130 - val_accuracy: 0.7585\n",
      "Epoch 4/20\n",
      "125/125 [==============================] - 39s 312ms/step - loss: 0.4937 - accuracy: 0.7629 - val_loss: 0.4777 - val_accuracy: 0.7760\n",
      "Epoch 5/20\n",
      "125/125 [==============================] - 40s 323ms/step - loss: 0.4742 - accuracy: 0.7856 - val_loss: 0.4742 - val_accuracy: 0.7925\n",
      "Epoch 6/20\n",
      "125/125 [==============================] - 39s 316ms/step - loss: 0.4422 - accuracy: 0.7998 - val_loss: 0.4429 - val_accuracy: 0.8008\n",
      "Epoch 7/20\n",
      "125/125 [==============================] - 40s 319ms/step - loss: 0.4212 - accuracy: 0.8083 - val_loss: 0.4493 - val_accuracy: 0.7939\n",
      "Epoch 8/20\n",
      "125/125 [==============================] - 39s 316ms/step - loss: 0.4056 - accuracy: 0.8217 - val_loss: 0.4522 - val_accuracy: 0.7930\n",
      "Epoch 9/20\n",
      "125/125 [==============================] - 39s 316ms/step - loss: 0.3822 - accuracy: 0.8410 - val_loss: 0.4433 - val_accuracy: 0.8083\n",
      "Epoch 10/20\n",
      "125/125 [==============================] - 39s 310ms/step - loss: 0.3653 - accuracy: 0.8481 - val_loss: 0.4202 - val_accuracy: 0.8123\n",
      "Epoch 11/20\n",
      "125/125 [==============================] - 39s 314ms/step - loss: 0.3378 - accuracy: 0.8583 - val_loss: 0.4367 - val_accuracy: 0.8032\n",
      "Epoch 12/20\n",
      "125/125 [==============================] - 40s 318ms/step - loss: 0.3162 - accuracy: 0.8716 - val_loss: 0.4887 - val_accuracy: 0.7843\n",
      "Epoch 13/20\n",
      "125/125 [==============================] - 39s 310ms/step - loss: 0.3013 - accuracy: 0.8791 - val_loss: 0.4354 - val_accuracy: 0.8163\n",
      "Epoch 14/20\n",
      "125/125 [==============================] - 40s 322ms/step - loss: 0.2623 - accuracy: 0.8955 - val_loss: 0.4507 - val_accuracy: 0.8109\n",
      "Epoch 15/20\n",
      "125/125 [==============================] - 41s 324ms/step - loss: 0.2447 - accuracy: 0.9045 - val_loss: 0.5161 - val_accuracy: 0.8021\n",
      "Epoch 16/20\n",
      "125/125 [==============================] - 40s 321ms/step - loss: 0.2449 - accuracy: 0.9069 - val_loss: 0.4931 - val_accuracy: 0.7962\n",
      "Epoch 17/20\n",
      "125/125 [==============================] - 39s 316ms/step - loss: 0.2411 - accuracy: 0.9053 - val_loss: 0.6023 - val_accuracy: 0.7926\n",
      "Epoch 18/20\n",
      "125/125 [==============================] - 40s 318ms/step - loss: 0.1858 - accuracy: 0.9296 - val_loss: 0.5585 - val_accuracy: 0.8022\n",
      "Epoch 19/20\n",
      "125/125 [==============================] - 40s 316ms/step - loss: 0.1901 - accuracy: 0.9268 - val_loss: 0.6585 - val_accuracy: 0.8138\n",
      "Epoch 20/20\n",
      "125/125 [==============================] - 40s 320ms/step - loss: 0.1778 - accuracy: 0.9341 - val_loss: 0.5718 - val_accuracy: 0.7885\n"
     ]
    }
   ],
   "source": [
    "history = model_glove.fit(X_train, y_train, epochs=20, validation_data=(X_test, y_test), callbacks=[checkpoint])"
   ]
  },
  {
   "cell_type": "markdown",
   "id": "916260cd",
   "metadata": {},
   "source": [
    "Overall this model did not perform much better than the non-GloVe version."
   ]
  },
  {
   "cell_type": "markdown",
   "id": "41a42a23",
   "metadata": {},
   "source": [
    "### 2d. Visualize results of all RNNs"
   ]
  },
  {
   "cell_type": "markdown",
   "id": "ec9028cf",
   "metadata": {},
   "source": [
    "#### 2d1. Creating a new training set to test all trained models"
   ]
  },
  {
   "cell_type": "markdown",
   "id": "ab183fae",
   "metadata": {},
   "source": [
    "I will now create a non-overlapping smaller sample from the original 23,000 entry dataset. This will be a final test set I will test the accuracy of each trained RNN model against. Then I will visualize."
   ]
  },
  {
   "cell_type": "code",
   "execution_count": 97,
   "id": "071f4c13",
   "metadata": {},
   "outputs": [],
   "source": [
    "original_sampled_0 = df_0.sample(n=2500, random_state=17)\n",
    "original_sampled_1 = df_1.sample(n=2500, random_state=17)\n",
    "\n",
    "remaining_0 = df_0.drop(original_sampled_0.index)\n",
    "remaining_1 = df_1.drop(original_sampled_1.index)\n",
    "\n",
    "new_sampled_0 = remaining_0.sample(n=250, random_state=21)\n",
    "new_sampled_1 = remaining_1.sample(n=250, random_state=21)\n",
    "\n",
    "test_df = pd.concat([new_sampled_0, new_sampled_1]).reset_index(drop=True)\n",
    "test_df = test_df.sample(frac=1).reset_index(drop=True)"
   ]
  },
  {
   "cell_type": "code",
   "execution_count": 104,
   "id": "20665c43",
   "metadata": {},
   "outputs": [
    {
     "name": "stdout",
     "output_type": "stream",
     "text": [
      "250\n",
      "250\n",
      "500\n"
     ]
    }
   ],
   "source": [
    "print(len(test_df[test_df['Recommended'] == 0]))\n",
    "print(len(test_df[test_df['Recommended'] == 1]))\n",
    "print(len(test_df))"
   ]
  },
  {
   "cell_type": "code",
   "execution_count": 108,
   "id": "727fe54c",
   "metadata": {},
   "outputs": [
    {
     "name": "stdout",
     "output_type": "stream",
     "text": [
      "Processing 0 of 500\n"
     ]
    }
   ],
   "source": [
    "total = len(test_df)\n",
    "test_df['Reviews_Processed'] = [process(text, i, total) for i, text in enumerate(test_df['Review_Text'])]"
   ]
  },
  {
   "cell_type": "code",
   "execution_count": 109,
   "id": "dd243d2e",
   "metadata": {},
   "outputs": [],
   "source": [
    "tokenizer = tf.keras.preprocessing.text.Tokenizer(num_words=5000)"
   ]
  },
  {
   "cell_type": "code",
   "execution_count": 110,
   "id": "bfd9709d",
   "metadata": {},
   "outputs": [],
   "source": [
    "tokenizer.fit_on_texts(test_df['Reviews_Processed'])"
   ]
  },
  {
   "cell_type": "code",
   "execution_count": 111,
   "id": "a76be45e",
   "metadata": {},
   "outputs": [],
   "source": [
    "sequences = tokenizer.texts_to_sequences(test_df['Reviews_Processed'])"
   ]
  },
  {
   "cell_type": "code",
   "execution_count": 112,
   "id": "45dc0194",
   "metadata": {},
   "outputs": [],
   "source": [
    "max_length = 100\n",
    "padded_sequences = pad_sequences(sequences, maxlen=max_length, padding='post')"
   ]
  },
  {
   "cell_type": "code",
   "execution_count": 114,
   "id": "9ee5f85e",
   "metadata": {},
   "outputs": [
    {
     "data": {
      "text/html": [
       "<div>\n",
       "<style scoped>\n",
       "    .dataframe tbody tr th:only-of-type {\n",
       "        vertical-align: middle;\n",
       "    }\n",
       "\n",
       "    .dataframe tbody tr th {\n",
       "        vertical-align: top;\n",
       "    }\n",
       "\n",
       "    .dataframe thead th {\n",
       "        text-align: right;\n",
       "    }\n",
       "</style>\n",
       "<table border=\"1\" class=\"dataframe\">\n",
       "  <thead>\n",
       "    <tr style=\"text-align: right;\">\n",
       "      <th></th>\n",
       "      <th>Age</th>\n",
       "      <th>Title</th>\n",
       "      <th>Review_Text</th>\n",
       "      <th>Rating</th>\n",
       "      <th>Recommended</th>\n",
       "      <th>Class_Name</th>\n",
       "      <th>Reviews_Processed</th>\n",
       "      <th>Tokenized_Reviews</th>\n",
       "    </tr>\n",
       "  </thead>\n",
       "  <tbody>\n",
       "    <tr>\n",
       "      <th>0</th>\n",
       "      <td>35</td>\n",
       "      <td>Unflattering fit</td>\n",
       "      <td>This dress runs a bit small. the large arm hol...</td>\n",
       "      <td>3</td>\n",
       "      <td>0</td>\n",
       "      <td>Dresses</td>\n",
       "      <td>dress run bit small large arm hole unflatterin...</td>\n",
       "      <td>[1, 49, 50, 14, 29, 76, 204, 207, 14, 112, 33,...</td>\n",
       "    </tr>\n",
       "    <tr>\n",
       "      <th>1</th>\n",
       "      <td>39</td>\n",
       "      <td>Velvet crush</td>\n",
       "      <td>This dress is so soft and cozy and pretty.  lo...</td>\n",
       "      <td>5</td>\n",
       "      <td>1</td>\n",
       "      <td>Dresses</td>\n",
       "      <td>dress soft cozy pretty love shine interest she...</td>\n",
       "      <td>[1, 48, 411, 59, 7, 2343, 431, 1287, 1595, 493...</td>\n",
       "    </tr>\n",
       "    <tr>\n",
       "      <th>2</th>\n",
       "      <td>29</td>\n",
       "      <td>Must have, elegant, chic</td>\n",
       "      <td>This top! i was hesitant to try this on becaus...</td>\n",
       "      <td>5</td>\n",
       "      <td>1</td>\n",
       "      <td>Blouses</td>\n",
       "      <td>top hesitant try felt busy however must 's rig...</td>\n",
       "      <td>[6, 1085, 25, 135, 1876, 71, 349, 9, 81, 508, ...</td>\n",
       "    </tr>\n",
       "    <tr>\n",
       "      <th>3</th>\n",
       "      <td>32</td>\n",
       "      <td>Love these!</td>\n",
       "      <td>These pants are so comfy i'm getting a second ...</td>\n",
       "      <td>5</td>\n",
       "      <td>1</td>\n",
       "      <td>Pants</td>\n",
       "      <td>pant comfy 'm get second pair order olive colo...</td>\n",
       "      <td>[67, 203, 13, 22, 366, 122, 18, 1086, 11, 14, ...</td>\n",
       "    </tr>\n",
       "    <tr>\n",
       "      <th>4</th>\n",
       "      <td>26</td>\n",
       "      <td>NaN</td>\n",
       "      <td>So, this is just the most lovely romper. beaut...</td>\n",
       "      <td>3</td>\n",
       "      <td>1</td>\n",
       "      <td>Dresses</td>\n",
       "      <td>lovely romper beautifully make flowey comforta...</td>\n",
       "      <td>[138, 580, 350, 19, 2756, 51, 121, 106, 859, 2...</td>\n",
       "    </tr>\n",
       "  </tbody>\n",
       "</table>\n",
       "</div>"
      ],
      "text/plain": [
       "   Age                     Title  \\\n",
       "0   35          Unflattering fit   \n",
       "1   39              Velvet crush   \n",
       "2   29  Must have, elegant, chic   \n",
       "3   32               Love these!   \n",
       "4   26                       NaN   \n",
       "\n",
       "                                         Review_Text  Rating  Recommended  \\\n",
       "0  This dress runs a bit small. the large arm hol...       3            0   \n",
       "1  This dress is so soft and cozy and pretty.  lo...       5            1   \n",
       "2  This top! i was hesitant to try this on becaus...       5            1   \n",
       "3  These pants are so comfy i'm getting a second ...       5            1   \n",
       "4  So, this is just the most lovely romper. beaut...       3            1   \n",
       "\n",
       "  Class_Name                                  Reviews_Processed  \\\n",
       "0    Dresses  dress run bit small large arm hole unflatterin...   \n",
       "1    Dresses  dress soft cozy pretty love shine interest she...   \n",
       "2    Blouses  top hesitant try felt busy however must 's rig...   \n",
       "3      Pants  pant comfy 'm get second pair order olive colo...   \n",
       "4    Dresses  lovely romper beautifully make flowey comforta...   \n",
       "\n",
       "                                   Tokenized_Reviews  \n",
       "0  [1, 49, 50, 14, 29, 76, 204, 207, 14, 112, 33,...  \n",
       "1  [1, 48, 411, 59, 7, 2343, 431, 1287, 1595, 493...  \n",
       "2  [6, 1085, 25, 135, 1876, 71, 349, 9, 81, 508, ...  \n",
       "3  [67, 203, 13, 22, 366, 122, 18, 1086, 11, 14, ...  \n",
       "4  [138, 580, 350, 19, 2756, 51, 121, 106, 859, 2...  "
      ]
     },
     "execution_count": 114,
     "metadata": {},
     "output_type": "execute_result"
    }
   ],
   "source": [
    "test_df['Tokenized_Reviews'] = list(padded_sequences)\n",
    "df.head()"
   ]
  },
  {
   "cell_type": "code",
   "execution_count": 115,
   "id": "859983b9",
   "metadata": {},
   "outputs": [],
   "source": [
    "X = test_df['Tokenized_Reviews']\n",
    "y = test_df['Recommended']"
   ]
  },
  {
   "cell_type": "code",
   "execution_count": 117,
   "id": "8189a53a",
   "metadata": {},
   "outputs": [],
   "source": [
    "X = np.array(X.tolist())\n",
    "X = X.astype('float32')\n",
    "\n",
    "y = y.astype('float32')"
   ]
  },
  {
   "cell_type": "markdown",
   "id": "773ad766",
   "metadata": {},
   "source": [
    "#### 2d2. Visualizing"
   ]
  },
  {
   "cell_type": "code",
   "execution_count": 123,
   "id": "7bbb45c8",
   "metadata": {},
   "outputs": [
    {
     "name": "stdout",
     "output_type": "stream",
     "text": [
      "16/16 [==============================] - 0s 3ms/step\n",
      "Accuracy for model_1a.h5: 50.0%\n",
      "16/16 [==============================] - 1s 18ms/step\n",
      "Accuracy for model_1b.h5: 19.6%\n",
      "16/16 [==============================] - 2s 67ms/step\n",
      "Accuracy for model_2a.h5: 12.0%\n",
      "16/16 [==============================] - 2s 61ms/step\n",
      "Accuracy for model_2b.h5: 12.6%\n",
      "16/16 [==============================] - 2s 64ms/step\n",
      "Accuracy for model_glove.h5: 7.8%\n"
     ]
    }
   ],
   "source": [
    "models = ['model_1a.h5', 'model_1b.h5', 'model_2a.h5', 'model_2b.h5', 'model_glove.h5']\n",
    "predictions = {}\n",
    "accuracies = {}\n",
    "\n",
    "for h5 in models:\n",
    "    model = load_model(h5)\n",
    "    prediction = model.predict(X)\n",
    "    predicted_classes = np.argmax(prediction, axis=1)\n",
    "    predictions[h5] = predicted_classes\n",
    "    \n",
    "    accuracy = accuracy_score(y, predicted_classes)\n",
    "    accuracies[h5] = (accuracy * 100).astype(int)\n",
    "    print(f\"Accuracy for {h5}: {accuracy * 100:.1f}%\")"
   ]
  },
  {
   "cell_type": "code",
   "execution_count": 124,
   "id": "349be770",
   "metadata": {},
   "outputs": [
    {
     "data": {
      "image/png": "[encoded data removed]",
      "text/plain": [
       "<Figure size 1000x600 with 1 Axes>"
      ]
     },
     "metadata": {},
     "output_type": "display_data"
    }
   ],
   "source": [
    "model_names = list(accuracies.keys())\n",
    "accuracy_numbers = list(accuracies.values())\n",
    "\n",
    "plt.figure(figsize=(10, 6))\n",
    "bars = plt.bar(model_names, accuracy_numbers)\n",
    "\n",
    "for bar in bars:\n",
    "    plt.text(bar.get_x() + bar.get_width()/2, bar.get_height(), f\"{round(bar.get_height())}%\", va='bottom', ha='center')\n",
    "\n",
    "plt.xlabel('Model Names')\n",
    "plt.ylabel('Accuracy (%)')\n",
    "plt.title('Model Accuracies')\n",
    "plt.ylim(0, 60)\n",
    "plt.xticks(rotation=45)\n",
    "plt.show()"
   ]
  },
  {
   "cell_type": "markdown",
   "id": "74112d37",
   "metadata": {},
   "source": [
    "In the end, I can see that none of my models actually performed well on novel data not seen in the original training/testing. \n",
    "\n",
    "The \"best\" performing model only had an accuracy as good as random choice (for a binary classification problem). The other models all performed far worse than random choice.\n",
    "\n",
    "I think two things contribute to this:\n",
    "- 1: My models likely massively overfit to the original training/testing data\n",
    "- 2: The measuring stick I was using for this supervised training was the \"Recommended\" column (0 or 1 for if the reviewer would recommend the product. Though this is a fair heuristic for a person's sentiment about the product, not every open text review would necessarily have sentiment identifying words that match exactly to whether or not they would actually recommend the product. For example, someone may have a positive view of the company and express that in their review, but ultimately be a 0 in the recommendation column (if they don't specifically like the actual product)."
   ]
  },
  {
   "cell_type": "markdown",
   "id": "ed289205",
   "metadata": {},
   "source": [
    "Overall it is frustrating to me to not have well performing models on novel data (for this lab and for the previous lab -- CNNs).\n",
    "\n",
    "I have learned a great deal during this course but ultimately have failed to progress completely to the stage of mastery of machine learning that would enable me to make actually useful neural networks.\n",
    "\n",
    "Thank you for everything you have done for me during this course!... my machine learning journey continues!"
   ]
  }
 ],
 "metadata": {
  "kernelspec": {
   "display_name": "Python 3 (ipykernel)",
   "language": "python",
   "name": "python3"
  },
  "language_info": {
   "codemirror_mode": {
    "name": "ipython",
    "version": 3
   },
   "file_extension": ".py",
   "mimetype": "text/x-python",
   "name": "python",
   "nbconvert_exporter": "python",
   "pygments_lexer": "ipython3",
   "version": "3.9.13"
  }
 },
 "nbformat": 4,
 "nbformat_minor": 5
}

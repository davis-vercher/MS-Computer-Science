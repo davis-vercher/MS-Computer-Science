{
 "cells": [
  {
   "cell_type": "markdown",
   "id": "c106a086",
   "metadata": {
    "pycharm": {
     "name": "#%% md\n"
    }
   },
   "source": [
    "## "
   ]
  },
  {
   "cell_type": "markdown",
   "id": "7a01c6e2",
   "metadata": {
    "pycharm": {
     "name": "#%% md\n"
    }
   },
   "source": [
    "### Assignment 3\n",
    "\n",
    "## Pyton Coding Guidelines (https://peps.python.org/pep-0008)\n",
    "\n",
    "## For each problem you need to write code for a function based on the requirements. \n",
    "- The function initally only contains the code 'pass' which does nothing\n",
    "- Your task is to write correct code that follows the coding guidelines.\n",
    "- In the cell following the code cell, the assertion statements that will test your code.\n",
    "- If there is an error, the assertion will throw an Error.\n",
    "- If you pass all the assertions, you will see the print statement display 'Passed'\n",
    "\n",
    "\n",
    "## Rename this Jupyter Notebook as: a3.lastname.ipynb\n",
    "## Submit your notebook to Canvas in a zip file named as: a3.lastname.zip\n",
    "### be sure to name BOTH the zip and notebook it with YOUR last name\n",
    "- be sure to name it with YOUR last name"
   ]
  },
  {
   "cell_type": "markdown",
   "id": "a806043b",
   "metadata": {
    "pycharm": {
     "name": "#%% md\n"
    }
   },
   "source": [
    "## Name and SMU ID"
   ]
  },
  {
   "cell_type": "code",
   "execution_count": null,
   "id": "46791955",
   "metadata": {
    "pycharm": {
     "name": "#%%\n"
    }
   },
   "outputs": [],
   "source": [
    "# Name: Davis Vercher\n",
    "# SMU ID: 49377022"
   ]
  },
  {
   "cell_type": "markdown",
   "id": "6ba1a4c1",
   "metadata": {
    "pycharm": {
     "name": "#%% md\n"
    }
   },
   "source": [
    "## Problem 1\n",
    "\n",
    "- Write a function gen_dict_from_lists(list1, list2) \n",
    "- return a dictionary such that items from list1 are the keys and items from list2 are the values\n",
    "\n",
    "\n",
    "\n"
   ]
  },
  {
   "cell_type": "code",
   "execution_count": 3,
   "id": "a77acb0d",
   "metadata": {
    "pycharm": {
     "name": "#%%\n"
    }
   },
   "outputs": [],
   "source": [
    "#  Write code \n",
    "def gen_dict_from_lists(list1, list2):\n",
    "    return dict(zip(list1, list2))"
   ]
  },
  {
   "cell_type": "code",
   "execution_count": 4,
   "id": "e082eb38",
   "metadata": {
    "pycharm": {
     "name": "#%%\n"
    }
   },
   "outputs": [
    {
     "name": "stdout",
     "output_type": "stream",
     "text": [
      "Passed\n"
     ]
    }
   ],
   "source": [
    "# Assertions for sum_all \n",
    "# Execute this cell after completing the function.\n",
    "\n",
    "keys = ['Ten', 'Twenty', 'Thirty']\n",
    "values = [10, 20, 30]\n",
    "\n",
    "assert gen_dict_from_lists(keys, values) == {'Ten': 10, 'Twenty': 20, 'Thirty': 30}\n",
    "print (\"Passed\")"
   ]
  },
  {
   "cell_type": "markdown",
   "id": "72ffdd8a",
   "metadata": {
    "pycharm": {
     "name": "#%% md\n"
    }
   },
   "source": [
    "## Problem 2: \n",
    "##  Write code for a function gen_new_dict(key_list, val_list):\n",
    "- that generates a dict based on two lists:\n",
    "- first parameter -  list contains a list of keys\n",
    "- second paramteter - list of value\n",
    "- if the length of the two parameter lists are unequal, return None"
   ]
  },
  {
   "cell_type": "code",
   "execution_count": 5,
   "id": "f796f329",
   "metadata": {
    "pycharm": {
     "name": "#%%\n"
    }
   },
   "outputs": [],
   "source": [
    "# code\n",
    "\n",
    "def gen_new_dict(key_list, val_list):\n",
    "    if len(key_list) != len(val_list):\n",
    "        return None\n",
    "    else:\n",
    "        return dict(zip(key_list, val_list))"
   ]
  },
  {
   "cell_type": "code",
   "execution_count": 6,
   "id": "6263c2d5",
   "metadata": {
    "pycharm": {
     "name": "#%%\n"
    }
   },
   "outputs": [
    {
     "name": "stdout",
     "output_type": "stream",
     "text": [
      "Passed\n"
     ]
    }
   ],
   "source": [
    "val_list = [10,20,30,40]\n",
    "key_list = ['Moe', 'Willy', 'Curly', 'Larry']          \n",
    "val_list2 = [11,22,33]\n",
    "\n",
    "assert gen_new_dict(key_list, val_list) == {'Moe': 10, 'Willy': 20, 'Curly': 30, 'Larry': 40}\n",
    "assert gen_new_dict(key_list, val_list2) == None\n",
    "print (\"Passed\")"
   ]
  },
  {
   "cell_type": "markdown",
   "id": "287f897e",
   "metadata": {
    "pycharm": {
     "name": "#%% md\n"
    }
   },
   "source": [
    "## Problem 3:\n",
    "## Write a function gen_new_dict(dict1, person_salary_list):\n",
    "- generates a new dict where the salary of persons on the person_salary_list updates valus in the original dictionary\n",
    "- example:\n",
    "<code>\n",
    "company_dict = {\n",
    "    'emp1': {'name': 'Jack', 'salary': 7500},\n",
    "    'emp2': {'name': 'Emma', 'salary': 8000},\n",
    "    'emp3': {'name': 'Brad', 'salary': 500}\n",
    "}\n",
    "</code>\n",
    "\n",
    "\n",
    "person_salary_list = [('Jack', 8800), ('Brad', 5000)]\n",
    "    \n",
    "### NEW DICT\n",
    "<code>   \n",
    "company_dict2 == {\n",
    "    'emp1': {'name': 'Jack', 'salary': 8800},\n",
    "    'emp2': {'name': 'Emma', 'salary': 8000},\n",
    "    'emp3': {'name': 'Brad', 'salary': 5000}\n",
    "}   \n",
    "    \n",
    "</code>    \n"
   ]
  },
  {
   "cell_type": "code",
   "execution_count": 29,
   "id": "c377cae8",
   "metadata": {
    "pycharm": {
     "name": "#%%\n"
    }
   },
   "outputs": [],
   "source": [
    "# A3 code\n",
    "def gen_new_dict(dict1, person_salary_list):\n",
    "    new_dict = dict1.copy()\n",
    "\n",
    "    for key in new_dict:\n",
    "        for name, salary in person_salary_list:\n",
    "            if new_dict[key]['name'] == name:\n",
    "                new_dict[key]['salary'] = salary\n",
    "    return new_dict"
   ]
  },
  {
   "cell_type": "code",
   "execution_count": 30,
   "id": "204758c5",
   "metadata": {
    "pycharm": {
     "name": "#%%\n"
    }
   },
   "outputs": [
    {
     "name": "stdout",
     "output_type": "stream",
     "text": [
      "Passed\n"
     ]
    }
   ],
   "source": [
    "# A3 assert\n",
    "\n",
    "company_dict = {\n",
    "    'emp1': {'name': 'Jack', 'salary': 7500},\n",
    "    'emp2': {'name': 'Emma', 'salary': 8000},\n",
    "    'emp3': {'name': 'Brad', 'salary': 500}\n",
    "}\n",
    "\n",
    "person_salary_list = [('Jack', 8800), ('Brad', 5000)]\n",
    "\n",
    "company_dict2 = gen_new_dict(company_dict, person_salary_list)\n",
    "\n",
    "assert company_dict2 == {\n",
    "    'emp1': {'name': 'Jack', 'salary': 8800},\n",
    "    'emp2': {'name': 'Emma', 'salary': 8000},\n",
    "    'emp3': {'name': 'Brad', 'salary': 5000}\n",
    "}\n",
    "\n",
    "assert id(company_dict) != id(company_dict2)\n",
    "\n",
    "print (\"Passed\")"
   ]
  },
  {
   "cell_type": "markdown",
   "id": "a03cf19e",
   "metadata": {
    "pycharm": {
     "name": "#%% md\n"
    }
   },
   "source": [
    "## Problem 4\n",
    "## Write a function get_min_value(dict1):\n",
    "\n",
    "- returns the key with the minimum value.\n",
    "- assume all values are integer"
   ]
  },
  {
   "cell_type": "code",
   "execution_count": 37,
   "id": "4f952cee",
   "metadata": {
    "pycharm": {
     "name": "#%%\n"
    }
   },
   "outputs": [],
   "source": [
    "#4 code\n",
    "def  get_min_value(dict1):\n",
    "    min_val = min(dict1.values())\n",
    "    \n",
    "    for key in dict1:\n",
    "        if dict1[key] == min_val:\n",
    "            return key"
   ]
  },
  {
   "cell_type": "code",
   "execution_count": 38,
   "id": "d8f1d1fc",
   "metadata": {
    "pycharm": {
     "name": "#%%\n"
    }
   },
   "outputs": [
    {
     "name": "stdout",
     "output_type": "stream",
     "text": [
      "Passed\n"
     ]
    }
   ],
   "source": [
    "#4 assert\n",
    "\n",
    "sample_dict = {\n",
    "  'Physics': 82,\n",
    "  'Math': 65,\n",
    "  'History': 75\n",
    "}\n",
    "\n",
    "assert get_min_value(sample_dict) == 'Math'\n",
    "\n",
    "print (\"Passed\")"
   ]
  },
  {
   "cell_type": "markdown",
   "id": "0e330d28",
   "metadata": {
    "pycharm": {
     "name": "#%% md\n"
    }
   },
   "source": [
    "## Problem 5: \n",
    "### write a function gen_dict(list1):\n",
    "- returns a dict of where the key is a word in dict1 and the value is the number of times it appears in the list1 parameter\n"
   ]
  },
  {
   "cell_type": "code",
   "execution_count": 49,
   "id": "472e4079",
   "metadata": {
    "pycharm": {
     "name": "#%%\n"
    }
   },
   "outputs": [],
   "source": [
    "def gen_dict(list1):\n",
    "    new_dict = {}\n",
    "    keys_list = []\n",
    "    val_count_list = []\n",
    "    \n",
    "    for i in list1:\n",
    "        if i not in keys_list:\n",
    "            keys_list.append(i)\n",
    "            \n",
    "    for i in keys_list:\n",
    "        val_count = list1.count(i)\n",
    "        val_count_list.append(val_count)\n",
    "        \n",
    "    new_dict = dict(zip(keys_list, val_count_list))\n",
    "    return new_dict"
   ]
  },
  {
   "cell_type": "code",
   "execution_count": 50,
   "id": "87504066",
   "metadata": {
    "pycharm": {
     "name": "#%%\n"
    }
   },
   "outputs": [
    {
     "name": "stdout",
     "output_type": "stream",
     "text": [
      "Passed\n"
     ]
    }
   ],
   "source": [
    "# asserts\n",
    "list1 = ['foo', 'bar', 'foo', 'zork', 'zork', 'zork']\n",
    "assert gen_dict(list1)  == {'foo': 2, 'zork': 3, 'bar':1}\n",
    "\n",
    "print (\"Passed\")"
   ]
  },
  {
   "cell_type": "markdown",
   "id": "15481cc2",
   "metadata": {
    "pycharm": {
     "name": "#%%\n"
    }
   },
   "source": [
    "## Problem 6:\n",
    "- Use the Counter class to help generate a dict that tracks the words and the number of times seen in list1"
   ]
  },
  {
   "cell_type": "code",
   "execution_count": 54,
   "id": "c1871f99",
   "metadata": {
    "pycharm": {
     "name": "#%%\n"
    }
   },
   "outputs": [],
   "source": [
    "from collections import Counter\n",
    "\n",
    "# function definition\n",
    "def gen_dict_with_counter(list1):\n",
    "    return dict(Counter(list1))"
   ]
  },
  {
   "cell_type": "code",
   "execution_count": 55,
   "id": "33113d88",
   "metadata": {
    "pycharm": {
     "name": "#%%\n"
    }
   },
   "outputs": [
    {
     "name": "stdout",
     "output_type": "stream",
     "text": [
      "Passed\n"
     ]
    }
   ],
   "source": [
    "# asserts\n",
    "\n",
    "list1 = ['foo', 'bar', 'foo', 'zork', 'zork', 'zork']\n",
    "assert gen_dict_with_counter(list1)  == {'foo': 2, 'zork': 3, 'bar':1}\n",
    "\n",
    "print (\"Passed\")\n"
   ]
  },
  {
   "cell_type": "markdown",
   "id": "15aceed3",
   "metadata": {
    "pycharm": {
     "name": "#%% md\n"
    }
   },
   "source": [
    "## Problem 7:\n",
    "### Write a function word_list_of_most_unique_sentence(bigstr):\n",
    "\n",
    "- returns a list of the words for the sentence in bigstr with the most individual words.\n",
    "- a sentence is any collection of words separated by a period (.)\n",
    "- example: 'joe jumps over the hay' has 5 unique words.  'joe joe jumps jumps hay' has 3\n",
    "- note how the assert uses sets to compare lists for equality"
   ]
  },
  {
   "cell_type": "code",
   "execution_count": 64,
   "id": "c55008ba",
   "metadata": {
    "pycharm": {
     "name": "#%%\n"
    }
   },
   "outputs": [],
   "source": [
    "# code\n",
    "def word_list_of_most_unique_sentence(bigstr):\n",
    "    sentences = bigstr.split(\".\")\n",
    "    max_individual_words = 0\n",
    "    most_unique_sentence = \"\"\n",
    "\n",
    "    for i in sentences:\n",
    "        i = i.replace(',', '')\n",
    "        words = i.split()\n",
    "        unique_words = set(words)\n",
    "        if len(unique_words) > max_individual_words:\n",
    "            max_individual_words = len(unique_words)\n",
    "            most_unique_sentence = i\n",
    "\n",
    "    return most_unique_sentence.split()"
   ]
  },
  {
   "cell_type": "code",
   "execution_count": 65,
   "id": "553ec8be",
   "metadata": {
    "pycharm": {
     "name": "#%%\n"
    },
    "scrolled": true
   },
   "outputs": [
    {
     "name": "stdout",
     "output_type": "stream",
     "text": [
      "Passed\n"
     ]
    }
   ],
   "source": [
    "# asserts\n",
    "bigstr =  \"bob is very bob. go dog go, go dog go, go dog, go dog. zorro had excellent swordplay. love is love. me me me me me.\"\n",
    "\n",
    "w_list = word_list_of_most_unique_sentence(bigstr)\n",
    "\n",
    "assert isinstance(w_list, list) == True\n",
    "assert set(w_list) == set(['zorro', 'had', 'excellent', 'swordplay'])\n",
    "\n",
    "print (\"Passed\")\n"
   ]
  },
  {
   "cell_type": "markdown",
   "id": "559d68ed",
   "metadata": {
    "pycharm": {
     "name": "#%% md\n"
    }
   },
   "source": [
    "## Problem 8:\n",
    "### Write a function number_of_alpha_sentences(big_str):\n",
    "- return the number of sentences in big_str that have only alphabetic characters and spaces.\n",
    "- the alphabetic characters may be upper or lower case\n"
   ]
  },
  {
   "cell_type": "code",
   "execution_count": 84,
   "id": "4762fede",
   "metadata": {
    "pycharm": {
     "name": "#%%\n"
    }
   },
   "outputs": [],
   "source": [
    "#function definition\n",
    "def number_of_alpha_sentences(big_str):\n",
    "    sentences = big_str.split(\".\")\n",
    "    sentences = sentences[:-1]\n",
    "    count = 0\n",
    "\n",
    "    for i in sentences:\n",
    "        i = i.strip()\n",
    "        is_alpha_sentence = True\n",
    "        for char in i:\n",
    "            if not (char.isalpha() or char.isspace()):\n",
    "                is_alpha_sentence = False\n",
    "                break\n",
    "        if is_alpha_sentence:\n",
    "            count += 1\n",
    "    \n",
    "    return count"
   ]
  },
  {
   "cell_type": "code",
   "execution_count": 85,
   "id": "8b75d298",
   "metadata": {
    "pycharm": {
     "name": "#%%\n"
    },
    "scrolled": true
   },
   "outputs": [
    {
     "name": "stdout",
     "output_type": "stream",
     "text": [
      "Passed\n"
     ]
    }
   ],
   "source": [
    "#asserts\n",
    "\n",
    "big_str = \"Bob ate 9 pizzas. Zelda    called the doctor. The doctor said maybe he should go on TV. Zelda gave him 2 aspirin.\"\n",
    "\n",
    "assert number_of_alpha_sentences(big_str) == 2\n",
    "\n",
    "print (\"Passed\")"
   ]
  },
  {
   "cell_type": "markdown",
   "id": "9d218e1f",
   "metadata": {
    "pycharm": {
     "name": "#%% md\n"
    }
   },
   "source": [
    "## Problem 9:\n",
    "### Write a function  keep_odd_numbers(s):\n",
    "- returns a string that contains only the odd numbers in the string passed in as s\n"
   ]
  },
  {
   "cell_type": "code",
   "execution_count": 86,
   "id": "fc9badc7",
   "metadata": {
    "pycharm": {
     "name": "#%%\n"
    }
   },
   "outputs": [],
   "source": [
    "# function definition\n",
    "def keep_odd_numbers(s):\n",
    "    new_s = \"\"\n",
    "    for i in s:\n",
    "        if i.isdigit():\n",
    "            if int(i) % 2 != 0:\n",
    "                new_s += i\n",
    "    return new_s"
   ]
  },
  {
   "cell_type": "code",
   "execution_count": 87,
   "id": "46391122",
   "metadata": {
    "pycharm": {
     "name": "#%%\n"
    }
   },
   "outputs": [
    {
     "name": "stdout",
     "output_type": "stream",
     "text": [
      "Passed\n"
     ]
    }
   ],
   "source": [
    "#assert\n",
    "assert keep_odd_numbers(\"abc1234567&&zzxcvcbc9\")  == \"13579\"\n",
    "print (\"Passed\")"
   ]
  },
  {
   "cell_type": "markdown",
   "id": "31cd72ee",
   "metadata": {
    "pycharm": {
     "name": "#%% md\n"
    }
   },
   "source": [
    "## Problem 10:\n",
    "### Write a function is_contained_in(s1, s2):\n",
    "- return True if all the characters in s1 appear in s2"
   ]
  },
  {
   "cell_type": "code",
   "execution_count": 88,
   "id": "79b74a40",
   "metadata": {
    "pycharm": {
     "name": "#%%\n"
    }
   },
   "outputs": [],
   "source": [
    "# function definition\n",
    "def is_contained_in(s1, s2):\n",
    "    for i in s1:\n",
    "        if i not in s2:\n",
    "            return False\n",
    "    return True"
   ]
  },
  {
   "cell_type": "code",
   "execution_count": 89,
   "id": "1de3988f",
   "metadata": {
    "pycharm": {
     "name": "#%%\n"
    }
   },
   "outputs": [
    {
     "name": "stdout",
     "output_type": "stream",
     "text": [
      "Passed\n"
     ]
    }
   ],
   "source": [
    "#asserts \n",
    "assert is_contained_in('AbC', 'DeF') == False\n",
    "assert is_contained_in('Ap', 'Apple Computer') == True\n",
    "assert is_contained_in('Apx', 'Apple Computer') == False\n",
    "print (\"Passed\")"
   ]
  }
 ],
 "metadata": {
  "kernelspec": {
   "display_name": "Python 3 (ipykernel)",
   "language": "python",
   "name": "python3"
  },
  "language_info": {
   "codemirror_mode": {
    "name": "ipython",
    "version": 3
   },
   "file_extension": ".py",
   "mimetype": "text/x-python",
   "name": "python",
   "nbconvert_exporter": "python",
   "pygments_lexer": "ipython3",
   "version": "3.10.9"
  }
 },
 "nbformat": 4,
 "nbformat_minor": 5
}

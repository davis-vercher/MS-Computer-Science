{
 "cells": [
  {
   "cell_type": "code",
   "execution_count": 1,
   "id": "2b50685b",
   "metadata": {},
   "outputs": [],
   "source": [
    "# Assignment OOP\n",
    "# Write the code specified and pass the asserts\n",
    "\n",
    "# Name: Davis Vercher\n",
    "# SMU ID: 49377022"
   ]
  },
  {
   "cell_type": "code",
   "execution_count": 2,
   "id": "dfa3e118",
   "metadata": {},
   "outputs": [],
   "source": [
    "from abc import ABC, abstractmethod\n",
    "\n",
    "class Shape(ABC):\n",
    "\n",
    "    def __init__(self,x,y):\n",
    "        self._x = x\n",
    "        self._y = y\n",
    "        self.color = None\n",
    "\n",
    "    @abstractmethod\n",
    "    def get_area(self):\n",
    "        pass\n",
    "\n",
    "    def set_color(self, color):\n",
    "        self.color = color\n",
    "\n",
    "    def set_x(self, x):\n",
    "        self._x = x\n",
    "\n",
    "    def set_y(self,y):\n",
    "        self._y = y\n",
    "\n",
    "    @property\n",
    "    def x(self):\n",
    "        return self._x\n",
    "\n",
    "    @property\n",
    "    def y (self):\n",
    "        return self._y"
   ]
  },
  {
   "cell_type": "markdown",
   "id": "7d2c1538",
   "metadata": {},
   "source": [
    "## 1 Write a Triangle class\n",
    "- Start with the abstract class Shape given above.\n",
    "- Write a class Triangle that is a subclass of Shape that accepts 4 constructor parameters, x, y, height and base.\n",
    "- Write code for get_area in the Triangle class, where the area is ½ * base * height\n",
    "- Pass the asserts.\n"
   ]
  },
  {
   "cell_type": "code",
   "execution_count": 6,
   "id": "12797589",
   "metadata": {},
   "outputs": [],
   "source": [
    "class Triangle(Shape):\n",
    "    def __init__(self, x, y, height, base):\n",
    "        super().__init__(x, y)\n",
    "        self._height = height\n",
    "        self._base = base\n",
    "\n",
    "    def get_area(self):\n",
    "        return 0.5 * self._base * self._height"
   ]
  },
  {
   "cell_type": "code",
   "execution_count": 11,
   "id": "28ef5cd9",
   "metadata": {},
   "outputs": [],
   "source": [
    "myt = Triangle(2, 0, 20, 5)"
   ]
  },
  {
   "cell_type": "code",
   "execution_count": 12,
   "id": "1caf9e1a",
   "metadata": {},
   "outputs": [
    {
     "name": "stdout",
     "output_type": "stream",
     "text": [
      "Passed OOP1\n"
     ]
    }
   ],
   "source": [
    "# asserts for your Triangle instance\n",
    "\n",
    "assert myt.get_area() == 50.0\n",
    "assert myt.x == 2\n",
    "print (\"Passed OOP1\")"
   ]
  },
  {
   "cell_type": "markdown",
   "id": "42c92789",
   "metadata": {},
   "source": [
    "## 2 Write a subclass of Card called Card21\n",
    "- In this assignment you will create a subclass of cord called Card21 which will have all the features of your super class Card PLUS a property called value, which should return the numeric value of the card for the game of blackjack.\n",
    "- Use the name of the card to determine the value.\n",
    "- All numeric cards should have their face value (2..10)\n",
    "- Jacks, Queens, Kings should have value of 10\n",
    "- Ace should have a value of 11\n"
   ]
  },
  {
   "cell_type": "code",
   "execution_count": 14,
   "id": "df8e3cb5",
   "metadata": {},
   "outputs": [],
   "source": [
    "# The Card Class\n",
    "class Card:\n",
    "    FACES = ['Ace', '2', '3', '4', '5', '6',\n",
    "             '7', '8', '9', '10', 'Jack', 'Queen', 'King']\n",
    "    SUITS = ['Hearts', 'Diamonds', 'Clubs', 'Spades']\n",
    "\n",
    "    def __init__(self, face, suit):\n",
    "        \"\"\"Initialize a Card with a face and suit.\"\"\"\n",
    "        self._face = face\n",
    "        self._suit = suit\n",
    "\n",
    "    @property\n",
    "    def face(self):\n",
    "        \"\"\"Return the Card's self._face value.\"\"\"\n",
    "        return self._face\n",
    "\n",
    "    @property\n",
    "    def suit(self):\n",
    "        \"\"\"Return the Card's self._suit value.\"\"\"\n",
    "        return self._suit\n"
   ]
  },
  {
   "cell_type": "code",
   "execution_count": 15,
   "id": "34bd7bc9",
   "metadata": {},
   "outputs": [],
   "source": [
    "# Define Card21 as a subclass of Card with a property called 'value'\n",
    "class Card21(Card):\n",
    "    def __init__(self, face, suit):\n",
    "        super().__init__(face, suit)\n",
    "    \n",
    "    @property\n",
    "    def value(self):\n",
    "        if self._face == 'Jack' or self._face == 'Queen' or self._face == 'King':\n",
    "            return 10\n",
    "        elif self._face == 'Ace':\n",
    "            return 11\n",
    "        else:\n",
    "            return int(self._face)"
   ]
  },
  {
   "cell_type": "code",
   "execution_count": 19,
   "id": "4a56d999",
   "metadata": {},
   "outputs": [
    {
     "name": "stdout",
     "output_type": "stream",
     "text": [
      "Passed OOP2\n"
     ]
    }
   ],
   "source": [
    "# Pass the following asserts\n",
    "my_card = Card21('Ace','Hearts')\n",
    "assert my_card.value == 11\n",
    "\n",
    "my_card = Card21('Queen','Hearts')\n",
    "assert my_card.value == 10\n",
    "\n",
    "my_card = Card21('2','Hearts')\n",
    "assert my_card.value == 2\n",
    "print (\"Passed OOP2\")"
   ]
  },
  {
   "cell_type": "markdown",
   "id": "f3113027",
   "metadata": {},
   "source": [
    "## 3. Dealer for BlackJack\n",
    "- Create a class called Dealer that follows the rules of Blackjack.\n",
    "- The constructor should accept one parameter - call it hand ( a list of Card21) \n",
    "\n",
    "\n",
    "- Implement a method called hit_stay() which, based on hand, returns either ‘hit’ or ‘stay’ depending on the dealer rules. \n",
    "\n",
    "### Dealer Rules\n",
    "- The dealer should return “hit” if the total value of all the cards in the hand is 16 or less \n",
    "- The dealer should return “stay” if the total value of all the cards in the list is 17 or greater\n",
    "\n",
    "\n",
    "\n",
    "### Handling Aces:\n",
    "- The value of the Ace depends on the dealer’s other cards. \n",
    "- Assume the ace is 11 at first.  \n",
    "- If the sum of cards with an Ace adds up to 16 or less, return ‘hit. \n",
    "- If the  sum is greater than 17 with one ace, return stay. \n",
    "- If the cards have 2 or more aces, count the first ace as 11 and the others as 1. \n",
    "- If that sum < 17 return ‘hit’\n",
    "#### Now things get a bit tricky\n",
    "- If after counting the first ace as 11 and the rest as 1, if the sum > 21, count the first ace as 1\n",
    "- If the new sum < 17 return ‘hit’ else return 'stay'\n",
    "\n"
   ]
  },
  {
   "cell_type": "code",
   "execution_count": 43,
   "id": "1e2a171b",
   "metadata": {},
   "outputs": [],
   "source": [
    "# Define the Class Dealer\n",
    "\n",
    "'Dealer class - handling card input'\n",
    "\n",
    "class Dealer:\n",
    "    def __init__(self, hand):\n",
    "        self.hand = hand\n",
    "    \n",
    "    def hit_or_stay(self):\n",
    "        total = 0\n",
    "        for card in self.hand:\n",
    "            total += card.value\n",
    "        \n",
    "        number_aces = 0\n",
    "        for card in self.hand:\n",
    "            if card.face == 'Ace':\n",
    "                number_aces += 1\n",
    "        \n",
    "        if number_aces == 1:\n",
    "            if total <= 16:\n",
    "                return 'hit'\n",
    "            elif total > 21:\n",
    "                total -= 10\n",
    "                if total < 17:\n",
    "                    return 'hit'\n",
    "                else:\n",
    "                    return 'stay'\n",
    "            else:\n",
    "                return 'stay'\n",
    "            \n",
    "        elif number_aces >= 2:\n",
    "            while total > 21 and number_aces > 0:\n",
    "                total -= 10\n",
    "                number_aces -= 1\n",
    "            if total < 17:\n",
    "                return 'hit'\n",
    "            else:\n",
    "                return 'stay'\n",
    "        \n",
    "        else:\n",
    "            if total <= 16:\n",
    "                return 'hit'\n",
    "            else:\n",
    "                return 'stay'\n",
    "        "
   ]
  },
  {
   "cell_type": "code",
   "execution_count": 44,
   "id": "571a1694",
   "metadata": {},
   "outputs": [
    {
     "name": "stdout",
     "output_type": "stream",
     "text": [
      "Passed OOP3.1\n",
      "Passed OOP3.2\n",
      "Passed OOP3.3\n"
     ]
    }
   ],
   "source": [
    "# Assert \n",
    "hand = []\n",
    "hand.append( Card21(\"Queen\", 'Hearts') )\n",
    "hand.append( Card21(\"Ace\", 'Hearts') )\n",
    "\n",
    "dealer = Dealer(hand)  # expect 21\n",
    "assert dealer.hit_or_stay() == 'stay'\n",
    "print (\"Passed OOP3.1\")\n",
    "\n",
    "\n",
    "# Assert \n",
    "hand = []\n",
    "hand.append( Card21(\"Queen\", 'Hearts') )\n",
    "hand.append( Card21(\"2\", 'Hearts') )\n",
    "\n",
    "dealer = Dealer(hand)  # expect 12\n",
    "assert dealer.hit_or_stay() == 'hit'\n",
    "print (\"Passed OOP3.2\")\n",
    "\n",
    "\n",
    "# Assert \n",
    "hand = []\n",
    "hand.append( Card21(\"Queen\", 'Hearts') )\n",
    "hand.append( Card21(\"9\", 'Hearts') )\n",
    "\n",
    "dealer = Dealer(hand)  # expect 19\n",
    "assert dealer.hit_or_stay() == 'stay'\n",
    "print (\"Passed OOP3.3\")"
   ]
  },
  {
   "cell_type": "code",
   "execution_count": 45,
   "id": "05841b0e",
   "metadata": {
    "scrolled": true
   },
   "outputs": [
    {
     "name": "stdout",
     "output_type": "stream",
     "text": [
      "Passed OOP3.4\n",
      "Passed OOP3.5\n",
      "Passed OOP3.6\n"
     ]
    }
   ],
   "source": [
    "#assert with aces - these can be tricky!\n",
    "hand = []\n",
    "hand.append( Card21(\"Queen\", 'Hearts') )\n",
    "hand.append( Card21(\"2\", 'Hearts') )\n",
    "hand.append( Card21(\"Ace\", 'Hearts') )\n",
    "\n",
    "dealer = Dealer(hand)  # hand value = 13 counting ace as 1 since 11 goes over 21\n",
    "assert dealer.hit_or_stay() == 'hit'\n",
    "print (\"Passed OOP3.4\")\n",
    "\n",
    "\n",
    "#Assert with aces \n",
    "hand = []\n",
    "hand.append( Card21(\"Ace\", 'Spades') )\n",
    "hand.append( Card21(\"2\", 'Hearts') )\n",
    "hand.append( Card21(\"6\", 'Hearts') )\n",
    "hand.append( Card21(\"Ace\", 'Hearts') )\n",
    "hand.append( Card21(\"Ace\", 'Hearts') )\n",
    "\n",
    "dealer = Dealer(hand)  # hand value = 21  one ace=11 other aces=1\n",
    "assert dealer.hit_or_stay() == 'stay'\n",
    "print (\"Passed OOP3.5\")\n",
    "\n",
    "#Assert with aces - \n",
    "hand = []\n",
    "hand.append( Card21(\"Ace\", 'Spades') )\n",
    "hand.append( Card21(\"2\", 'Hearts') )\n",
    "hand.append( Card21(\"6\", 'Hearts') )\n",
    "hand.append( Card21(\"Ace\", 'Hearts') )\n",
    "hand.append( Card21(\"Ace\", 'Hearts') )\n",
    "hand.append( Card21(\"Ace\", 'Hearts') )\n",
    "\n",
    "dealer = Dealer(hand)  # hand value = 12 counting all aces as 1\n",
    "assert dealer.hit_or_stay() == 'hit'\n",
    "\n",
    "print (\"Passed OOP3.6\")"
   ]
  }
 ],
 "metadata": {
  "kernelspec": {
   "display_name": "Python 3 (ipykernel)",
   "language": "python",
   "name": "python3"
  },
  "language_info": {
   "codemirror_mode": {
    "name": "ipython",
    "version": 3
   },
   "file_extension": ".py",
   "mimetype": "text/x-python",
   "name": "python",
   "nbconvert_exporter": "python",
   "pygments_lexer": "ipython3",
   "version": "3.10.9"
  }
 },
 "nbformat": 4,
 "nbformat_minor": 5
}

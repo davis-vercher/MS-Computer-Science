{
 "cells": [
  {
   "cell_type": "markdown",
   "id": "c106a086",
   "metadata": {
    "pycharm": {
     "name": "#%% md\n"
    }
   },
   "source": [
    "## "
   ]
  },
  {
   "cell_type": "markdown",
   "id": "7a01c6e2",
   "metadata": {
    "pycharm": {
     "name": "#%% md\n"
    }
   },
   "source": [
    "## Assignment 2\n",
    "\n",
    "## Pyton Coding Guidelines (https://peps.python.org/pep-0008)\n",
    "\n",
    "## For each problem you need to write code for a function based on the requirements. \n",
    "- The function initally only contains the code 'pass' which does nothing\n",
    "- Your task is to write correct code that follows the coding guidelines.\n",
    "- In the cell following the code cell, the assertion statements that will test your code.\n",
    "- If there is an error, the assertion will throw an Error.\n",
    "- If you pass all the assertions, you will see the print statement display 'Passed'\n",
    "\n",
    "\n",
    "## Rename this Jupyter Notebook as: a2.lastname.ipynb\n",
    "## Submit your notebook to Canvas in a zip file named as: a2.lastname.zip\n",
    "### be sure to name BOTH the zip and notebook it with YOUR last name\n",
    "- be sure to name it with YOUR last name"
   ]
  },
  {
   "cell_type": "markdown",
   "id": "a806043b",
   "metadata": {
    "pycharm": {
     "name": "#%% md\n"
    }
   },
   "source": [
    "## Name and SMU ID"
   ]
  },
  {
   "cell_type": "code",
   "execution_count": 3,
   "id": "46791955",
   "metadata": {
    "pycharm": {
     "name": "#%%\n"
    }
   },
   "outputs": [],
   "source": [
    "# Name: Davis Vercher\n",
    "# SMU ID: 49377022"
   ]
  },
  {
   "cell_type": "markdown",
   "id": "6ba1a4c1",
   "metadata": {
    "pycharm": {
     "name": "#%% md\n"
    }
   },
   "source": [
    "## Problem 1\n",
    "\n",
    "- Write a function sum_all(n) \n",
    "that calculates the sum of all numbers from 1 to a given number n, including n \n"
   ]
  },
  {
   "cell_type": "code",
   "execution_count": 4,
   "id": "a77acb0d",
   "metadata": {
    "pycharm": {
     "name": "#%%\n"
    }
   },
   "outputs": [],
   "source": [
    "#  Write code for these functions\n",
    "\n",
    "def sum_all(n):\n",
    "    total = 0\n",
    "    for i in range(0,n+1):\n",
    "        total += i\n",
    "    return total"
   ]
  },
  {
   "cell_type": "code",
   "execution_count": 5,
   "id": "e082eb38",
   "metadata": {
    "pycharm": {
     "name": "#%%\n"
    }
   },
   "outputs": [
    {
     "name": "stdout",
     "output_type": "stream",
     "text": [
      "Passed\n"
     ]
    }
   ],
   "source": [
    "# Assertions for sum_all \n",
    "# Execute this cell after completing the function.\n",
    "\n",
    "assert sum_all(10) == 55\n",
    "assert sum_all(1) == 1\n",
    "print (\"Passed\")"
   ]
  },
  {
   "cell_type": "markdown",
   "id": "72ffdd8a",
   "metadata": {
    "pycharm": {
     "name": "#%% md\n"
    }
   },
   "source": [
    "## Problem 2: "
   ]
  },
  {
   "cell_type": "code",
   "execution_count": 6,
   "id": "f796f329",
   "metadata": {
    "pycharm": {
     "name": "#%%\n"
    }
   },
   "outputs": [],
   "source": [
    "#  Write code for a function that returns True if n is a prime number, False otherwise.\n",
    "# A Prime Number is a number that cannot be made by multiplying other whole numbers. \n",
    "# A prime number is a natural number greater than 1 that is not a product of two smaller natural numbers\n",
    "\n",
    "def is_prime(n):\n",
    "    if n <= 1:\n",
    "        return False\n",
    "    elif n == 2 or n == 3:\n",
    "        return True\n",
    "    elif n % 2 == 0 or n % 3 == 0:\n",
    "        return False\n",
    "    i = 5\n",
    "    while i * i <= n:\n",
    "        if n % i == 0 or n % (i + 2) == 0:\n",
    "            return False\n",
    "        i += 6\n",
    "    return True"
   ]
  },
  {
   "cell_type": "code",
   "execution_count": 7,
   "id": "6263c2d5",
   "metadata": {
    "pycharm": {
     "name": "#%%\n"
    }
   },
   "outputs": [
    {
     "name": "stdout",
     "output_type": "stream",
     "text": [
      "Passed\n"
     ]
    }
   ],
   "source": [
    "# Assert \n",
    "assert is_prime(37) == True\n",
    "assert is_prime(47) == True\n",
    "assert is_prime(100) == False\n",
    "print (\"Passed\")"
   ]
  },
  {
   "cell_type": "markdown",
   "id": "287f897e",
   "metadata": {
    "pycharm": {
     "name": "#%% md\n"
    }
   },
   "source": [
    "## Problem 3:"
   ]
  },
  {
   "cell_type": "code",
   "execution_count": 8,
   "id": "c377cae8",
   "metadata": {
    "pycharm": {
     "name": "#%%\n"
    }
   },
   "outputs": [],
   "source": [
    "#  Write code for a function sum_primes(n) that returns sum of all the prime numbers p such that 0 < p < n\n",
    "#  Use a for loop and your function from problem 2\n",
    "\n",
    "def sum_primes(n):\n",
    "    total = 0\n",
    "    for i in range(2, n):\n",
    "        if is_prime(i):\n",
    "            total += i\n",
    "    return total"
   ]
  },
  {
   "cell_type": "code",
   "execution_count": 9,
   "id": "204758c5",
   "metadata": {
    "pycharm": {
     "name": "#%%\n"
    }
   },
   "outputs": [
    {
     "name": "stdout",
     "output_type": "stream",
     "text": [
      "Passed\n"
     ]
    }
   ],
   "source": [
    "assert sum_primes(20) == 77\n",
    "assert sum_primes(31) == 129\n",
    "print (\"Passed\")"
   ]
  },
  {
   "cell_type": "markdown",
   "id": "a03cf19e",
   "metadata": {
    "pycharm": {
     "name": "#%% md\n"
    }
   },
   "source": [
    "## Problem 4\n",
    "-  Write code in ONE line for a function sum_primes2(n) \n",
    "-  returns sum of all the prime numbers p such that 0 < p < n\n",
    "- use your is_prime() code from problem 2\n",
    "##  HINT: Use a list comprehension to get this done in one line of code inside your function  "
   ]
  },
  {
   "cell_type": "code",
   "execution_count": 10,
   "id": "4f952cee",
   "metadata": {
    "pycharm": {
     "name": "#%%\n"
    },
    "scrolled": true
   },
   "outputs": [],
   "source": [
    "def sum_primes2(n):\n",
    "    return sum(i for i in range(2, n) if is_prime(i))"
   ]
  },
  {
   "cell_type": "code",
   "execution_count": 11,
   "id": "d8f1d1fc",
   "metadata": {
    "pycharm": {
     "name": "#%%\n"
    }
   },
   "outputs": [
    {
     "name": "stdout",
     "output_type": "stream",
     "text": [
      "Passed\n"
     ]
    }
   ],
   "source": [
    "assert sum_primes2(20) == 77\n",
    "assert sum_primes2(31) == 129\n",
    "print (\"Passed\")"
   ]
  },
  {
   "cell_type": "markdown",
   "id": "0e330d28",
   "metadata": {
    "pycharm": {
     "name": "#%% md\n"
    }
   },
   "source": [
    "## Problem 5: \n",
    "### write a function is_perfect_square(n)   that:\n",
    "- returns True of n is a perfect square, False otherwise\n",
    "- a perfect square is a number that is the product of the same 2 integers\n",
    "- example perfect squares: \n",
    "-- 4 = 2 * 2   \n",
    "-- 16 = 4 * 4   \n"
   ]
  },
  {
   "cell_type": "code",
   "execution_count": 12,
   "id": "472e4079",
   "metadata": {
    "pycharm": {
     "name": "#%%\n"
    }
   },
   "outputs": [],
   "source": [
    "def is_perfect_square(n):\n",
    "    if n < 0:\n",
    "        return False\n",
    "    square_root = int(n ** 0.5)\n",
    "    if square_root ** 2 == n:\n",
    "        return True\n",
    "    else:\n",
    "        return False"
   ]
  },
  {
   "cell_type": "code",
   "execution_count": 13,
   "id": "87504066",
   "metadata": {
    "pycharm": {
     "name": "#%%\n"
    }
   },
   "outputs": [
    {
     "name": "stdout",
     "output_type": "stream",
     "text": [
      "Passed\n"
     ]
    }
   ],
   "source": [
    "# asserts for is_perfect_square(n) \n",
    "assert is_perfect_square(4)    == True\n",
    "assert is_perfect_square(16)   == True\n",
    "assert is_perfect_square(100)  == True\n",
    "assert is_perfect_square(101)  == False\n",
    "print (\"Passed\")"
   ]
  },
  {
   "cell_type": "markdown",
   "id": "15481cc2",
   "metadata": {
    "pycharm": {
     "name": "#%%\n"
    }
   },
   "source": [
    "## Problem 6:\n",
    "- The famous Fibonacci sequence is one where each number is the sum of the previous 2 numbers:\n",
    "- (starting with 0, 1) as in:  0, 1, 1, 2, 3, 5, 8, 13, 21, 34, 55, 89, 144, ..- \n",
    "- An interesting property of a fibonacci number is that a number  n is fibonacci if and only if one or both of:\n",
    "-- (5*n$x^{2}$ + 4) or (5*n$x^{2}$ -4) is a PERFECT SQUARE  (Problem 5!) \n",
    "- write a boolean function is_fibo(n) that returns True if n is a fibonacci number, False otherwise\n",
    "-- use your is_perfect_square function (Problem 5)"
   ]
  },
  {
   "cell_type": "code",
   "execution_count": 14,
   "id": "c1871f99",
   "metadata": {
    "pycharm": {
     "name": "#%%\n"
    }
   },
   "outputs": [],
   "source": [
    "# function definition\n",
    "def is_fibo(n):\n",
    "    if is_perfect_square(5 * n * n + 4) or is_perfect_square(5 * n * n - 4):\n",
    "        return True\n",
    "    else:\n",
    "        return False"
   ]
  },
  {
   "cell_type": "code",
   "execution_count": 15,
   "id": "33113d88",
   "metadata": {
    "pycharm": {
     "name": "#%%\n"
    }
   },
   "outputs": [
    {
     "name": "stdout",
     "output_type": "stream",
     "text": [
      "Passed\n"
     ]
    }
   ],
   "source": [
    "#asserts for is_fibo(n)\n",
    "assert is_fibo(5) == True\n",
    "assert is_fibo(21) == True\n",
    "assert is_fibo(55) == True\n",
    "assert is_fibo(33) == False\n",
    "assert is_fibo(100) == False\n",
    "print (\"Passed\")\n"
   ]
  },
  {
   "cell_type": "markdown",
   "id": "15aceed3",
   "metadata": {
    "pycharm": {
     "name": "#%% md\n"
    }
   },
   "source": [
    "## Problem 7:\n",
    "### Write a function is_monotonic (my_list) that:\n",
    "- returns True if the list is monotonic increasing or monotonic descreasing, False otherwise\n",
    "- a list is monotonic increasing if the sequence increases or stays the same:\n",
    "--  2,3,5,6,6,7\n",
    "- a list is monotonic decreasing if the sequence decreases or stays the same:\n",
    "-- 9,8,8,7,4,2\n"
   ]
  },
  {
   "cell_type": "code",
   "execution_count": 54,
   "id": "c55008ba",
   "metadata": {
    "pycharm": {
     "name": "#%%\n"
    }
   },
   "outputs": [],
   "source": [
    "# it is permissible to write helper functions to simplify your logic\n",
    "# .. up to you\n",
    "def decreasing(my_list):\n",
    "    for i in range(len(my_list)-1):\n",
    "        if my_list[i] < my_list[i+1]:\n",
    "            return False\n",
    "    return True\n",
    "\n",
    "\n",
    "def increasing(my_list):\n",
    "    for i in range(len(my_list)-1):\n",
    "        if my_list[i] > my_list[i+1]:\n",
    "            return False\n",
    "    return True\n",
    "\n",
    "\n",
    "def is_monotonic(my_list):\n",
    "    return decreasing(my_list) or increasing(my_list)"
   ]
  },
  {
   "cell_type": "code",
   "execution_count": 55,
   "id": "553ec8be",
   "metadata": {
    "pycharm": {
     "name": "#%%\n"
    }
   },
   "outputs": [
    {
     "name": "stdout",
     "output_type": "stream",
     "text": [
      "Passed\n"
     ]
    }
   ],
   "source": [
    "# asserts for  is_monotonic()\n",
    "assert is_monotonic([2,3,4,6,8]) == True\n",
    "assert is_monotonic([2,3,5,2,9]) == False\n",
    "assert is_monotonic([100,99,66, 44]) == True\n",
    "assert is_monotonic([100,99,66, 88]) == False\n",
    "print (\"Passed\")\n"
   ]
  },
  {
   "cell_type": "markdown",
   "id": "559d68ed",
   "metadata": {
    "pycharm": {
     "name": "#%% md\n"
    }
   },
   "source": [
    "## Problem 8:\n",
    "### Write a function calc_2(a, b): \n",
    "- return two values\n",
    "- the first value should be the sum of a and b\n",
    "- the second value: a - b\n"
   ]
  },
  {
   "cell_type": "code",
   "execution_count": 58,
   "id": "4762fede",
   "metadata": {
    "pycharm": {
     "name": "#%%\n"
    }
   },
   "outputs": [],
   "source": [
    "#function definition\n",
    "def calc_2(a,b):\n",
    "    x = a + b\n",
    "    y = a - b\n",
    "    return (x, y)\n"
   ]
  },
  {
   "cell_type": "code",
   "execution_count": 59,
   "id": "8b75d298",
   "metadata": {
    "pycharm": {
     "name": "#%%\n"
    }
   },
   "outputs": [
    {
     "name": "stdout",
     "output_type": "stream",
     "text": [
      "Passed\n"
     ]
    }
   ],
   "source": [
    "#asserts for calc_2\n",
    "assert calc_2(10, 2) == (12, 8)\n",
    "assert calc_2(-10, 2) == (-8, -12)\n",
    "\n",
    "print (\"Passed\")"
   ]
  },
  {
   "cell_type": "markdown",
   "id": "0439e474",
   "metadata": {},
   "source": [
    "## Problem 9:\n",
    "### Write a function average_of_digits(str) based on:\n",
    "- return the average of all the digits contained in the string str\n"
   ]
  },
  {
   "cell_type": "code",
   "execution_count": 64,
   "id": "fc9badc7",
   "metadata": {
    "pycharm": {
     "name": "#%%\n"
    }
   },
   "outputs": [],
   "source": [
    "# function definition\n",
    "def average_of_digits(str):\n",
    "    num_list = []\n",
    "    for i in str:\n",
    "        if i.isdigit():\n",
    "            num_list.append(int(i))\n",
    "    if len(num_list) == 0:\n",
    "        return 0\n",
    "    else:\n",
    "        return sum(num_list) / len(num_list)"
   ]
  },
  {
   "cell_type": "code",
   "execution_count": 65,
   "id": "46391122",
   "metadata": {
    "pycharm": {
     "name": "#%%\n"
    }
   },
   "outputs": [
    {
     "name": "stdout",
     "output_type": "stream",
     "text": [
      "Passed\n"
     ]
    }
   ],
   "source": [
    "#asserts for compute_grade()\n",
    "assert average_of_digits('a399z') == 7\n",
    "assert average_of_digits('abc') == 0\n",
    "assert average_of_digits('a2b2c2') == 2\n",
    "print (\"Passed\")"
   ]
  },
  {
   "cell_type": "markdown",
   "id": "31cd72ee",
   "metadata": {
    "pycharm": {
     "name": "#%% md\n"
    }
   },
   "source": [
    "## Problem 10:\n",
    "### Write a function new_string(s1, s2) that returns a string that consists of s1 and s2's first, middle and last characters.\n",
    "- if either s1 or s2 has an even number of characters, return None"
   ]
  },
  {
   "cell_type": "code",
   "execution_count": 66,
   "id": "79b74a40",
   "metadata": {
    "pycharm": {
     "name": "#%%\n"
    }
   },
   "outputs": [],
   "source": [
    "# function definition\n",
    "def new_string(s1, s2):\n",
    "    if len(s1) % 2 == 0 or len(s2) % 2 == 0:\n",
    "        return None\n",
    "    else:\n",
    "        m1 = len(s1) // 2\n",
    "        m2 = len(s2) // 2\n",
    "        return s1[0] + s2[0] + s1[m1] + s2[m2] + s1[-1] + s2[-1]"
   ]
  },
  {
   "cell_type": "code",
   "execution_count": 67,
   "id": "1de3988f",
   "metadata": {
    "pycharm": {
     "name": "#%%\n"
    }
   },
   "outputs": [
    {
     "name": "stdout",
     "output_type": "stream",
     "text": [
      "Passed\n"
     ]
    }
   ],
   "source": [
    "#asserts \n",
    "assert new_string('AbC', 'DeF') == 'ADbeCF'\n",
    "assert new_string('Apple', 'BanjoFret') == 'ABpoet'\n",
    "assert new_string('AbC', 'DeFt') == None\n",
    "print (\"Passed\")"
   ]
  },
  {
   "cell_type": "markdown",
   "id": "3146b929",
   "metadata": {},
   "source": [
    "## Problem 11\n",
    "### Write a function message_from_two_lists (list1, list2) \n",
    "- that creates a string where the first elements of list1 and list2 are concatenated and followed by a space. \n",
    "- Continue for each element of the list. If one list has more elements than the other list, ignore extra elements.\n",
    "- The string you return should not end in a space character"
   ]
  },
  {
   "cell_type": "code",
   "execution_count": 68,
   "id": "ee2e7f50",
   "metadata": {},
   "outputs": [],
   "source": [
    "# function definition\n",
    "def message_from_two_lists(list1, list2):\n",
    "    result = ''\n",
    "    for i in range(min(len(list1), len(list2))):\n",
    "        result += list1[i] + list2[i] + ' '\n",
    "    return result.rstrip()"
   ]
  },
  {
   "cell_type": "code",
   "execution_count": 69,
   "id": "41e709f4",
   "metadata": {},
   "outputs": [
    {
     "name": "stdout",
     "output_type": "stream",
     "text": [
      "Pass\n"
     ]
    }
   ],
   "source": [
    "# asserts\n",
    "assert message_from_two_lists([\"Ho\", 'sp', 'eter'], ['pe', 'rings', 'nal']) == \"Hope springs eternal\"\n",
    "assert message_from_two_lists(['Py', 'inv', 'b', 'Gu', 'Ross'], ['thon', 'ented', 'y', 'ido']) == \"Python invented by Guido\"\n",
    "print (\"Pass\")\n"
   ]
  },
  {
   "cell_type": "markdown",
   "id": "ad8d6383",
   "metadata": {},
   "source": [
    "## Problem 12\n",
    "### Write a function remove(val, list) that removes all occurrences of val from a list and returns a list without any vals"
   ]
  },
  {
   "cell_type": "code",
   "execution_count": 76,
   "id": "2d89d523",
   "metadata": {},
   "outputs": [],
   "source": [
    "def remove(val, list):\n",
    "    new = []\n",
    "    for i in list:\n",
    "        if i != val:\n",
    "            new.append(i)\n",
    "    return new"
   ]
  },
  {
   "cell_type": "code",
   "execution_count": 77,
   "id": "27b59259",
   "metadata": {},
   "outputs": [
    {
     "name": "stdout",
     "output_type": "stream",
     "text": [
      "Pass\n"
     ]
    }
   ],
   "source": [
    "# assert\n",
    "assert remove(4, [1,2,3,4,5,4,7,4]) == [1,2,3,5,7]\n",
    "assert remove(2, [4,2,5,6,2,2]) == [4,5,6]\n",
    "assert remove(9, [4,2,5,6,2,2]) == [4,2,5,6,2,2]\n",
    "print (\"Pass\")"
   ]
  },
  {
   "cell_type": "markdown",
   "id": "3114c693",
   "metadata": {},
   "source": [
    "## Problem 13\n",
    "### Write a function add_to_list_in_tuple(val, tuple) that finds the first list inside a tuple and modifies the first value of that list to val\n",
    "- if there is no list contained in the tuple, return the tuple"
   ]
  },
  {
   "cell_type": "code",
   "execution_count": 84,
   "id": "30f4bc67",
   "metadata": {},
   "outputs": [],
   "source": [
    "def add_to_list_in_tuple(val, tuple):\n",
    "    for i in tuple:\n",
    "        if isinstance(i, list):\n",
    "            i[0] = val\n",
    "            break\n",
    "    return tuple"
   ]
  },
  {
   "cell_type": "code",
   "execution_count": 85,
   "id": "9dfec758",
   "metadata": {},
   "outputs": [
    {
     "name": "stdout",
     "output_type": "stream",
     "text": [
      "Pass\n"
     ]
    }
   ],
   "source": [
    "# assert\n",
    "assert add_to_list_in_tuple(99, (8, 'foo', [1,2,3], 12.44)) == (8, 'foo', [99,2,3], 12.44)\n",
    "assert add_to_list_in_tuple(99, (8, 'foo', (1,2,3), 12.44)) == (8, 'foo', (1,2,3), 12.44)\n",
    "print (\"Pass\")"
   ]
  },
  {
   "cell_type": "markdown",
   "id": "3359ab4c",
   "metadata": {},
   "source": [
    "## Problem 14\n",
    "### Write a function all_same( tuple) that returns True if all the items in a tuple are the same, False otherwise\n",
    "- if the tuple is empty, return None\n"
   ]
  },
  {
   "cell_type": "code",
   "execution_count": 86,
   "id": "7dabce3a",
   "metadata": {},
   "outputs": [],
   "source": [
    "def all_same(tuple):\n",
    "    if len(tuple) == 0:\n",
    "        return None\n",
    "    first = tuple[0]\n",
    "    for i in tuple:\n",
    "        if i != first:\n",
    "            return False\n",
    "    return True"
   ]
  },
  {
   "cell_type": "code",
   "execution_count": 87,
   "id": "c0cffe7b",
   "metadata": {},
   "outputs": [
    {
     "name": "stdout",
     "output_type": "stream",
     "text": [
      "Pass\n"
     ]
    }
   ],
   "source": [
    "# assert\n",
    "\n",
    "assert all_same( (2,2,2,2)) == True\n",
    "assert all_same( (2,2,2,2, 99)) == False\n",
    "assert all_same( ([1,2,3], [1,2,3])) == True\n",
    "assert all_same( ([1,2,3], [1,2,3], [1,2])) == False\n",
    "assert all_same( () ) == None\n",
    "assert all_same( (66,) ) == True\n",
    "print (\"Pass\")\n",
    "\n"
   ]
  },
  {
   "cell_type": "markdown",
   "id": "f6fa323b",
   "metadata": {},
   "source": [
    "## Problem 15\n",
    "### Write a function gen_pwd( ) that returns a password:\n",
    "- at least 10 characters\n",
    "- at least 1 uppercase letter\n",
    "- at least 2 different special characters in ($, *, #, @) \n",
    "- at least 1 digit \n",
    "- the order of the different character classes should change with each call to gen_pwd().\n",
    "-- this means uupercase should not always be followed by special chars followed by digits\n",
    "- the length of the password should not be fixed at one length\n",
    "-- mix it up! hackers can find your password patterns and break your codes"
   ]
  },
  {
   "cell_type": "code",
   "execution_count": 106,
   "id": "43ca08ae",
   "metadata": {},
   "outputs": [],
   "source": [
    "def gen_pwd():\n",
    "    import random\n",
    "    import string\n",
    "    \n",
    "    upper_case = random.choice(string.ascii_uppercase)\n",
    "    special_characters = \"$*#@\"\n",
    "    special1 = special_characters[random.randint(0, 3)]\n",
    "    special2 = special_characters[random.randint(0, 3)]\n",
    "\n",
    "    while special1 == special2:\n",
    "        special2 = special_characters[random.randint(0, 3)]\n",
    "\n",
    "    special = special1 + special2\n",
    "\n",
    "    digit = str(random.randint(0, 9))\n",
    "\n",
    "    requried_items = [upper_case, special, digit]\n",
    "    random.shuffle(requried_items)\n",
    "    \n",
    "    total_len = 0\n",
    "    for i in requried_items:\n",
    "        total_len += len(i)\n",
    "    \n",
    "    password_length = random.randint(10, 15)\n",
    "    while total_len < password_length:\n",
    "        requried_items.append(random.choice(string.ascii_letters + string.digits + special_characters))\n",
    "        total_len += 1\n",
    "    \n",
    "    password = \"\"\n",
    "    for i in requried_items:\n",
    "        for j in i:\n",
    "            password += j\n",
    "    \n",
    "    return password"
   ]
  },
  {
   "cell_type": "code",
   "execution_count": 107,
   "id": "7454d341",
   "metadata": {},
   "outputs": [],
   "source": [
    "def is_legal_pwd(s):   \n",
    "# used in assert - do not remove\n",
    "# at least 10 characters, at least 1 uppercase letter\n",
    "# at least 2 different special characters in ($, *, #, @\n",
    "# at least 1 digit \n",
    "\n",
    "    if (len(s) < 10):  \n",
    "        return False\n",
    "    if len( [c for c in s if(c.isupper())]) == 0: \n",
    "        return False\n",
    "    if len( [d for d in s if d.isdigit()]) < 1: \n",
    "        return False\n",
    "    if len( [z for z in s if z in '$*#@'] ) < 2:\n",
    "        return False\n",
    "    return True"
   ]
  },
  {
   "cell_type": "code",
   "execution_count": 108,
   "id": "61d44446",
   "metadata": {},
   "outputs": [
    {
     "name": "stdout",
     "output_type": "stream",
     "text": [
      "Generated passwords: p1=A2#$U6CX9r p2=W9$#cJifRwPVTSF p3=*@I3h#9K3AUfyv\n",
      "Pass\n"
     ]
    }
   ],
   "source": [
    "# assert \n",
    "\n",
    "p1 = gen_pwd()\n",
    "p2 = gen_pwd()\n",
    "p3 = gen_pwd()\n",
    "print (f\"Generated passwords: p1={p1} p2={p2} p3={p3}\")\n",
    "\n",
    "assert is_legal_pwd(p1) == True\n",
    "assert is_legal_pwd(p2) == True\n",
    "assert is_legal_pwd(p3) == True\n",
    "assert p1 != p2\n",
    "assert len(set([len(p1), len(p2), len(p3)])) > 1\n",
    "print (\"Pass\")"
   ]
  }
 ],
 "metadata": {
  "kernelspec": {
   "display_name": "Python 3 (ipykernel)",
   "language": "python",
   "name": "python3"
  },
  "language_info": {
   "codemirror_mode": {
    "name": "ipython",
    "version": 3
   },
   "file_extension": ".py",
   "mimetype": "text/x-python",
   "name": "python",
   "nbconvert_exporter": "python",
   "pygments_lexer": "ipython3",
   "version": "3.10.9"
  }
 },
 "nbformat": 4,
 "nbformat_minor": 5
}

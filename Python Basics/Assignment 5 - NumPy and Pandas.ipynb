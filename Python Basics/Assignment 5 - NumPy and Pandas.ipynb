{
 "cells": [
  {
   "cell_type": "markdown",
   "id": "f70fb694",
   "metadata": {},
   "source": [
    "## A5  ch07  NumPy and Pandas"
   ]
  },
  {
   "cell_type": "code",
   "execution_count": 15,
   "id": "cd01e6cb",
   "metadata": {},
   "outputs": [],
   "source": [
    "#Name: Davis Vercher\n",
    "#ID: 49377022"
   ]
  },
  {
   "cell_type": "markdown",
   "id": "669b00b6",
   "metadata": {},
   "source": [
    "## 1 NumPy 1\n",
    "- write a function get_rol_col_value(arr1, row, col):\n",
    "- that returns the value in the corresponding row and col in numpy arr1"
   ]
  },
  {
   "cell_type": "code",
   "execution_count": 16,
   "id": "417de0cc",
   "metadata": {},
   "outputs": [],
   "source": [
    "import numpy as np\n",
    "\n",
    "def get_rol_col_value(arr1, row, col):\n",
    "    return arr1[row, col]\n",
    "    "
   ]
  },
  {
   "cell_type": "code",
   "execution_count": 17,
   "id": "b6ce4515",
   "metadata": {},
   "outputs": [
    {
     "name": "stdout",
     "output_type": "stream",
     "text": [
      "#1 Passed\n"
     ]
    }
   ],
   "source": [
    "# assert\n",
    "arr1 = np.arange(1,21).reshape(4,5)\n",
    "assert get_rol_col_value(arr1, 1, 1) == 7\n",
    "print (\"#1 Passed\")\n"
   ]
  },
  {
   "cell_type": "markdown",
   "id": "35cba381",
   "metadata": {},
   "source": [
    "## 2 NumPy 2\n",
    "- write a function gen_numpy1(list1, list2):\n",
    "- that returns a 2x5 numpy array from the 2 lists "
   ]
  },
  {
   "cell_type": "code",
   "execution_count": 18,
   "id": "517110d0",
   "metadata": {},
   "outputs": [],
   "source": [
    "# code\n",
    "import numpy as np\n",
    "\n",
    "def gen_numpy1(list1, list2):\n",
    "    output_array = np.array([list1, list2])\n",
    "    return output_array"
   ]
  },
  {
   "cell_type": "code",
   "execution_count": 19,
   "id": "62e47562",
   "metadata": {},
   "outputs": [
    {
     "name": "stdout",
     "output_type": "stream",
     "text": [
      "#2 Passed\n"
     ]
    }
   ],
   "source": [
    "# assert\n",
    "list1 = [2,4,6,8,10]\n",
    "list2 = [3,6,9,12,15]\n",
    "assert list(gen_numpy1(list1, list2)[1]) == [3, 6, 9, 12, 15]\n",
    "print (\"#2 Passed\")"
   ]
  },
  {
   "cell_type": "markdown",
   "id": "0e6493fb",
   "metadata": {},
   "source": [
    "## 3 Numpy 3\n",
    "- write a function get_row_sum(nparr, row_number):\n",
    "- return the sum of row 'row_number' in the numpy array 'nparr'"
   ]
  },
  {
   "cell_type": "code",
   "execution_count": 20,
   "id": "b17aaa11",
   "metadata": {},
   "outputs": [],
   "source": [
    "def get_row_sum(nparr, row_number):\n",
    "    total = 0\n",
    "    \n",
    "    for i in nparr[row_number]:\n",
    "        total += i\n",
    "        \n",
    "    return total"
   ]
  },
  {
   "cell_type": "code",
   "execution_count": 21,
   "id": "ceedfadf",
   "metadata": {},
   "outputs": [
    {
     "name": "stdout",
     "output_type": "stream",
     "text": [
      "#3 Passed\n"
     ]
    }
   ],
   "source": [
    "# assert\n",
    "arr1 = np.arange(1,21).reshape(4,5)\n",
    "\n",
    "assert get_row_sum(arr1, 1) == 40\n",
    "print (\"#3 Passed\")"
   ]
  },
  {
   "cell_type": "markdown",
   "id": "7d11d390",
   "metadata": {},
   "source": [
    "## 4 Numpy 4\n",
    "- write a function get_col_sum(nparr, col_number):\n",
    "- return the sum of col 'col_number' in the numpy array 'nparr'"
   ]
  },
  {
   "cell_type": "code",
   "execution_count": 22,
   "id": "cf01c220",
   "metadata": {},
   "outputs": [],
   "source": [
    "#code\n",
    "def get_col_sum(nparr, col_number):\n",
    "    total = 0\n",
    "    \n",
    "    for row in nparr:\n",
    "        total += row[col_number]\n",
    "    \n",
    "    return total"
   ]
  },
  {
   "cell_type": "code",
   "execution_count": 23,
   "id": "95ec63d6",
   "metadata": {},
   "outputs": [
    {
     "name": "stdout",
     "output_type": "stream",
     "text": [
      "#4 Passed\n"
     ]
    }
   ],
   "source": [
    "# assert\n",
    "arr1 = np.arange(1,21).reshape(4,5)\n",
    "col_number = 1\n",
    "\n",
    "assert get_col_sum(arr1, col_number) == 38\n",
    "print (\"#4 Passed\")"
   ]
  },
  {
   "cell_type": "markdown",
   "id": "8decac9d",
   "metadata": {},
   "source": [
    "## 5 Panda 1 Series\n",
    "- write a function get_series_mean_std(series1):\n",
    "- that returns a tuple with the mean and standard deviation of the series data as integers using the floor function"
   ]
  },
  {
   "cell_type": "code",
   "execution_count": 40,
   "id": "b00aba14",
   "metadata": {},
   "outputs": [],
   "source": [
    "# code\n",
    "import pandas as pd\n",
    "import math\n",
    "\n",
    "def get_series_mean_std(series1):\n",
    "    mean = math.floor(series1.mean())\n",
    "    std = math.floor(series1.std())\n",
    "    return mean, std"
   ]
  },
  {
   "cell_type": "code",
   "execution_count": 44,
   "id": "3e9c5a92",
   "metadata": {},
   "outputs": [
    {
     "name": "stdout",
     "output_type": "stream",
     "text": [
      "I have altered the assert statements. Please see comments below\n"
     ]
    }
   ],
   "source": [
    "# assert\n",
    "s1 = pd.Series(range(20,30))\n",
    "#print(s1)\n",
    "\n",
    "# call function  - get tuple\n",
    "tup = get_series_mean_std(s1)\n",
    "#print(tup)\n",
    "\n",
    "assert tup[0] == 24\n",
    "assert tup[1] == 3\n",
    "print (\"I have altered the assert statements. Please see comments below\")\n"
   ]
  },
  {
   "cell_type": "code",
   "execution_count": 45,
   "id": "48d13aef",
   "metadata": {},
   "outputs": [],
   "source": [
    "#  I believe the original assert statement is wrong (29 mean and 5 std)\n",
    "#  I am getting 24 as the mean (using math.floor) and 3 as the standard deviation.\n",
    "#  I have changed the assert statement values here so the notebook will not throw an error\n",
    "#  but take responsibility for this change and fully understand I may not be given\n",
    "#  points for this question."
   ]
  },
  {
   "cell_type": "markdown",
   "id": "acd9374b",
   "metadata": {},
   "source": [
    "## 6 Panda 2 DataFrame\n",
    "- write a function add_temp_centigrade(filename) that:\n",
    "- creates a dataframe from the csv file\n",
    "- the dataframe contains a column 'temp_f' that shows temperature in farenheit\n",
    "- create a new column in the dataframe called  'temp_c' that is the centigrade conversion from column 'temp_f'\n",
    "- Display the dataframe with new column\n",
    "- to convert farenheit to centigrade use your earlier function or write code directly (up to you)\n",
    "\n",
    "\n",
    "\n",
    "###  NOTE: there is no assert for this question\n",
    "#### the function add_temp_centigrade should simply DISPLAY the dataframe - \n"
   ]
  },
  {
   "cell_type": "code",
   "execution_count": 46,
   "id": "161f16a5",
   "metadata": {},
   "outputs": [
    {
     "data": {
      "text/html": [
       "<div>\n",
       "<style scoped>\n",
       "    .dataframe tbody tr th:only-of-type {\n",
       "        vertical-align: middle;\n",
       "    }\n",
       "\n",
       "    .dataframe tbody tr th {\n",
       "        vertical-align: top;\n",
       "    }\n",
       "\n",
       "    .dataframe thead th {\n",
       "        text-align: right;\n",
       "    }\n",
       "</style>\n",
       "<table border=\"1\" class=\"dataframe\">\n",
       "  <thead>\n",
       "    <tr style=\"text-align: right;\">\n",
       "      <th></th>\n",
       "      <th>Unnamed: 0</th>\n",
       "      <th>v1</th>\n",
       "      <th>v2</th>\n",
       "      <th>temp_f</th>\n",
       "      <th>temp_c</th>\n",
       "    </tr>\n",
       "  </thead>\n",
       "  <tbody>\n",
       "    <tr>\n",
       "      <th>0</th>\n",
       "      <td>0</td>\n",
       "      <td>12</td>\n",
       "      <td>4</td>\n",
       "      <td>22</td>\n",
       "      <td>-5.6</td>\n",
       "    </tr>\n",
       "    <tr>\n",
       "      <th>1</th>\n",
       "      <td>1</td>\n",
       "      <td>16</td>\n",
       "      <td>12</td>\n",
       "      <td>32</td>\n",
       "      <td>0.0</td>\n",
       "    </tr>\n",
       "    <tr>\n",
       "      <th>2</th>\n",
       "      <td>2</td>\n",
       "      <td>16</td>\n",
       "      <td>6</td>\n",
       "      <td>6</td>\n",
       "      <td>-14.4</td>\n",
       "    </tr>\n",
       "    <tr>\n",
       "      <th>3</th>\n",
       "      <td>3</td>\n",
       "      <td>3</td>\n",
       "      <td>4</td>\n",
       "      <td>0</td>\n",
       "      <td>-17.8</td>\n",
       "    </tr>\n",
       "  </tbody>\n",
       "</table>\n",
       "</div>"
      ],
      "text/plain": [
       "   Unnamed: 0  v1  v2  temp_f  temp_c\n",
       "0           0  12   4      22    -5.6\n",
       "1           1  16  12      32     0.0\n",
       "2           2  16   6       6   -14.4\n",
       "3           3   3   4       0   -17.8"
      ]
     },
     "execution_count": 46,
     "metadata": {},
     "output_type": "execute_result"
    }
   ],
   "source": [
    "#code\n",
    "# feel free to define a temp conversion function for use\n",
    "\n",
    "import pandas as pd\n",
    "\n",
    "def convert_to_centigrade(temp_f):\n",
    "    temp_c = round(((temp_f - 32) * 5/9), 1)\n",
    "    return temp_c\n",
    "\n",
    "def add_temp_centigrade(filename):\n",
    "    df = pd.read_csv(filename)\n",
    "    df['temp_c'] = convert_to_centigrade(df['temp_f'])\n",
    "    return df\n",
    "   \n",
    "# use this file and display the dataframe with new column    \n",
    "filename = 'a5q6.csv'\n",
    "add_temp_centigrade(filename)\n",
    "    "
   ]
  },
  {
   "cell_type": "markdown",
   "id": "73bbb21f",
   "metadata": {},
   "source": [
    "## 7 Panda 3 DataFrame\n",
    "- write a function add_new_col(filename):\n",
    "- reads the csv file (a5q7.csv) passed as parameter\n",
    "- if the name of the file is not a5q7.csv, return None\n",
    "- add column 'D' to the dataframe that is the sum of columns A, B and C\n",
    "- return the sum of the new column D"
   ]
  },
  {
   "cell_type": "code",
   "execution_count": 47,
   "id": "fc1ba7e8",
   "metadata": {},
   "outputs": [],
   "source": [
    "# code\n",
    "def add_new_col(filename):\n",
    "    if filename != 'a5q7.csv':\n",
    "        return None\n",
    "    \n",
    "    df = pd.read_csv(filename)\n",
    "    df['D'] = df['A'] + df['B'] + df['C']\n",
    "    \n",
    "    return df['D'].sum()"
   ]
  },
  {
   "cell_type": "code",
   "execution_count": 48,
   "id": "a73d4f07",
   "metadata": {},
   "outputs": [
    {
     "name": "stdout",
     "output_type": "stream",
     "text": [
      "#7 Passed\n"
     ]
    }
   ],
   "source": [
    "# assert\n",
    "assert add_new_col('aaa.csv') == None\n",
    "assert add_new_col('a5q7.csv') == 861\n",
    "print (\"#7 Passed\")"
   ]
  },
  {
   "cell_type": "markdown",
   "id": "a4060a9a",
   "metadata": {},
   "source": [
    "## 8 Panda 4 DataFrame\n",
    "- write a function top_world_cup_winner(filename):\n",
    "- reads the csv file worldcup.csv into a dataframe\n",
    "- if filename is not worldcup.csv return None\n",
    "- the dataframe contains a column 'first' for winners of the world cup\n",
    "- write code that returns the country with the most first place wins\n"
   ]
  },
  {
   "cell_type": "code",
   "execution_count": 49,
   "id": "dc20a8aa",
   "metadata": {},
   "outputs": [],
   "source": [
    "#code\n",
    "def top_world_cup_winner(filename):\n",
    "    if filename != 'worldcup.csv':\n",
    "        return None\n",
    "    \n",
    "    df = pd.read_csv(filename)\n",
    "    counts = df['first'].value_counts()\n",
    "    return counts.index[0]"
   ]
  },
  {
   "cell_type": "code",
   "execution_count": 50,
   "id": "aefc46fb",
   "metadata": {},
   "outputs": [
    {
     "name": "stdout",
     "output_type": "stream",
     "text": [
      "#8 Passed\n"
     ]
    }
   ],
   "source": [
    "# assert\n",
    "\n",
    "assert top_world_cup_winner('zzz.csv') == None\n",
    "assert top_world_cup_winner('worldcup.csv') == 'Brazil'\n",
    "print (\"#8 Passed\")"
   ]
  },
  {
   "cell_type": "markdown",
   "id": "ce5bd6dc",
   "metadata": {},
   "source": [
    "## 9 Panda 5 DataFrame\n",
    "- add a row to the wordcup dataframe with the following data:\n",
    "- year: 2022 attendance=2,650,000 first=Argentina second=France third=Croatia fourth=Morocco\n",
    "- location: Qatar\n",
    "- if you have other info add it otherwise use 'None' for unknown\n",
    "\n",
    "### Display a bar graph for the world cup data showing attendance by year including 2022\n",
    "- there is no assert. simply display the bar graph"
   ]
  },
  {
   "cell_type": "code",
   "execution_count": 51,
   "id": "9dfb9c16",
   "metadata": {},
   "outputs": [],
   "source": [
    "import pandas as pd\n",
    "df = pd.read_csv('worldcup.csv')\n",
    "\n",
    "df.loc[-1] = ['wc2022', '2022', 'Qatar', 'Argentina', 'France', 'Croatia', 'Morocco', 'None', 'None', '2650000']\n",
    "df.reset_index(drop = True, inplace = True)"
   ]
  },
  {
   "cell_type": "code",
   "execution_count": 52,
   "id": "47d61a29",
   "metadata": {},
   "outputs": [
    {
     "data": {
      "image/png": "[encoded data removed]",
      "text/plain": [
       "<Figure size 640x480 with 1 Axes>"
      ]
     },
     "metadata": {},
     "output_type": "display_data"
    }
   ],
   "source": [
    "import matplotlib.pyplot as plt\n",
    "\n",
    "df['attendance'] = pd.to_numeric(df['attendance'])\n",
    "\n",
    "ax = df.plot.bar(x='year', y='attendance')\n",
    "ax.set_title('World Cup Attendance by Year')\n",
    "ax.set_ylabel('Attendance')\n",
    "ax.legend().remove()\n",
    "\n",
    "plt.ticklabel_format(style='plain', axis='y')\n",
    "plt.show()"
   ]
  }
 ],
 "metadata": {
  "kernelspec": {
   "display_name": "Python 3 (ipykernel)",
   "language": "python",
   "name": "python3"
  },
  "language_info": {
   "codemirror_mode": {
    "name": "ipython",
    "version": 3
   },
   "file_extension": ".py",
   "mimetype": "text/x-python",
   "name": "python",
   "nbconvert_exporter": "python",
   "pygments_lexer": "ipython3",
   "version": "3.10.9"
  }
 },
 "nbformat": 4,
 "nbformat_minor": 5
}
